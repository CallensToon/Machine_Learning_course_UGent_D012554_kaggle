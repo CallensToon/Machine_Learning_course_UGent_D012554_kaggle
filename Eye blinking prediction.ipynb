{
  "nbformat": 4,
  "nbformat_minor": 0,
  "metadata": {
    "kernelspec": {
      "display_name": "Python 3",
      "language": "python",
      "name": "python3"
    },
    "language_info": {
      "codemirror_mode": {
        "name": "ipython",
        "version": 3
      },
      "file_extension": ".py",
      "mimetype": "text/x-python",
      "name": "python",
      "nbconvert_exporter": "python",
      "pygments_lexer": "ipython3",
      "version": "3.7.3"
    },
    "colab": {
      "name": "Eye blinking prediction.ipynb",
      "provenance": [],
      "toc_visible": true
    }
  },
  "cells": [
    {
      "cell_type": "markdown",
      "metadata": {
        "id": "d38-2RH9CBsM",
        "colab_type": "text"
      },
      "source": [
        "# **FIRST ATTEMPT**"
      ]
    },
    {
      "cell_type": "code",
      "metadata": {
        "id": "52xHOyHDXxao",
        "colab_type": "code",
        "outputId": "4ad120b0-eb5f-4af6-a7a7-8731d2f1955b",
        "colab": {
          "base_uri": "https://localhost:8080/",
          "height": 51
        }
      },
      "source": [
        "%matplotlib inline\n",
        "import pandas as pd;\n",
        "import seaborn as sns;\n",
        "import numpy as np;\n",
        "import matplotlib.pyplot as plt;"
      ],
      "execution_count": 0,
      "outputs": [
        {
          "output_type": "stream",
          "text": [
            "/usr/local/lib/python3.6/dist-packages/statsmodels/tools/_testing.py:19: FutureWarning: pandas.util.testing is deprecated. Use the functions in the public API at pandas.testing instead.\n",
            "  import pandas.util.testing as tm\n"
          ],
          "name": "stderr"
        }
      ]
    },
    {
      "cell_type": "markdown",
      "metadata": {
        "id": "goRLnuyRXxaw",
        "colab_type": "text"
      },
      "source": [
        "\n",
        "<img src=\"https://raw.githubusercontent.com/sdgroeve/Machine_Learning_course_UGent_D012554_kaggle/master/header.png\" alt=\"drawing\"/>\n"
      ]
    },
    {
      "cell_type": "markdown",
      "metadata": {
        "id": "tsJ4TbSlXxax",
        "colab_type": "text"
      },
      "source": [
        "A multi-channel electroencephalography (EEG) system enables a broad range of applications including neurotherapy, biofeedback, and brain computer interfacing. The dataset you will analyse is created with the [Emotiv EPOC+](https://www.emotiv.com/product/emotiv-epoc-14-channel-mobile-eeg).  \n",
        "\n",
        "It has 14 EEG channels with names based on the International 10-20 locations: AF3, F7, F3, FC5, T7, P7, O1, O2, P8, T8, FC6, F4, F8, AF4:\n",
        "\n",
        "<br/>\n",
        "<br/>\n",
        "<center>\n",
        "<img src=\"https://raw.githubusercontent.com/sdgroeve/Machine_Learning_course_UGent_D012554_kaggle/master/EEG.png\" alt=\"drawing\" width=\"200\"/>\n",
        "<center/>\n",
        "<br/>\n",
        "<br/>\n"
      ]
    },
    {
      "cell_type": "markdown",
      "metadata": {
        "id": "HzXBqhLUfxyh",
        "colab_type": "text"
      },
      "source": [
        "All data is from one continuous EEG measurement with the Emotiv EEG Neuroheadset. \n",
        "\n",
        "The experiment was conducted on one person only. The duration of the measurement was around 117 seconds.\n",
        "\n",
        "From the paper:\n",
        "\n",
        "> *The experiment was carried out in a quiet room. During\n",
        "the experiment, the proband was being videotaped. To prevent\n",
        "artifacts, the proband was not aware of the exact start time\n",
        "of the measurement. Instead, he was told to sit relaxed, look\n",
        "straight to the camera, and change the eye state at free will.\n",
        "Only additional constraint was that, accumulated over the\n",
        "entire session, the duration of both eye states should be about\n",
        "the same and that the individual intervals should vary greatly\n",
        "in length (from eye blinking to longer stretches)...*\n",
        "\n",
        "The eye state was detected via a camera during the EEG measurement and later added manually to the file after analyzing the video frames. \n",
        "\n",
        "A label '1' indicates the eye-closed and '0' the eye-open state.\n",
        "\n",
        "(*Source: Oliver Roesler, Stuttgart, Germany*)"
      ]
    },
    {
      "cell_type": "markdown",
      "metadata": {
        "id": "1rHopvjFXxay",
        "colab_type": "text"
      },
      "source": [
        "Let's load the train and test set:"
      ]
    },
    {
      "cell_type": "code",
      "metadata": {
        "id": "aw7NaXHYXxaz",
        "colab_type": "code",
        "colab": {}
      },
      "source": [
        "trainset = pd.read_csv(\"https://raw.githubusercontent.com/sdgroeve/Machine_Learning_course_UGent_D012554_kaggle/master/eeg_train.csv\")\n",
        "\n",
        "testset = pd.read_csv(\"https://raw.githubusercontent.com/sdgroeve/Machine_Learning_course_UGent_D012554_kaggle/master/eeg_test.csv\")\n",
        "\n",
        "sample_submission = pd.read_csv(\"https://raw.githubusercontent.com/sdgroeve/Machine_Learning_course_UGent_D012554_kaggle/master/sample_submission.csv\")\n"
      ],
      "execution_count": 0,
      "outputs": []
    },
    {
      "cell_type": "markdown",
      "metadata": {
        "id": "Xa4COLVgY48t",
        "colab_type": "text"
      },
      "source": [
        "You will fit a model on the trainset and make predictions on the testset. \n",
        "\n",
        "To submit these predictions to Kaggle you need to write a .csv file with two columns: \n",
        "- `index` that matches the `index` column in the test set.\n",
        "- `label` which is your prediction.\n",
        "\n",
        "Here is an example predictions file for Kaggle:"
      ]
    },
    {
      "cell_type": "code",
      "metadata": {
        "id": "G2Xcd8tvkEqA",
        "colab_type": "code",
        "outputId": "3fc3a0be-873b-45f1-d45a-3bdb3ca44699",
        "colab": {
          "base_uri": "https://localhost:8080/",
          "height": 359
        }
      },
      "source": [
        "sample_submission.head(10)"
      ],
      "execution_count": 0,
      "outputs": [
        {
          "output_type": "execute_result",
          "data": {
            "text/html": [
              "<div>\n",
              "<style scoped>\n",
              "    .dataframe tbody tr th:only-of-type {\n",
              "        vertical-align: middle;\n",
              "    }\n",
              "\n",
              "    .dataframe tbody tr th {\n",
              "        vertical-align: top;\n",
              "    }\n",
              "\n",
              "    .dataframe thead th {\n",
              "        text-align: right;\n",
              "    }\n",
              "</style>\n",
              "<table border=\"1\" class=\"dataframe\">\n",
              "  <thead>\n",
              "    <tr style=\"text-align: right;\">\n",
              "      <th></th>\n",
              "      <th>index</th>\n",
              "      <th>label</th>\n",
              "    </tr>\n",
              "  </thead>\n",
              "  <tbody>\n",
              "    <tr>\n",
              "      <th>0</th>\n",
              "      <td>0</td>\n",
              "      <td>0.168801</td>\n",
              "    </tr>\n",
              "    <tr>\n",
              "      <th>1</th>\n",
              "      <td>1</td>\n",
              "      <td>0.124169</td>\n",
              "    </tr>\n",
              "    <tr>\n",
              "      <th>2</th>\n",
              "      <td>2</td>\n",
              "      <td>0.947757</td>\n",
              "    </tr>\n",
              "    <tr>\n",
              "      <th>3</th>\n",
              "      <td>3</td>\n",
              "      <td>0.069585</td>\n",
              "    </tr>\n",
              "    <tr>\n",
              "      <th>4</th>\n",
              "      <td>4</td>\n",
              "      <td>0.635325</td>\n",
              "    </tr>\n",
              "    <tr>\n",
              "      <th>5</th>\n",
              "      <td>5</td>\n",
              "      <td>0.659027</td>\n",
              "    </tr>\n",
              "    <tr>\n",
              "      <th>6</th>\n",
              "      <td>6</td>\n",
              "      <td>0.653697</td>\n",
              "    </tr>\n",
              "    <tr>\n",
              "      <th>7</th>\n",
              "      <td>7</td>\n",
              "      <td>0.850030</td>\n",
              "    </tr>\n",
              "    <tr>\n",
              "      <th>8</th>\n",
              "      <td>8</td>\n",
              "      <td>0.160489</td>\n",
              "    </tr>\n",
              "    <tr>\n",
              "      <th>9</th>\n",
              "      <td>9</td>\n",
              "      <td>0.843272</td>\n",
              "    </tr>\n",
              "  </tbody>\n",
              "</table>\n",
              "</div>"
            ],
            "text/plain": [
              "   index     label\n",
              "0      0  0.168801\n",
              "1      1  0.124169\n",
              "2      2  0.947757\n",
              "3      3  0.069585\n",
              "4      4  0.635325\n",
              "5      5  0.659027\n",
              "6      6  0.653697\n",
              "7      7  0.850030\n",
              "8      8  0.160489\n",
              "9      9  0.843272"
            ]
          },
          "metadata": {
            "tags": []
          },
          "execution_count": 3
        }
      ]
    },
    {
      "cell_type": "markdown",
      "metadata": {
        "id": "w7AHk-3elWpy",
        "colab_type": "text"
      },
      "source": [
        "Make sure to save your results without the extra Pandas index column that is written by default:"
      ]
    },
    {
      "cell_type": "code",
      "metadata": {
        "id": "eDU6GW7OeQ5W",
        "colab_type": "code",
        "outputId": "0869a31e-de43-4a14-8077-6d558275ed81",
        "colab": {
          "base_uri": "https://localhost:8080/",
          "height": 493
        }
      },
      "source": [
        "y_train = trainset.pop('label')\n",
        "X_train = trainset\n",
        "X_test = testset.iloc[:,:14]\n",
        "\n",
        "print(X_train.head())\n",
        "print(X_test.head())\n",
        "print(y_train)"
      ],
      "execution_count": 0,
      "outputs": [
        {
          "output_type": "stream",
          "text": [
            "       AF3       F7       F3      FC5  ...      FC6       F4       F8      AF4\n",
            "0  4299.49  3997.44  4277.95  4116.92  ...  4211.79  4278.97  4600.00  4369.23\n",
            "1  4302.05  3985.64  4261.03  4129.74  ...  4195.90  4283.08  4607.18  4358.46\n",
            "2  4321.03  4015.90  4265.13  4122.56  ...  4155.38  4286.15  4608.21  4371.79\n",
            "3  4408.21  4104.10  4380.00  4232.31  ...  4319.49  4388.21  4715.90  4464.10\n",
            "4  4347.18  3975.38  4266.67  4102.56  ...  4248.21  4313.33  4664.10  4411.79\n",
            "\n",
            "[5 rows x 14 columns]\n",
            "       AF3       F7       F3      FC5  ...      FC6       F4       F8      AF4\n",
            "0  4296.41  4040.51  4253.33  4124.10  ...  4197.44  4268.72  4598.46  4342.56\n",
            "1  4291.28  3994.36  4247.18  4102.56  ...  4190.77  4260.51  4593.33  4337.95\n",
            "2  4299.49  4019.49  4269.74  4116.41  ...  4202.56  4280.51  4596.92  4350.26\n",
            "3  4280.00  4004.62  4263.59  4120.51  ...  4192.82  4271.79  4608.72  4344.10\n",
            "4  4317.44  3968.72  4260.51  4101.54  ...  4199.49  4282.05  4592.31  4372.82\n",
            "\n",
            "[5 rows x 14 columns]\n",
            "0       1\n",
            "1       0\n",
            "2       0\n",
            "3       0\n",
            "4       1\n",
            "       ..\n",
            "1995    1\n",
            "1996    0\n",
            "1997    0\n",
            "1998    0\n",
            "1999    0\n",
            "Name: label, Length: 2000, dtype: int64\n"
          ],
          "name": "stdout"
        }
      ]
    },
    {
      "cell_type": "code",
      "metadata": {
        "id": "x3OZnsn0eqni",
        "colab_type": "code",
        "outputId": "5e30b14d-dba2-4106-f8a4-7009f00251c7",
        "colab": {
          "base_uri": "https://localhost:8080/",
          "height": 483
        }
      },
      "source": [
        "from sklearn.preprocessing import StandardScaler\n",
        "from sklearn.preprocessing import RobustScaler\n",
        "from sklearn.preprocessing import MinMaxScaler\n",
        "\n",
        "scaler = StandardScaler()\n",
        "X_train_stand = pd.DataFrame(scaler.fit_transform(X_train),columns=X_train.columns.values)\n",
        "\n",
        "plt.figure(figsize=(12,8))\n",
        "X_train_stand.boxplot(vert=False)\n",
        "plt.show()"
      ],
      "execution_count": 0,
      "outputs": [
        {
          "output_type": "display_data",
          "data": {
            "image/png": "[encoded data removed]",
            "text/plain": [
              "<Figure size 864x576 with 1 Axes>"
            ]
          },
          "metadata": {
            "tags": [],
            "needs_background": "light"
          }
        }
      ]
    },
    {
      "cell_type": "code",
      "metadata": {
        "id": "OVplT7RjwFnQ",
        "colab_type": "code",
        "outputId": "8e8b9d85-fb0f-44c5-917d-d0faf8f9c8ac",
        "colab": {
          "base_uri": "https://localhost:8080/",
          "height": 483
        }
      },
      "source": [
        "X_test_stand = pd.DataFrame(scaler.transform(X_test),columns=X_test.columns.values)\n",
        "\n",
        "plt.figure(figsize=(12,8))\n",
        "X_test_stand.boxplot(vert=False)\n",
        "plt.show()"
      ],
      "execution_count": 0,
      "outputs": [
        {
          "output_type": "display_data",
          "data": {
            "image/png": "[encoded data removed]",
            "text/plain": [
              "<Figure size 864x576 with 1 Axes>"
            ]
          },
          "metadata": {
            "tags": [],
            "needs_background": "light"
          }
        }
      ]
    },
    {
      "cell_type": "code",
      "metadata": {
        "id": "F_Bo6g4j2BrM",
        "colab_type": "code",
        "outputId": "b71f12bf-4e0e-433f-afbe-516478ead55a",
        "colab": {
          "base_uri": "https://localhost:8080/",
          "height": 34
        }
      },
      "source": [
        "from sklearn.linear_model import LinearRegression\n",
        "from sklearn.model_selection import cross_val_score\n",
        "\n",
        "model = LinearRegression()\n",
        "score_auc = cross_val_score(model, X_train_stand, y_train, scoring='roc_auc', cv=10).mean()\n",
        "\n",
        "print(score_auc)"
      ],
      "execution_count": 0,
      "outputs": [
        {
          "output_type": "stream",
          "text": [
            "0.6606449421569776\n"
          ],
          "name": "stdout"
        }
      ]
    },
    {
      "cell_type": "code",
      "metadata": {
        "id": "w2rmjeTv60dT",
        "colab_type": "code",
        "outputId": "9b24af5d-62c6-4f6e-88bb-e570cdc13ea7",
        "colab": {
          "base_uri": "https://localhost:8080/",
          "height": 34
        }
      },
      "source": [
        "model.fit(X_train_stand, y_train)"
      ],
      "execution_count": 0,
      "outputs": [
        {
          "output_type": "execute_result",
          "data": {
            "text/plain": [
              "LinearRegression(copy_X=True, fit_intercept=True, n_jobs=None, normalize=False)"
            ]
          },
          "metadata": {
            "tags": []
          },
          "execution_count": 8
        }
      ]
    },
    {
      "cell_type": "code",
      "metadata": {
        "id": "sdADpCh42GQI",
        "colab_type": "code",
        "outputId": "b4e99294-0d91-4114-926b-1edaac3df5e4",
        "colab": {
          "base_uri": "https://localhost:8080/",
          "height": 51
        }
      },
      "source": [
        "predictions = model.predict(X_test_stand)\n",
        "predictions"
      ],
      "execution_count": 0,
      "outputs": [
        {
          "output_type": "execute_result",
          "data": {
            "text/plain": [
              "array([0.23577642, 0.36954037, 0.32687736, ..., 0.47242786, 0.60940983,\n",
              "       0.42265953])"
            ]
          },
          "metadata": {
            "tags": []
          },
          "execution_count": 9
        }
      ]
    },
    {
      "cell_type": "code",
      "metadata": {
        "id": "emR3F2Px4Nel",
        "colab_type": "code",
        "outputId": "12dfefea-a361-4b27-e8db-804a3bcf792d",
        "colab": {
          "base_uri": "https://localhost:8080/",
          "height": 419
        }
      },
      "source": [
        "results = pd.DataFrame()\n",
        "results['index'] = testset['index']\n",
        "results['label'] = predictions\n",
        "results"
      ],
      "execution_count": 0,
      "outputs": [
        {
          "output_type": "execute_result",
          "data": {
            "text/html": [
              "<div>\n",
              "<style scoped>\n",
              "    .dataframe tbody tr th:only-of-type {\n",
              "        vertical-align: middle;\n",
              "    }\n",
              "\n",
              "    .dataframe tbody tr th {\n",
              "        vertical-align: top;\n",
              "    }\n",
              "\n",
              "    .dataframe thead th {\n",
              "        text-align: right;\n",
              "    }\n",
              "</style>\n",
              "<table border=\"1\" class=\"dataframe\">\n",
              "  <thead>\n",
              "    <tr style=\"text-align: right;\">\n",
              "      <th></th>\n",
              "      <th>index</th>\n",
              "      <th>label</th>\n",
              "    </tr>\n",
              "  </thead>\n",
              "  <tbody>\n",
              "    <tr>\n",
              "      <th>0</th>\n",
              "      <td>0</td>\n",
              "      <td>0.235776</td>\n",
              "    </tr>\n",
              "    <tr>\n",
              "      <th>1</th>\n",
              "      <td>1</td>\n",
              "      <td>0.369540</td>\n",
              "    </tr>\n",
              "    <tr>\n",
              "      <th>2</th>\n",
              "      <td>2</td>\n",
              "      <td>0.326877</td>\n",
              "    </tr>\n",
              "    <tr>\n",
              "      <th>3</th>\n",
              "      <td>3</td>\n",
              "      <td>0.395776</td>\n",
              "    </tr>\n",
              "    <tr>\n",
              "      <th>4</th>\n",
              "      <td>4</td>\n",
              "      <td>0.854611</td>\n",
              "    </tr>\n",
              "    <tr>\n",
              "      <th>...</th>\n",
              "      <td>...</td>\n",
              "      <td>...</td>\n",
              "    </tr>\n",
              "    <tr>\n",
              "      <th>12887</th>\n",
              "      <td>12887</td>\n",
              "      <td>0.465054</td>\n",
              "    </tr>\n",
              "    <tr>\n",
              "      <th>12888</th>\n",
              "      <td>12888</td>\n",
              "      <td>0.544708</td>\n",
              "    </tr>\n",
              "    <tr>\n",
              "      <th>12889</th>\n",
              "      <td>12889</td>\n",
              "      <td>0.472428</td>\n",
              "    </tr>\n",
              "    <tr>\n",
              "      <th>12890</th>\n",
              "      <td>12890</td>\n",
              "      <td>0.609410</td>\n",
              "    </tr>\n",
              "    <tr>\n",
              "      <th>12891</th>\n",
              "      <td>12891</td>\n",
              "      <td>0.422660</td>\n",
              "    </tr>\n",
              "  </tbody>\n",
              "</table>\n",
              "<p>12892 rows × 2 columns</p>\n",
              "</div>"
            ],
            "text/plain": [
              "       index     label\n",
              "0          0  0.235776\n",
              "1          1  0.369540\n",
              "2          2  0.326877\n",
              "3          3  0.395776\n",
              "4          4  0.854611\n",
              "...      ...       ...\n",
              "12887  12887  0.465054\n",
              "12888  12888  0.544708\n",
              "12889  12889  0.472428\n",
              "12890  12890  0.609410\n",
              "12891  12891  0.422660\n",
              "\n",
              "[12892 rows x 2 columns]"
            ]
          },
          "metadata": {
            "tags": []
          },
          "execution_count": 10
        }
      ]
    },
    {
      "cell_type": "markdown",
      "metadata": {
        "id": "KmVBWAWwEjGR",
        "colab_type": "text"
      },
      "source": [
        "# **SECOND ATTEMPT (became third attempt)**"
      ]
    },
    {
      "cell_type": "markdown",
      "metadata": {
        "id": "cooqli38E-Mv",
        "colab_type": "text"
      },
      "source": [
        "See third attempt. This one used SCV with 'poly' kernel and no removal of outliers"
      ]
    },
    {
      "cell_type": "markdown",
      "metadata": {
        "id": "WBirwtmhCUEj",
        "colab_type": "text"
      },
      "source": [
        "# **THIRD ATTEMPT (StandardScaler) and FOURTH ATTEMPT (MinMaxScaler)**"
      ]
    },
    {
      "cell_type": "markdown",
      "metadata": {
        "id": "XUjm1OCdFOSU",
        "colab_type": "text"
      },
      "source": [
        "SCV with 'rbf' kernel and removed outliers (more than 4*stdev) and optimized C"
      ]
    },
    {
      "cell_type": "code",
      "metadata": {
        "id": "ZFskvki5KE_T",
        "colab_type": "code",
        "colab": {}
      },
      "source": [
        "%matplotlib inline\n",
        "import pandas as pd;\n",
        "import seaborn as sns;\n",
        "import numpy as np;\n",
        "import matplotlib.pyplot as plt;\n",
        "\n",
        "trainset = pd.read_csv(\"https://raw.githubusercontent.com/sdgroeve/Machine_Learning_course_UGent_D012554_kaggle/master/eeg_train.csv\")\n",
        "\n",
        "testset = pd.read_csv(\"https://raw.githubusercontent.com/sdgroeve/Machine_Learning_course_UGent_D012554_kaggle/master/eeg_test.csv\")\n",
        "\n",
        "X_test = testset.iloc[:,:14]"
      ],
      "execution_count": 0,
      "outputs": []
    },
    {
      "cell_type": "code",
      "metadata": {
        "id": "3m1i0pP2KHqq",
        "colab_type": "code",
        "outputId": "2f165d9e-29e5-4b82-9c5e-f431979d2a7a",
        "colab": {
          "base_uri": "https://localhost:8080/",
          "height": 419
        }
      },
      "source": [
        "from numpy import mean\n",
        "from numpy import std\n",
        "from numpy import delete\n",
        "\n",
        "data = trainset\n",
        "values = data.values\n",
        "\n",
        "for i in range(values.shape[1] - 1):\n",
        "  data_mean = values[:,i].mean()\n",
        "  data_std = values[:,i].std()\n",
        "  cut_off = data_std * 4\n",
        "  lower = data_mean - cut_off\n",
        "  upper = data_mean + cut_off\n",
        "  too_small = [j for j in range(values.shape[0]) if values[j,i] < lower]\n",
        "  values = delete(values, too_small, 0)\n",
        "  too_large = [j for j in range(values.shape[0]) if values[j,i] > upper]\n",
        "  values = delete(values, too_large, 0)\n",
        " \n",
        "trainset_nooutliers = pd.DataFrame(values, columns=data.columns)\n",
        "trainset_nooutliers"
      ],
      "execution_count": 0,
      "outputs": [
        {
          "output_type": "execute_result",
          "data": {
            "text/html": [
              "<div>\n",
              "<style scoped>\n",
              "    .dataframe tbody tr th:only-of-type {\n",
              "        vertical-align: middle;\n",
              "    }\n",
              "\n",
              "    .dataframe tbody tr th {\n",
              "        vertical-align: top;\n",
              "    }\n",
              "\n",
              "    .dataframe thead th {\n",
              "        text-align: right;\n",
              "    }\n",
              "</style>\n",
              "<table border=\"1\" class=\"dataframe\">\n",
              "  <thead>\n",
              "    <tr style=\"text-align: right;\">\n",
              "      <th></th>\n",
              "      <th>AF3</th>\n",
              "      <th>F7</th>\n",
              "      <th>F3</th>\n",
              "      <th>FC5</th>\n",
              "      <th>T7</th>\n",
              "      <th>P7</th>\n",
              "      <th>O1</th>\n",
              "      <th>02</th>\n",
              "      <th>P8</th>\n",
              "      <th>T8</th>\n",
              "      <th>FC6</th>\n",
              "      <th>F4</th>\n",
              "      <th>F8</th>\n",
              "      <th>AF4</th>\n",
              "      <th>label</th>\n",
              "    </tr>\n",
              "  </thead>\n",
              "  <tbody>\n",
              "    <tr>\n",
              "      <th>0</th>\n",
              "      <td>4299.49</td>\n",
              "      <td>3997.44</td>\n",
              "      <td>4277.95</td>\n",
              "      <td>4116.92</td>\n",
              "      <td>4353.85</td>\n",
              "      <td>4623.08</td>\n",
              "      <td>4100.00</td>\n",
              "      <td>4623.59</td>\n",
              "      <td>4202.56</td>\n",
              "      <td>4229.23</td>\n",
              "      <td>4211.79</td>\n",
              "      <td>4278.97</td>\n",
              "      <td>4600.00</td>\n",
              "      <td>4369.23</td>\n",
              "      <td>1.0</td>\n",
              "    </tr>\n",
              "    <tr>\n",
              "      <th>1</th>\n",
              "      <td>4302.05</td>\n",
              "      <td>3985.64</td>\n",
              "      <td>4261.03</td>\n",
              "      <td>4129.74</td>\n",
              "      <td>4334.36</td>\n",
              "      <td>4615.38</td>\n",
              "      <td>4072.31</td>\n",
              "      <td>4585.64</td>\n",
              "      <td>4192.31</td>\n",
              "      <td>4225.13</td>\n",
              "      <td>4195.90</td>\n",
              "      <td>4283.08</td>\n",
              "      <td>4607.18</td>\n",
              "      <td>4358.46</td>\n",
              "      <td>0.0</td>\n",
              "    </tr>\n",
              "    <tr>\n",
              "      <th>2</th>\n",
              "      <td>4321.03</td>\n",
              "      <td>4015.90</td>\n",
              "      <td>4265.13</td>\n",
              "      <td>4122.56</td>\n",
              "      <td>4333.33</td>\n",
              "      <td>4613.33</td>\n",
              "      <td>4072.82</td>\n",
              "      <td>4602.05</td>\n",
              "      <td>4192.31</td>\n",
              "      <td>4223.08</td>\n",
              "      <td>4155.38</td>\n",
              "      <td>4286.15</td>\n",
              "      <td>4608.21</td>\n",
              "      <td>4371.79</td>\n",
              "      <td>0.0</td>\n",
              "    </tr>\n",
              "    <tr>\n",
              "      <th>3</th>\n",
              "      <td>4347.18</td>\n",
              "      <td>3975.38</td>\n",
              "      <td>4266.67</td>\n",
              "      <td>4102.56</td>\n",
              "      <td>4333.33</td>\n",
              "      <td>4617.95</td>\n",
              "      <td>4097.44</td>\n",
              "      <td>4612.82</td>\n",
              "      <td>4210.77</td>\n",
              "      <td>4240.51</td>\n",
              "      <td>4248.21</td>\n",
              "      <td>4313.33</td>\n",
              "      <td>4664.10</td>\n",
              "      <td>4411.79</td>\n",
              "      <td>1.0</td>\n",
              "    </tr>\n",
              "    <tr>\n",
              "      <th>4</th>\n",
              "      <td>4292.82</td>\n",
              "      <td>4007.18</td>\n",
              "      <td>4275.38</td>\n",
              "      <td>4120.00</td>\n",
              "      <td>4336.92</td>\n",
              "      <td>4620.51</td>\n",
              "      <td>4059.49</td>\n",
              "      <td>4614.36</td>\n",
              "      <td>4194.87</td>\n",
              "      <td>4229.23</td>\n",
              "      <td>4158.46</td>\n",
              "      <td>4270.26</td>\n",
              "      <td>4600.51</td>\n",
              "      <td>4353.33</td>\n",
              "      <td>0.0</td>\n",
              "    </tr>\n",
              "    <tr>\n",
              "      <th>...</th>\n",
              "      <td>...</td>\n",
              "      <td>...</td>\n",
              "      <td>...</td>\n",
              "      <td>...</td>\n",
              "      <td>...</td>\n",
              "      <td>...</td>\n",
              "      <td>...</td>\n",
              "      <td>...</td>\n",
              "      <td>...</td>\n",
              "      <td>...</td>\n",
              "      <td>...</td>\n",
              "      <td>...</td>\n",
              "      <td>...</td>\n",
              "      <td>...</td>\n",
              "      <td>...</td>\n",
              "    </tr>\n",
              "    <tr>\n",
              "      <th>1896</th>\n",
              "      <td>4211.79</td>\n",
              "      <td>4015.90</td>\n",
              "      <td>4230.26</td>\n",
              "      <td>4107.69</td>\n",
              "      <td>4336.41</td>\n",
              "      <td>4623.08</td>\n",
              "      <td>4071.79</td>\n",
              "      <td>4605.64</td>\n",
              "      <td>4187.69</td>\n",
              "      <td>4225.13</td>\n",
              "      <td>4168.72</td>\n",
              "      <td>4240.51</td>\n",
              "      <td>4544.62</td>\n",
              "      <td>4265.13</td>\n",
              "      <td>1.0</td>\n",
              "    </tr>\n",
              "    <tr>\n",
              "      <th>1897</th>\n",
              "      <td>4268.72</td>\n",
              "      <td>4035.38</td>\n",
              "      <td>4237.95</td>\n",
              "      <td>4112.82</td>\n",
              "      <td>4346.15</td>\n",
              "      <td>4618.97</td>\n",
              "      <td>4066.15</td>\n",
              "      <td>4603.08</td>\n",
              "      <td>4192.82</td>\n",
              "      <td>4214.36</td>\n",
              "      <td>4189.74</td>\n",
              "      <td>4250.77</td>\n",
              "      <td>4586.67</td>\n",
              "      <td>4321.54</td>\n",
              "      <td>0.0</td>\n",
              "    </tr>\n",
              "    <tr>\n",
              "      <th>1898</th>\n",
              "      <td>4287.69</td>\n",
              "      <td>4007.69</td>\n",
              "      <td>4267.18</td>\n",
              "      <td>4128.21</td>\n",
              "      <td>4339.49</td>\n",
              "      <td>4611.28</td>\n",
              "      <td>4036.92</td>\n",
              "      <td>4603.59</td>\n",
              "      <td>4181.54</td>\n",
              "      <td>4228.21</td>\n",
              "      <td>4192.82</td>\n",
              "      <td>4260.51</td>\n",
              "      <td>4597.44</td>\n",
              "      <td>4353.33</td>\n",
              "      <td>0.0</td>\n",
              "    </tr>\n",
              "    <tr>\n",
              "      <th>1899</th>\n",
              "      <td>4297.95</td>\n",
              "      <td>4031.79</td>\n",
              "      <td>4275.90</td>\n",
              "      <td>4147.69</td>\n",
              "      <td>4365.64</td>\n",
              "      <td>4632.82</td>\n",
              "      <td>4093.33</td>\n",
              "      <td>4666.15</td>\n",
              "      <td>4211.79</td>\n",
              "      <td>4228.21</td>\n",
              "      <td>4210.77</td>\n",
              "      <td>4279.49</td>\n",
              "      <td>4604.10</td>\n",
              "      <td>4340.51</td>\n",
              "      <td>0.0</td>\n",
              "    </tr>\n",
              "    <tr>\n",
              "      <th>1900</th>\n",
              "      <td>4303.08</td>\n",
              "      <td>4010.26</td>\n",
              "      <td>4270.77</td>\n",
              "      <td>4148.21</td>\n",
              "      <td>4359.49</td>\n",
              "      <td>4613.33</td>\n",
              "      <td>4077.44</td>\n",
              "      <td>4619.49</td>\n",
              "      <td>4186.67</td>\n",
              "      <td>4235.38</td>\n",
              "      <td>4217.44</td>\n",
              "      <td>4281.54</td>\n",
              "      <td>4626.67</td>\n",
              "      <td>4349.23</td>\n",
              "      <td>0.0</td>\n",
              "    </tr>\n",
              "  </tbody>\n",
              "</table>\n",
              "<p>1901 rows × 15 columns</p>\n",
              "</div>"
            ],
            "text/plain": [
              "          AF3       F7       F3      FC5  ...       F4       F8      AF4  label\n",
              "0     4299.49  3997.44  4277.95  4116.92  ...  4278.97  4600.00  4369.23    1.0\n",
              "1     4302.05  3985.64  4261.03  4129.74  ...  4283.08  4607.18  4358.46    0.0\n",
              "2     4321.03  4015.90  4265.13  4122.56  ...  4286.15  4608.21  4371.79    0.0\n",
              "3     4347.18  3975.38  4266.67  4102.56  ...  4313.33  4664.10  4411.79    1.0\n",
              "4     4292.82  4007.18  4275.38  4120.00  ...  4270.26  4600.51  4353.33    0.0\n",
              "...       ...      ...      ...      ...  ...      ...      ...      ...    ...\n",
              "1896  4211.79  4015.90  4230.26  4107.69  ...  4240.51  4544.62  4265.13    1.0\n",
              "1897  4268.72  4035.38  4237.95  4112.82  ...  4250.77  4586.67  4321.54    0.0\n",
              "1898  4287.69  4007.69  4267.18  4128.21  ...  4260.51  4597.44  4353.33    0.0\n",
              "1899  4297.95  4031.79  4275.90  4147.69  ...  4279.49  4604.10  4340.51    0.0\n",
              "1900  4303.08  4010.26  4270.77  4148.21  ...  4281.54  4626.67  4349.23    0.0\n",
              "\n",
              "[1901 rows x 15 columns]"
            ]
          },
          "metadata": {
            "tags": []
          },
          "execution_count": 12
        }
      ]
    },
    {
      "cell_type": "code",
      "metadata": {
        "id": "ZQG7S9VeKUqF",
        "colab_type": "code",
        "colab": {}
      },
      "source": [
        "y_train_nooutliers = trainset_nooutliers.pop('label')\n",
        "X_train_nooutliers = trainset_nooutliers"
      ],
      "execution_count": 0,
      "outputs": []
    },
    {
      "cell_type": "code",
      "metadata": {
        "id": "09fztEgHKbgN",
        "colab_type": "code",
        "colab": {}
      },
      "source": [
        "from sklearn.preprocessing import StandardScaler\n",
        "from sklearn.preprocessing import RobustScaler\n",
        "from sklearn.preprocessing import MinMaxScaler\n",
        "\n",
        "scaler = MinMaxScaler()\n",
        "X_train_stand_nooutliers = pd.DataFrame(scaler.fit_transform(X_train_nooutliers),columns=X_train_nooutliers.columns.values)\n",
        "X_test_stand = pd.DataFrame(scaler.transform(X_test),columns=X_test.columns.values)"
      ],
      "execution_count": 0,
      "outputs": []
    },
    {
      "cell_type": "code",
      "metadata": {
        "id": "_yR896UNKoKX",
        "colab_type": "code",
        "outputId": "cf634a1a-a7cc-46b7-f0ff-207a5cbc4261",
        "colab": {
          "base_uri": "https://localhost:8080/",
          "height": 34
        }
      },
      "source": [
        "from sklearn.svm import SVC\n",
        "from sklearn.model_selection import cross_val_score\n",
        "\n",
        "model = SVC(C=70, probability=True)\n",
        "score_auc = cross_val_score(model, X_train_stand_nooutliers, y_train_nooutliers, scoring='roc_auc', cv=10).mean()\n",
        "\n",
        "print(score_auc)"
      ],
      "execution_count": 0,
      "outputs": [
        {
          "output_type": "stream",
          "text": [
            "0.961748148454373\n"
          ],
          "name": "stdout"
        }
      ]
    },
    {
      "cell_type": "code",
      "metadata": {
        "id": "J_rasj6AK0UC",
        "colab_type": "code",
        "outputId": "07fe62a7-2234-4197-9fc9-a982c5f72b08",
        "colab": {
          "base_uri": "https://localhost:8080/",
          "height": 221
        }
      },
      "source": [
        "from sklearn.model_selection import GridSearchCV\n",
        "\n",
        "search_space = range(65,75)           \n",
        "params = dict(C=search_space)\n",
        "grid_search = GridSearchCV(model, param_grid=params, iid=False)\n",
        "\n",
        "grid_search.fit(X_train_stand_nooutliers, y_train_nooutliers)\n",
        "\n",
        "means = grid_search.cv_results_['mean_test_score']\n",
        "stds = grid_search.cv_results_['std_test_score']\n",
        "\n",
        "for mean_score, std, params in zip(means, stds, grid_search.cv_results_['params']):\n",
        "    print(\"{:.3f} (+/-{:.3f}) for {}\".format(mean_score, std * 2, params))"
      ],
      "execution_count": 0,
      "outputs": [
        {
          "output_type": "stream",
          "text": [
            "/usr/local/lib/python3.6/dist-packages/sklearn/model_selection/_search.py:823: FutureWarning: The parameter 'iid' is deprecated in 0.22 and will be removed in 0.24.\n",
            "  \"removed in 0.24.\", FutureWarning\n"
          ],
          "name": "stderr"
        },
        {
          "output_type": "stream",
          "text": [
            "0.898 (+/-0.034) for {'C': 65}\n",
            "0.899 (+/-0.032) for {'C': 66}\n",
            "0.898 (+/-0.031) for {'C': 67}\n",
            "0.898 (+/-0.030) for {'C': 68}\n",
            "0.898 (+/-0.030) for {'C': 69}\n",
            "0.900 (+/-0.032) for {'C': 70}\n",
            "0.900 (+/-0.032) for {'C': 71}\n",
            "0.899 (+/-0.033) for {'C': 72}\n",
            "0.899 (+/-0.036) for {'C': 73}\n",
            "0.899 (+/-0.036) for {'C': 74}\n"
          ],
          "name": "stdout"
        }
      ]
    },
    {
      "cell_type": "code",
      "metadata": {
        "id": "smpbvkV2LI6Z",
        "colab_type": "code",
        "outputId": "6dcce89d-5f5b-4b35-aa77-62e4fddb04bb",
        "colab": {
          "base_uri": "https://localhost:8080/",
          "height": 85
        }
      },
      "source": [
        "model = SVC(C=70, probability=True)\n",
        "model.fit(X_train_stand_nooutliers, y_train_nooutliers)"
      ],
      "execution_count": 0,
      "outputs": [
        {
          "output_type": "execute_result",
          "data": {
            "text/plain": [
              "SVC(C=70, break_ties=False, cache_size=200, class_weight=None, coef0=0.0,\n",
              "    decision_function_shape='ovr', degree=3, gamma='scale', kernel='rbf',\n",
              "    max_iter=-1, probability=True, random_state=None, shrinking=True, tol=0.001,\n",
              "    verbose=False)"
            ]
          },
          "metadata": {
            "tags": []
          },
          "execution_count": 17
        }
      ]
    },
    {
      "cell_type": "code",
      "metadata": {
        "id": "WOcDhm2zLP0H",
        "colab_type": "code",
        "outputId": "946cb8f9-d150-44ea-c972-7db6132e9886",
        "colab": {
          "base_uri": "https://localhost:8080/",
          "height": 136
        }
      },
      "source": [
        "predictions = model.predict_proba(X_test_stand)\n",
        "predictions"
      ],
      "execution_count": 0,
      "outputs": [
        {
          "output_type": "execute_result",
          "data": {
            "text/plain": [
              "array([[9.99995515e-01, 4.48470503e-06],\n",
              "       [2.35529103e-01, 7.64470897e-01],\n",
              "       [9.95666478e-01, 4.33352199e-03],\n",
              "       ...,\n",
              "       [1.67849667e-06, 9.99998322e-01],\n",
              "       [2.12801867e-01, 7.87198133e-01],\n",
              "       [9.77765634e-01, 2.22343657e-02]])"
            ]
          },
          "metadata": {
            "tags": []
          },
          "execution_count": 18
        }
      ]
    },
    {
      "cell_type": "code",
      "metadata": {
        "id": "REozbEtZLVVf",
        "colab_type": "code",
        "outputId": "1e17d29b-957c-420f-f279-998712fbb5a3",
        "colab": {
          "base_uri": "https://localhost:8080/",
          "height": 419
        }
      },
      "source": [
        "results = pd.DataFrame()\n",
        "results['index'] = testset['index']\n",
        "results['label'] = predictions[:,1]\n",
        "results"
      ],
      "execution_count": 0,
      "outputs": [
        {
          "output_type": "execute_result",
          "data": {
            "text/html": [
              "<div>\n",
              "<style scoped>\n",
              "    .dataframe tbody tr th:only-of-type {\n",
              "        vertical-align: middle;\n",
              "    }\n",
              "\n",
              "    .dataframe tbody tr th {\n",
              "        vertical-align: top;\n",
              "    }\n",
              "\n",
              "    .dataframe thead th {\n",
              "        text-align: right;\n",
              "    }\n",
              "</style>\n",
              "<table border=\"1\" class=\"dataframe\">\n",
              "  <thead>\n",
              "    <tr style=\"text-align: right;\">\n",
              "      <th></th>\n",
              "      <th>index</th>\n",
              "      <th>label</th>\n",
              "    </tr>\n",
              "  </thead>\n",
              "  <tbody>\n",
              "    <tr>\n",
              "      <th>0</th>\n",
              "      <td>0</td>\n",
              "      <td>0.000004</td>\n",
              "    </tr>\n",
              "    <tr>\n",
              "      <th>1</th>\n",
              "      <td>1</td>\n",
              "      <td>0.764471</td>\n",
              "    </tr>\n",
              "    <tr>\n",
              "      <th>2</th>\n",
              "      <td>2</td>\n",
              "      <td>0.004334</td>\n",
              "    </tr>\n",
              "    <tr>\n",
              "      <th>3</th>\n",
              "      <td>3</td>\n",
              "      <td>1.000000</td>\n",
              "    </tr>\n",
              "    <tr>\n",
              "      <th>4</th>\n",
              "      <td>4</td>\n",
              "      <td>1.000000</td>\n",
              "    </tr>\n",
              "    <tr>\n",
              "      <th>...</th>\n",
              "      <td>...</td>\n",
              "      <td>...</td>\n",
              "    </tr>\n",
              "    <tr>\n",
              "      <th>12887</th>\n",
              "      <td>12887</td>\n",
              "      <td>0.071083</td>\n",
              "    </tr>\n",
              "    <tr>\n",
              "      <th>12888</th>\n",
              "      <td>12888</td>\n",
              "      <td>0.996021</td>\n",
              "    </tr>\n",
              "    <tr>\n",
              "      <th>12889</th>\n",
              "      <td>12889</td>\n",
              "      <td>0.999998</td>\n",
              "    </tr>\n",
              "    <tr>\n",
              "      <th>12890</th>\n",
              "      <td>12890</td>\n",
              "      <td>0.787198</td>\n",
              "    </tr>\n",
              "    <tr>\n",
              "      <th>12891</th>\n",
              "      <td>12891</td>\n",
              "      <td>0.022234</td>\n",
              "    </tr>\n",
              "  </tbody>\n",
              "</table>\n",
              "<p>12892 rows × 2 columns</p>\n",
              "</div>"
            ],
            "text/plain": [
              "       index     label\n",
              "0          0  0.000004\n",
              "1          1  0.764471\n",
              "2          2  0.004334\n",
              "3          3  1.000000\n",
              "4          4  1.000000\n",
              "...      ...       ...\n",
              "12887  12887  0.071083\n",
              "12888  12888  0.996021\n",
              "12889  12889  0.999998\n",
              "12890  12890  0.787198\n",
              "12891  12891  0.022234\n",
              "\n",
              "[12892 rows x 2 columns]"
            ]
          },
          "metadata": {
            "tags": []
          },
          "execution_count": 19
        }
      ]
    },
    {
      "cell_type": "code",
      "metadata": {
        "id": "XIJLVCt0Lmcd",
        "colab_type": "code",
        "colab": {}
      },
      "source": [
        "filename = \"my_prediction_results.csv\"\n",
        "\n",
        "#make sure to not write the Pandas index column (index=False)\n",
        "results.to_csv(filename,index=False)"
      ],
      "execution_count": 0,
      "outputs": []
    },
    {
      "cell_type": "markdown",
      "metadata": {
        "id": "9FdrNAAZEXbD",
        "colab_type": "text"
      },
      "source": [
        "# **FIFTH ATTEMPT (optimize C and gamma)**"
      ]
    },
    {
      "cell_type": "markdown",
      "metadata": {
        "id": "5bFSc3FLsOHp",
        "colab_type": "text"
      },
      "source": [
        "NIET INGEDIEND"
      ]
    },
    {
      "cell_type": "code",
      "metadata": {
        "id": "nqrRAc-DCSrQ",
        "colab_type": "code",
        "colab": {}
      },
      "source": [
        "%matplotlib inline\n",
        "import pandas as pd;\n",
        "import seaborn as sns;\n",
        "import numpy as np;\n",
        "import matplotlib.pyplot as plt;\n",
        "\n",
        "trainset = pd.read_csv(\"https://raw.githubusercontent.com/sdgroeve/Machine_Learning_course_UGent_D012554_kaggle/master/eeg_train.csv\")\n",
        "\n",
        "testset = pd.read_csv(\"https://raw.githubusercontent.com/sdgroeve/Machine_Learning_course_UGent_D012554_kaggle/master/eeg_test.csv\")\n",
        "\n",
        "X_test = testset.iloc[:,:14]"
      ],
      "execution_count": 0,
      "outputs": []
    },
    {
      "cell_type": "code",
      "metadata": {
        "id": "fuwinJcgJJu7",
        "colab_type": "code",
        "outputId": "57e1b7d9-6971-4996-a619-c1a7f82b0c72",
        "colab": {
          "base_uri": "https://localhost:8080/",
          "height": 419
        }
      },
      "source": [
        "from numpy import mean\n",
        "from numpy import std\n",
        "from numpy import delete\n",
        "\n",
        "data = trainset\n",
        "values = data.values\n",
        "\n",
        "for i in range(values.shape[1] - 1):\n",
        "  data_mean = values[:,i].mean()\n",
        "  data_std = values[:,i].std()\n",
        "  cut_off = data_std * 4\n",
        "  lower = data_mean - cut_off\n",
        "  upper = data_mean + cut_off\n",
        "  too_small = [j for j in range(values.shape[0]) if values[j,i] < lower]\n",
        "  values = delete(values, too_small, 0)\n",
        "  too_large = [j for j in range(values.shape[0]) if values[j,i] > upper]\n",
        "  values = delete(values, too_large, 0)\n",
        " \n",
        "trainset_nooutliers = pd.DataFrame(values, columns=data.columns)\n",
        "trainset_nooutliers"
      ],
      "execution_count": 0,
      "outputs": [
        {
          "output_type": "execute_result",
          "data": {
            "text/html": [
              "<div>\n",
              "<style scoped>\n",
              "    .dataframe tbody tr th:only-of-type {\n",
              "        vertical-align: middle;\n",
              "    }\n",
              "\n",
              "    .dataframe tbody tr th {\n",
              "        vertical-align: top;\n",
              "    }\n",
              "\n",
              "    .dataframe thead th {\n",
              "        text-align: right;\n",
              "    }\n",
              "</style>\n",
              "<table border=\"1\" class=\"dataframe\">\n",
              "  <thead>\n",
              "    <tr style=\"text-align: right;\">\n",
              "      <th></th>\n",
              "      <th>AF3</th>\n",
              "      <th>F7</th>\n",
              "      <th>F3</th>\n",
              "      <th>FC5</th>\n",
              "      <th>T7</th>\n",
              "      <th>P7</th>\n",
              "      <th>O1</th>\n",
              "      <th>02</th>\n",
              "      <th>P8</th>\n",
              "      <th>T8</th>\n",
              "      <th>FC6</th>\n",
              "      <th>F4</th>\n",
              "      <th>F8</th>\n",
              "      <th>AF4</th>\n",
              "      <th>label</th>\n",
              "    </tr>\n",
              "  </thead>\n",
              "  <tbody>\n",
              "    <tr>\n",
              "      <th>0</th>\n",
              "      <td>4299.49</td>\n",
              "      <td>3997.44</td>\n",
              "      <td>4277.95</td>\n",
              "      <td>4116.92</td>\n",
              "      <td>4353.85</td>\n",
              "      <td>4623.08</td>\n",
              "      <td>4100.00</td>\n",
              "      <td>4623.59</td>\n",
              "      <td>4202.56</td>\n",
              "      <td>4229.23</td>\n",
              "      <td>4211.79</td>\n",
              "      <td>4278.97</td>\n",
              "      <td>4600.00</td>\n",
              "      <td>4369.23</td>\n",
              "      <td>1.0</td>\n",
              "    </tr>\n",
              "    <tr>\n",
              "      <th>1</th>\n",
              "      <td>4302.05</td>\n",
              "      <td>3985.64</td>\n",
              "      <td>4261.03</td>\n",
              "      <td>4129.74</td>\n",
              "      <td>4334.36</td>\n",
              "      <td>4615.38</td>\n",
              "      <td>4072.31</td>\n",
              "      <td>4585.64</td>\n",
              "      <td>4192.31</td>\n",
              "      <td>4225.13</td>\n",
              "      <td>4195.90</td>\n",
              "      <td>4283.08</td>\n",
              "      <td>4607.18</td>\n",
              "      <td>4358.46</td>\n",
              "      <td>0.0</td>\n",
              "    </tr>\n",
              "    <tr>\n",
              "      <th>2</th>\n",
              "      <td>4321.03</td>\n",
              "      <td>4015.90</td>\n",
              "      <td>4265.13</td>\n",
              "      <td>4122.56</td>\n",
              "      <td>4333.33</td>\n",
              "      <td>4613.33</td>\n",
              "      <td>4072.82</td>\n",
              "      <td>4602.05</td>\n",
              "      <td>4192.31</td>\n",
              "      <td>4223.08</td>\n",
              "      <td>4155.38</td>\n",
              "      <td>4286.15</td>\n",
              "      <td>4608.21</td>\n",
              "      <td>4371.79</td>\n",
              "      <td>0.0</td>\n",
              "    </tr>\n",
              "    <tr>\n",
              "      <th>3</th>\n",
              "      <td>4347.18</td>\n",
              "      <td>3975.38</td>\n",
              "      <td>4266.67</td>\n",
              "      <td>4102.56</td>\n",
              "      <td>4333.33</td>\n",
              "      <td>4617.95</td>\n",
              "      <td>4097.44</td>\n",
              "      <td>4612.82</td>\n",
              "      <td>4210.77</td>\n",
              "      <td>4240.51</td>\n",
              "      <td>4248.21</td>\n",
              "      <td>4313.33</td>\n",
              "      <td>4664.10</td>\n",
              "      <td>4411.79</td>\n",
              "      <td>1.0</td>\n",
              "    </tr>\n",
              "    <tr>\n",
              "      <th>4</th>\n",
              "      <td>4292.82</td>\n",
              "      <td>4007.18</td>\n",
              "      <td>4275.38</td>\n",
              "      <td>4120.00</td>\n",
              "      <td>4336.92</td>\n",
              "      <td>4620.51</td>\n",
              "      <td>4059.49</td>\n",
              "      <td>4614.36</td>\n",
              "      <td>4194.87</td>\n",
              "      <td>4229.23</td>\n",
              "      <td>4158.46</td>\n",
              "      <td>4270.26</td>\n",
              "      <td>4600.51</td>\n",
              "      <td>4353.33</td>\n",
              "      <td>0.0</td>\n",
              "    </tr>\n",
              "    <tr>\n",
              "      <th>...</th>\n",
              "      <td>...</td>\n",
              "      <td>...</td>\n",
              "      <td>...</td>\n",
              "      <td>...</td>\n",
              "      <td>...</td>\n",
              "      <td>...</td>\n",
              "      <td>...</td>\n",
              "      <td>...</td>\n",
              "      <td>...</td>\n",
              "      <td>...</td>\n",
              "      <td>...</td>\n",
              "      <td>...</td>\n",
              "      <td>...</td>\n",
              "      <td>...</td>\n",
              "      <td>...</td>\n",
              "    </tr>\n",
              "    <tr>\n",
              "      <th>1896</th>\n",
              "      <td>4211.79</td>\n",
              "      <td>4015.90</td>\n",
              "      <td>4230.26</td>\n",
              "      <td>4107.69</td>\n",
              "      <td>4336.41</td>\n",
              "      <td>4623.08</td>\n",
              "      <td>4071.79</td>\n",
              "      <td>4605.64</td>\n",
              "      <td>4187.69</td>\n",
              "      <td>4225.13</td>\n",
              "      <td>4168.72</td>\n",
              "      <td>4240.51</td>\n",
              "      <td>4544.62</td>\n",
              "      <td>4265.13</td>\n",
              "      <td>1.0</td>\n",
              "    </tr>\n",
              "    <tr>\n",
              "      <th>1897</th>\n",
              "      <td>4268.72</td>\n",
              "      <td>4035.38</td>\n",
              "      <td>4237.95</td>\n",
              "      <td>4112.82</td>\n",
              "      <td>4346.15</td>\n",
              "      <td>4618.97</td>\n",
              "      <td>4066.15</td>\n",
              "      <td>4603.08</td>\n",
              "      <td>4192.82</td>\n",
              "      <td>4214.36</td>\n",
              "      <td>4189.74</td>\n",
              "      <td>4250.77</td>\n",
              "      <td>4586.67</td>\n",
              "      <td>4321.54</td>\n",
              "      <td>0.0</td>\n",
              "    </tr>\n",
              "    <tr>\n",
              "      <th>1898</th>\n",
              "      <td>4287.69</td>\n",
              "      <td>4007.69</td>\n",
              "      <td>4267.18</td>\n",
              "      <td>4128.21</td>\n",
              "      <td>4339.49</td>\n",
              "      <td>4611.28</td>\n",
              "      <td>4036.92</td>\n",
              "      <td>4603.59</td>\n",
              "      <td>4181.54</td>\n",
              "      <td>4228.21</td>\n",
              "      <td>4192.82</td>\n",
              "      <td>4260.51</td>\n",
              "      <td>4597.44</td>\n",
              "      <td>4353.33</td>\n",
              "      <td>0.0</td>\n",
              "    </tr>\n",
              "    <tr>\n",
              "      <th>1899</th>\n",
              "      <td>4297.95</td>\n",
              "      <td>4031.79</td>\n",
              "      <td>4275.90</td>\n",
              "      <td>4147.69</td>\n",
              "      <td>4365.64</td>\n",
              "      <td>4632.82</td>\n",
              "      <td>4093.33</td>\n",
              "      <td>4666.15</td>\n",
              "      <td>4211.79</td>\n",
              "      <td>4228.21</td>\n",
              "      <td>4210.77</td>\n",
              "      <td>4279.49</td>\n",
              "      <td>4604.10</td>\n",
              "      <td>4340.51</td>\n",
              "      <td>0.0</td>\n",
              "    </tr>\n",
              "    <tr>\n",
              "      <th>1900</th>\n",
              "      <td>4303.08</td>\n",
              "      <td>4010.26</td>\n",
              "      <td>4270.77</td>\n",
              "      <td>4148.21</td>\n",
              "      <td>4359.49</td>\n",
              "      <td>4613.33</td>\n",
              "      <td>4077.44</td>\n",
              "      <td>4619.49</td>\n",
              "      <td>4186.67</td>\n",
              "      <td>4235.38</td>\n",
              "      <td>4217.44</td>\n",
              "      <td>4281.54</td>\n",
              "      <td>4626.67</td>\n",
              "      <td>4349.23</td>\n",
              "      <td>0.0</td>\n",
              "    </tr>\n",
              "  </tbody>\n",
              "</table>\n",
              "<p>1901 rows × 15 columns</p>\n",
              "</div>"
            ],
            "text/plain": [
              "          AF3       F7       F3      FC5  ...       F4       F8      AF4  label\n",
              "0     4299.49  3997.44  4277.95  4116.92  ...  4278.97  4600.00  4369.23    1.0\n",
              "1     4302.05  3985.64  4261.03  4129.74  ...  4283.08  4607.18  4358.46    0.0\n",
              "2     4321.03  4015.90  4265.13  4122.56  ...  4286.15  4608.21  4371.79    0.0\n",
              "3     4347.18  3975.38  4266.67  4102.56  ...  4313.33  4664.10  4411.79    1.0\n",
              "4     4292.82  4007.18  4275.38  4120.00  ...  4270.26  4600.51  4353.33    0.0\n",
              "...       ...      ...      ...      ...  ...      ...      ...      ...    ...\n",
              "1896  4211.79  4015.90  4230.26  4107.69  ...  4240.51  4544.62  4265.13    1.0\n",
              "1897  4268.72  4035.38  4237.95  4112.82  ...  4250.77  4586.67  4321.54    0.0\n",
              "1898  4287.69  4007.69  4267.18  4128.21  ...  4260.51  4597.44  4353.33    0.0\n",
              "1899  4297.95  4031.79  4275.90  4147.69  ...  4279.49  4604.10  4340.51    0.0\n",
              "1900  4303.08  4010.26  4270.77  4148.21  ...  4281.54  4626.67  4349.23    0.0\n",
              "\n",
              "[1901 rows x 15 columns]"
            ]
          },
          "metadata": {
            "tags": []
          },
          "execution_count": 22
        }
      ]
    },
    {
      "cell_type": "code",
      "metadata": {
        "id": "GYo-VZUjLCII",
        "colab_type": "code",
        "colab": {}
      },
      "source": [
        "y_train_nooutliers = trainset_nooutliers.pop('label')\n",
        "X_train_nooutliers = trainset_nooutliers"
      ],
      "execution_count": 0,
      "outputs": []
    },
    {
      "cell_type": "code",
      "metadata": {
        "id": "XXEZ8jwqLLCU",
        "colab_type": "code",
        "colab": {}
      },
      "source": [
        "from sklearn.preprocessing import StandardScaler\n",
        "from sklearn.preprocessing import RobustScaler\n",
        "from sklearn.preprocessing import MinMaxScaler\n",
        "\n",
        "scaler = MinMaxScaler()\n",
        "X_train_stand_nooutliers = pd.DataFrame(scaler.fit_transform(X_train_nooutliers),columns=X_train_nooutliers.columns.values)\n",
        "X_test_stand = pd.DataFrame(scaler.transform(X_test),columns=X_test.columns.values)"
      ],
      "execution_count": 0,
      "outputs": []
    },
    {
      "cell_type": "code",
      "metadata": {
        "id": "ZE1eZHrzMJjP",
        "colab_type": "code",
        "outputId": "1f68c940-c06a-456d-8e43-414c38f0913f",
        "colab": {
          "base_uri": "https://localhost:8080/",
          "height": 34
        }
      },
      "source": [
        "from sklearn.svm import SVC\n",
        "from sklearn.model_selection import cross_val_score\n",
        "\n",
        "model = SVC(C=10, gamma=23, probability=True)\n",
        "score_auc = cross_val_score(model, X_train_stand_nooutliers, y_train_nooutliers, scoring='roc_auc', cv=10).mean()\n",
        "\n",
        "print(score_auc)"
      ],
      "execution_count": 0,
      "outputs": [
        {
          "output_type": "stream",
          "text": [
            "0.9621555611511152\n"
          ],
          "name": "stdout"
        }
      ]
    },
    {
      "cell_type": "code",
      "metadata": {
        "id": "3gp9WrnXnild",
        "colab_type": "code",
        "outputId": "d865b223-837c-4db8-e78c-8eb2ca6c2bfa",
        "colab": {
          "base_uri": "https://localhost:8080/",
          "height": 663
        }
      },
      "source": [
        "from sklearn.model_selection import GridSearchCV\n",
        "\n",
        "search_space = [1,10,50,70,100,120]\n",
        "search_gamma = [1,10,23,30,40,50]             \n",
        "params = dict(C=search_space, gamma=search_gamma)\n",
        "grid_search = GridSearchCV(model, param_grid=params, iid=False)\n",
        "\n",
        "grid_search.fit(X_train_stand_nooutliers, y_train_nooutliers)\n",
        "\n",
        "means = grid_search.cv_results_['mean_test_score']\n",
        "stds = grid_search.cv_results_['std_test_score']\n",
        "\n",
        "for mean_score, std, params in zip(means, stds, grid_search.cv_results_['params']):\n",
        "    print(\"{:.3f} (+/-{:.3f}) for {}\".format(mean_score, std * 2, params))"
      ],
      "execution_count": 0,
      "outputs": [
        {
          "output_type": "stream",
          "text": [
            "/usr/local/lib/python3.6/dist-packages/sklearn/model_selection/_search.py:823: FutureWarning: The parameter 'iid' is deprecated in 0.22 and will be removed in 0.24.\n",
            "  \"removed in 0.24.\", FutureWarning\n"
          ],
          "name": "stderr"
        },
        {
          "output_type": "stream",
          "text": [
            "0.746 (+/-0.022) for {'C': 1, 'gamma': 1}\n",
            "0.885 (+/-0.056) for {'C': 1, 'gamma': 10}\n",
            "0.892 (+/-0.038) for {'C': 1, 'gamma': 23}\n",
            "0.893 (+/-0.034) for {'C': 1, 'gamma': 30}\n",
            "0.885 (+/-0.019) for {'C': 1, 'gamma': 40}\n",
            "0.875 (+/-0.016) for {'C': 1, 'gamma': 50}\n",
            "0.823 (+/-0.039) for {'C': 10, 'gamma': 1}\n",
            "0.898 (+/-0.023) for {'C': 10, 'gamma': 10}\n",
            "0.903 (+/-0.019) for {'C': 10, 'gamma': 23}\n",
            "0.900 (+/-0.026) for {'C': 10, 'gamma': 30}\n",
            "0.888 (+/-0.022) for {'C': 10, 'gamma': 40}\n",
            "0.882 (+/-0.017) for {'C': 10, 'gamma': 50}\n",
            "0.862 (+/-0.031) for {'C': 50, 'gamma': 1}\n",
            "0.893 (+/-0.037) for {'C': 50, 'gamma': 10}\n",
            "0.903 (+/-0.014) for {'C': 50, 'gamma': 23}\n",
            "0.900 (+/-0.026) for {'C': 50, 'gamma': 30}\n",
            "0.888 (+/-0.022) for {'C': 50, 'gamma': 40}\n",
            "0.882 (+/-0.017) for {'C': 50, 'gamma': 50}\n",
            "0.864 (+/-0.037) for {'C': 70, 'gamma': 1}\n",
            "0.889 (+/-0.036) for {'C': 70, 'gamma': 10}\n",
            "0.903 (+/-0.014) for {'C': 70, 'gamma': 23}\n",
            "0.900 (+/-0.026) for {'C': 70, 'gamma': 30}\n",
            "0.888 (+/-0.022) for {'C': 70, 'gamma': 40}\n",
            "0.882 (+/-0.017) for {'C': 70, 'gamma': 50}\n",
            "0.867 (+/-0.041) for {'C': 100, 'gamma': 1}\n",
            "0.883 (+/-0.036) for {'C': 100, 'gamma': 10}\n",
            "0.903 (+/-0.014) for {'C': 100, 'gamma': 23}\n",
            "0.900 (+/-0.026) for {'C': 100, 'gamma': 30}\n",
            "0.888 (+/-0.022) for {'C': 100, 'gamma': 40}\n",
            "0.882 (+/-0.017) for {'C': 100, 'gamma': 50}\n",
            "0.871 (+/-0.040) for {'C': 120, 'gamma': 1}\n",
            "0.884 (+/-0.037) for {'C': 120, 'gamma': 10}\n",
            "0.903 (+/-0.014) for {'C': 120, 'gamma': 23}\n",
            "0.900 (+/-0.026) for {'C': 120, 'gamma': 30}\n",
            "0.888 (+/-0.022) for {'C': 120, 'gamma': 40}\n",
            "0.882 (+/-0.017) for {'C': 120, 'gamma': 50}\n"
          ],
          "name": "stdout"
        }
      ]
    },
    {
      "cell_type": "code",
      "metadata": {
        "id": "bDZzR_TdOfil",
        "colab_type": "code",
        "outputId": "187eb2d4-5906-4071-84fc-2af27ddceb42",
        "colab": {
          "base_uri": "https://localhost:8080/",
          "height": 85
        }
      },
      "source": [
        "model = SVC(C=10, gamma=23, probability=True)\n",
        "model.fit(X_train_stand_nooutliers, y_train_nooutliers)"
      ],
      "execution_count": 0,
      "outputs": [
        {
          "output_type": "execute_result",
          "data": {
            "text/plain": [
              "SVC(C=10, break_ties=False, cache_size=200, class_weight=None, coef0=0.0,\n",
              "    decision_function_shape='ovr', degree=3, gamma=23, kernel='rbf',\n",
              "    max_iter=-1, probability=True, random_state=None, shrinking=True, tol=0.001,\n",
              "    verbose=False)"
            ]
          },
          "metadata": {
            "tags": []
          },
          "execution_count": 27
        }
      ]
    },
    {
      "cell_type": "code",
      "metadata": {
        "id": "HicnhXmsmi8V",
        "colab_type": "code",
        "outputId": "0503a34a-2428-4ee4-9714-4f080f5b8345",
        "colab": {
          "base_uri": "https://localhost:8080/",
          "height": 136
        }
      },
      "source": [
        "predictions = model.predict_proba(X_test_stand)\n",
        "predictions"
      ],
      "execution_count": 0,
      "outputs": [
        {
          "output_type": "execute_result",
          "data": {
            "text/plain": [
              "array([[0.99806157, 0.00193843],\n",
              "       [0.69979615, 0.30020385],\n",
              "       [0.97524662, 0.02475338],\n",
              "       ...,\n",
              "       [0.09381769, 0.90618231],\n",
              "       [0.07934473, 0.92065527],\n",
              "       [0.98310969, 0.01689031]])"
            ]
          },
          "metadata": {
            "tags": []
          },
          "execution_count": 28
        }
      ]
    },
    {
      "cell_type": "code",
      "metadata": {
        "id": "rnoOO7-_Xxxn",
        "colab_type": "code",
        "outputId": "ce69170c-03f1-4d65-d42e-47803b2af990",
        "colab": {
          "base_uri": "https://localhost:8080/",
          "height": 419
        }
      },
      "source": [
        "results = pd.DataFrame()\n",
        "results['index'] = testset['index']\n",
        "results['label'] = predictions[:,1]\n",
        "results"
      ],
      "execution_count": 0,
      "outputs": [
        {
          "output_type": "execute_result",
          "data": {
            "text/html": [
              "<div>\n",
              "<style scoped>\n",
              "    .dataframe tbody tr th:only-of-type {\n",
              "        vertical-align: middle;\n",
              "    }\n",
              "\n",
              "    .dataframe tbody tr th {\n",
              "        vertical-align: top;\n",
              "    }\n",
              "\n",
              "    .dataframe thead th {\n",
              "        text-align: right;\n",
              "    }\n",
              "</style>\n",
              "<table border=\"1\" class=\"dataframe\">\n",
              "  <thead>\n",
              "    <tr style=\"text-align: right;\">\n",
              "      <th></th>\n",
              "      <th>index</th>\n",
              "      <th>label</th>\n",
              "    </tr>\n",
              "  </thead>\n",
              "  <tbody>\n",
              "    <tr>\n",
              "      <th>0</th>\n",
              "      <td>0</td>\n",
              "      <td>0.001938</td>\n",
              "    </tr>\n",
              "    <tr>\n",
              "      <th>1</th>\n",
              "      <td>1</td>\n",
              "      <td>0.300204</td>\n",
              "    </tr>\n",
              "    <tr>\n",
              "      <th>2</th>\n",
              "      <td>2</td>\n",
              "      <td>0.024753</td>\n",
              "    </tr>\n",
              "    <tr>\n",
              "      <th>3</th>\n",
              "      <td>3</td>\n",
              "      <td>0.994595</td>\n",
              "    </tr>\n",
              "    <tr>\n",
              "      <th>4</th>\n",
              "      <td>4</td>\n",
              "      <td>0.975554</td>\n",
              "    </tr>\n",
              "    <tr>\n",
              "      <th>...</th>\n",
              "      <td>...</td>\n",
              "      <td>...</td>\n",
              "    </tr>\n",
              "    <tr>\n",
              "      <th>12887</th>\n",
              "      <td>12887</td>\n",
              "      <td>0.139322</td>\n",
              "    </tr>\n",
              "    <tr>\n",
              "      <th>12888</th>\n",
              "      <td>12888</td>\n",
              "      <td>0.981455</td>\n",
              "    </tr>\n",
              "    <tr>\n",
              "      <th>12889</th>\n",
              "      <td>12889</td>\n",
              "      <td>0.906182</td>\n",
              "    </tr>\n",
              "    <tr>\n",
              "      <th>12890</th>\n",
              "      <td>12890</td>\n",
              "      <td>0.920655</td>\n",
              "    </tr>\n",
              "    <tr>\n",
              "      <th>12891</th>\n",
              "      <td>12891</td>\n",
              "      <td>0.016890</td>\n",
              "    </tr>\n",
              "  </tbody>\n",
              "</table>\n",
              "<p>12892 rows × 2 columns</p>\n",
              "</div>"
            ],
            "text/plain": [
              "       index     label\n",
              "0          0  0.001938\n",
              "1          1  0.300204\n",
              "2          2  0.024753\n",
              "3          3  0.994595\n",
              "4          4  0.975554\n",
              "...      ...       ...\n",
              "12887  12887  0.139322\n",
              "12888  12888  0.981455\n",
              "12889  12889  0.906182\n",
              "12890  12890  0.920655\n",
              "12891  12891  0.016890\n",
              "\n",
              "[12892 rows x 2 columns]"
            ]
          },
          "metadata": {
            "tags": []
          },
          "execution_count": 29
        }
      ]
    },
    {
      "cell_type": "code",
      "metadata": {
        "id": "sJgnsGg747kQ",
        "colab_type": "code",
        "colab": {}
      },
      "source": [
        "filename = \"my_prediction_results.csv\"\n",
        "\n",
        "#make sure to not write the Pandas index column (index=False)\n",
        "results.to_csv(filename,index=False)"
      ],
      "execution_count": 0,
      "outputs": []
    },
    {
      "cell_type": "markdown",
      "metadata": {
        "id": "UPEqALg8QDL4",
        "colab_type": "text"
      },
      "source": [
        "# **SIXTH ATTEMPT**"
      ]
    },
    {
      "cell_type": "markdown",
      "metadata": {
        "id": "nGTM6f_wRWCD",
        "colab_type": "text"
      },
      "source": [
        "Same as fifth, but with no outliers removed (better auc)"
      ]
    },
    {
      "cell_type": "code",
      "metadata": {
        "colab_type": "code",
        "id": "auxolxJUQOXY",
        "colab": {}
      },
      "source": [
        "%matplotlib inline\n",
        "import pandas as pd;\n",
        "import seaborn as sns;\n",
        "import numpy as np;\n",
        "import matplotlib.pyplot as plt;\n",
        "\n",
        "trainset = pd.read_csv(\"https://raw.githubusercontent.com/sdgroeve/Machine_Learning_course_UGent_D012554_kaggle/master/eeg_train.csv\")\n",
        "\n",
        "testset = pd.read_csv(\"https://raw.githubusercontent.com/sdgroeve/Machine_Learning_course_UGent_D012554_kaggle/master/eeg_test.csv\")\n",
        "\n",
        "X_test = testset.iloc[:,:14]"
      ],
      "execution_count": 0,
      "outputs": []
    },
    {
      "cell_type": "code",
      "metadata": {
        "colab_type": "code",
        "id": "DZIIonnvQOYK",
        "colab": {}
      },
      "source": [
        "y_train = trainset.pop('label')\n",
        "X_train = trainset"
      ],
      "execution_count": 0,
      "outputs": []
    },
    {
      "cell_type": "code",
      "metadata": {
        "colab_type": "code",
        "id": "K-P1WiohQOYQ",
        "colab": {}
      },
      "source": [
        "from sklearn.preprocessing import StandardScaler\n",
        "from sklearn.preprocessing import RobustScaler\n",
        "from sklearn.preprocessing import MinMaxScaler\n",
        "\n",
        "scaler = MinMaxScaler()\n",
        "X_train_stand = pd.DataFrame(scaler.fit_transform(X_train),columns=X_train.columns.values)\n",
        "X_test_stand = pd.DataFrame(scaler.transform(X_test),columns=X_test.columns.values)"
      ],
      "execution_count": 0,
      "outputs": []
    },
    {
      "cell_type": "code",
      "metadata": {
        "colab_type": "code",
        "outputId": "57a6afa7-63b2-4953-e710-049b1370eef6",
        "id": "RBB62h37QOYV",
        "colab": {
          "base_uri": "https://localhost:8080/",
          "height": 68
        }
      },
      "source": [
        "from sklearn.svm import SVC\n",
        "from sklearn.model_selection import cross_val_score\n",
        "from sklearn.model_selection import GridSearchCV\n",
        "\n",
        "model = SVC(probability=True)\n",
        "\n",
        "search_space = [10]\n",
        "search_gamma = [23]             \n",
        "params = dict(C=search_space, gamma=search_gamma)\n",
        "grid_search = GridSearchCV(model, param_grid=params, iid=False)\n",
        "\n",
        "grid_search.fit(X_train_stand, y_train)\n",
        "\n",
        "score_auc = cross_val_score(grid_search.best_estimator_, X_train_stand, y_train, scoring='roc_auc', cv=10).mean()\n",
        "\n",
        "print(score_auc)"
      ],
      "execution_count": 0,
      "outputs": [
        {
          "output_type": "stream",
          "text": [
            "/usr/local/lib/python3.6/dist-packages/sklearn/model_selection/_search.py:823: FutureWarning: The parameter 'iid' is deprecated in 0.22 and will be removed in 0.24.\n",
            "  \"removed in 0.24.\", FutureWarning\n"
          ],
          "name": "stderr"
        },
        {
          "output_type": "stream",
          "text": [
            "0.9693172525741331\n"
          ],
          "name": "stdout"
        }
      ]
    },
    {
      "cell_type": "code",
      "metadata": {
        "colab_type": "code",
        "outputId": "12d2cd34-e372-4c0f-d814-ba22fe48f250",
        "id": "cwFN06pfQOYc",
        "colab": {
          "base_uri": "https://localhost:8080/",
          "height": 476
        }
      },
      "source": [
        "from sklearn.model_selection import GridSearchCV\n",
        "\n",
        "search_space = [8,9,10,11,12]\n",
        "search_gamma = [0.8,0.9,1,2,3]             \n",
        "params = dict(C=search_space, gamma=search_gamma)\n",
        "grid_search = GridSearchCV(model, param_grid=params, iid=False)\n",
        "\n",
        "grid_search.fit(X_train_stand, y_train)\n",
        "\n",
        "means = grid_search.cv_results_['mean_test_score']\n",
        "stds = grid_search.cv_results_['std_test_score']\n",
        "\n",
        "for mean_score, std, params in zip(means, stds, grid_search.cv_results_['params']):\n",
        "    print(\"{:.3f} (+/-{:.3f}) for {}\".format(mean_score, std * 2, params))"
      ],
      "execution_count": 0,
      "outputs": [
        {
          "output_type": "stream",
          "text": [
            "/usr/local/lib/python3.6/dist-packages/sklearn/model_selection/_search.py:823: FutureWarning: The parameter 'iid' is deprecated in 0.22 and will be removed in 0.24.\n",
            "  \"removed in 0.24.\", FutureWarning\n"
          ],
          "name": "stderr"
        },
        {
          "output_type": "stream",
          "text": [
            "0.908 (+/-0.029) for {'C': 8, 'gamma': 0.8}\n",
            "0.909 (+/-0.029) for {'C': 8, 'gamma': 0.9}\n",
            "0.908 (+/-0.026) for {'C': 8, 'gamma': 1}\n",
            "0.851 (+/-0.019) for {'C': 8, 'gamma': 2}\n",
            "0.764 (+/-0.024) for {'C': 8, 'gamma': 3}\n",
            "0.908 (+/-0.030) for {'C': 9, 'gamma': 0.8}\n",
            "0.909 (+/-0.029) for {'C': 9, 'gamma': 0.9}\n",
            "0.908 (+/-0.026) for {'C': 9, 'gamma': 1}\n",
            "0.851 (+/-0.019) for {'C': 9, 'gamma': 2}\n",
            "0.764 (+/-0.024) for {'C': 9, 'gamma': 3}\n",
            "0.908 (+/-0.030) for {'C': 10, 'gamma': 0.8}\n",
            "0.909 (+/-0.029) for {'C': 10, 'gamma': 0.9}\n",
            "0.908 (+/-0.026) for {'C': 10, 'gamma': 1}\n",
            "0.851 (+/-0.019) for {'C': 10, 'gamma': 2}\n",
            "0.764 (+/-0.024) for {'C': 10, 'gamma': 3}\n",
            "0.908 (+/-0.030) for {'C': 11, 'gamma': 0.8}\n",
            "0.909 (+/-0.029) for {'C': 11, 'gamma': 0.9}\n",
            "0.908 (+/-0.026) for {'C': 11, 'gamma': 1}\n",
            "0.851 (+/-0.019) for {'C': 11, 'gamma': 2}\n",
            "0.764 (+/-0.024) for {'C': 11, 'gamma': 3}\n",
            "0.908 (+/-0.030) for {'C': 12, 'gamma': 0.8}\n",
            "0.909 (+/-0.029) for {'C': 12, 'gamma': 0.9}\n",
            "0.908 (+/-0.026) for {'C': 12, 'gamma': 1}\n",
            "0.851 (+/-0.019) for {'C': 12, 'gamma': 2}\n",
            "0.764 (+/-0.024) for {'C': 12, 'gamma': 3}\n"
          ],
          "name": "stdout"
        }
      ]
    },
    {
      "cell_type": "code",
      "metadata": {
        "colab_type": "code",
        "outputId": "ed6b4551-2f07-4b51-e04a-dc049d99dfaf",
        "id": "a7MbpDPHQOYe",
        "colab": {
          "base_uri": "https://localhost:8080/",
          "height": 85
        }
      },
      "source": [
        "model = SVC(C=10, gamma=23, probability=True)\n",
        "model.fit(X_train_stand, y_train)"
      ],
      "execution_count": 0,
      "outputs": [
        {
          "output_type": "execute_result",
          "data": {
            "text/plain": [
              "SVC(C=10, break_ties=False, cache_size=200, class_weight=None, coef0=0.0,\n",
              "    decision_function_shape='ovr', degree=3, gamma=23, kernel='rbf',\n",
              "    max_iter=-1, probability=True, random_state=None, shrinking=True, tol=0.001,\n",
              "    verbose=False)"
            ]
          },
          "metadata": {
            "tags": []
          },
          "execution_count": 44
        }
      ]
    },
    {
      "cell_type": "code",
      "metadata": {
        "colab_type": "code",
        "outputId": "5d3f6fc9-724a-43f3-f9af-8aeb7ca9cc77",
        "id": "LPLw-H4hQOYh",
        "colab": {
          "base_uri": "https://localhost:8080/",
          "height": 136
        }
      },
      "source": [
        "predictionsSVC = model.predict_proba(X_test_stand)\n",
        "predictionsSVC"
      ],
      "execution_count": 0,
      "outputs": [
        {
          "output_type": "execute_result",
          "data": {
            "text/plain": [
              "array([[9.99971206e-01, 2.87935929e-05],\n",
              "       [2.97142240e-01, 7.02857760e-01],\n",
              "       [9.96849429e-01, 3.15057052e-03],\n",
              "       ...,\n",
              "       [4.98718375e-06, 9.99995013e-01],\n",
              "       [9.64389529e-02, 9.03561047e-01],\n",
              "       [9.56971587e-01, 4.30284130e-02]])"
            ]
          },
          "metadata": {
            "tags": []
          },
          "execution_count": 45
        }
      ]
    },
    {
      "cell_type": "code",
      "metadata": {
        "colab_type": "code",
        "outputId": "0dd44cfb-6afa-497a-dc14-d529661fffc9",
        "id": "ddb8pQQ-QOYj",
        "colab": {
          "base_uri": "https://localhost:8080/",
          "height": 419
        }
      },
      "source": [
        "results = pd.DataFrame()\n",
        "results['index'] = testset['index']\n",
        "results['label'] = predictionsSVC[:,1]\n",
        "results"
      ],
      "execution_count": 0,
      "outputs": [
        {
          "output_type": "execute_result",
          "data": {
            "text/html": [
              "<div>\n",
              "<style scoped>\n",
              "    .dataframe tbody tr th:only-of-type {\n",
              "        vertical-align: middle;\n",
              "    }\n",
              "\n",
              "    .dataframe tbody tr th {\n",
              "        vertical-align: top;\n",
              "    }\n",
              "\n",
              "    .dataframe thead th {\n",
              "        text-align: right;\n",
              "    }\n",
              "</style>\n",
              "<table border=\"1\" class=\"dataframe\">\n",
              "  <thead>\n",
              "    <tr style=\"text-align: right;\">\n",
              "      <th></th>\n",
              "      <th>index</th>\n",
              "      <th>label</th>\n",
              "    </tr>\n",
              "  </thead>\n",
              "  <tbody>\n",
              "    <tr>\n",
              "      <th>0</th>\n",
              "      <td>0</td>\n",
              "      <td>0.000029</td>\n",
              "    </tr>\n",
              "    <tr>\n",
              "      <th>1</th>\n",
              "      <td>1</td>\n",
              "      <td>0.702858</td>\n",
              "    </tr>\n",
              "    <tr>\n",
              "      <th>2</th>\n",
              "      <td>2</td>\n",
              "      <td>0.003151</td>\n",
              "    </tr>\n",
              "    <tr>\n",
              "      <th>3</th>\n",
              "      <td>3</td>\n",
              "      <td>1.000000</td>\n",
              "    </tr>\n",
              "    <tr>\n",
              "      <th>4</th>\n",
              "      <td>4</td>\n",
              "      <td>1.000000</td>\n",
              "    </tr>\n",
              "    <tr>\n",
              "      <th>...</th>\n",
              "      <td>...</td>\n",
              "      <td>...</td>\n",
              "    </tr>\n",
              "    <tr>\n",
              "      <th>12887</th>\n",
              "      <td>12887</td>\n",
              "      <td>0.176195</td>\n",
              "    </tr>\n",
              "    <tr>\n",
              "      <th>12888</th>\n",
              "      <td>12888</td>\n",
              "      <td>0.996432</td>\n",
              "    </tr>\n",
              "    <tr>\n",
              "      <th>12889</th>\n",
              "      <td>12889</td>\n",
              "      <td>0.999995</td>\n",
              "    </tr>\n",
              "    <tr>\n",
              "      <th>12890</th>\n",
              "      <td>12890</td>\n",
              "      <td>0.903561</td>\n",
              "    </tr>\n",
              "    <tr>\n",
              "      <th>12891</th>\n",
              "      <td>12891</td>\n",
              "      <td>0.043028</td>\n",
              "    </tr>\n",
              "  </tbody>\n",
              "</table>\n",
              "<p>12892 rows × 2 columns</p>\n",
              "</div>"
            ],
            "text/plain": [
              "       index     label\n",
              "0          0  0.000029\n",
              "1          1  0.702858\n",
              "2          2  0.003151\n",
              "3          3  1.000000\n",
              "4          4  1.000000\n",
              "...      ...       ...\n",
              "12887  12887  0.176195\n",
              "12888  12888  0.996432\n",
              "12889  12889  0.999995\n",
              "12890  12890  0.903561\n",
              "12891  12891  0.043028\n",
              "\n",
              "[12892 rows x 2 columns]"
            ]
          },
          "metadata": {
            "tags": []
          },
          "execution_count": 46
        }
      ]
    },
    {
      "cell_type": "code",
      "metadata": {
        "colab_type": "code",
        "id": "0L5Y8MITQOYm",
        "colab": {}
      },
      "source": [
        "filename = \"my_prediction_resultsSVC0.9693.csv\"\n",
        "\n",
        "#make sure to not write the Pandas index column (index=False)\n",
        "results.to_csv(filename,index=False)"
      ],
      "execution_count": 0,
      "outputs": []
    },
    {
      "cell_type": "markdown",
      "metadata": {
        "id": "nTv87uaQvcYQ",
        "colab_type": "text"
      },
      "source": [
        "# **SEVENTH ATTEMPT**"
      ]
    },
    {
      "cell_type": "markdown",
      "metadata": {
        "id": "kqyrye-_AXJd",
        "colab_type": "text"
      },
      "source": [
        "Not better than sixth"
      ]
    },
    {
      "cell_type": "code",
      "metadata": {
        "id": "6qXLQEzJviW8",
        "colab_type": "code",
        "outputId": "ef6c75d5-833a-4107-89ed-f813e0a67a67",
        "colab": {
          "base_uri": "https://localhost:8080/",
          "height": 51
        }
      },
      "source": [
        "%matplotlib inline\n",
        "import pandas as pd;\n",
        "import seaborn as sns;\n",
        "import numpy as np;\n",
        "import matplotlib.pyplot as plt;\n",
        "\n",
        "trainset = pd.read_csv(\"https://raw.githubusercontent.com/sdgroeve/Machine_Learning_course_UGent_D012554_kaggle/master/eeg_train.csv\")\n",
        "\n",
        "testset = pd.read_csv(\"https://raw.githubusercontent.com/sdgroeve/Machine_Learning_course_UGent_D012554_kaggle/master/eeg_test.csv\")\n",
        "\n",
        "X_test = testset.iloc[:,:14]"
      ],
      "execution_count": 0,
      "outputs": [
        {
          "output_type": "stream",
          "text": [
            "/usr/local/lib/python3.6/dist-packages/statsmodels/tools/_testing.py:19: FutureWarning: pandas.util.testing is deprecated. Use the functions in the public API at pandas.testing instead.\n",
            "  import pandas.util.testing as tm\n"
          ],
          "name": "stderr"
        }
      ]
    },
    {
      "cell_type": "code",
      "metadata": {
        "id": "9SOrbBhzvnBI",
        "colab_type": "code",
        "colab": {}
      },
      "source": [
        "y_train = trainset.pop('label')\n",
        "X_train = trainset"
      ],
      "execution_count": 0,
      "outputs": []
    },
    {
      "cell_type": "code",
      "metadata": {
        "id": "qdUQ9Aujvp29",
        "colab_type": "code",
        "colab": {}
      },
      "source": [
        "from sklearn.preprocessing import StandardScaler\n",
        "from sklearn.preprocessing import RobustScaler\n",
        "from sklearn.preprocessing import MinMaxScaler\n",
        "\n",
        "scaler = StandardScaler()\n",
        "X_train_stand = pd.DataFrame(scaler.fit_transform(X_train),columns=X_train.columns.values)\n",
        "X_test_stand = pd.DataFrame(scaler.transform(X_test),columns=X_test.columns.values)"
      ],
      "execution_count": 0,
      "outputs": []
    },
    {
      "cell_type": "code",
      "metadata": {
        "id": "AoVvvfQPvsqj",
        "colab_type": "code",
        "outputId": "52fd696b-e7a3-4702-9014-aa084458934d",
        "colab": {
          "base_uri": "https://localhost:8080/",
          "height": 34
        }
      },
      "source": [
        "from sklearn.ensemble import RandomForestClassifier\n",
        "from sklearn.ensemble import AdaBoostClassifier\n",
        "from sklearn.ensemble import GradientBoostingClassifier\n",
        "from sklearn.tree import DecisionTreeClassifier\n",
        "from sklearn.model_selection import cross_val_score\n",
        "\n",
        "bdt = GradientBoostingClassifier(n_estimators = 500, max_depth=6)\n",
        "score_auc = cross_val_score(bdt, X_train_stand, y_train, scoring='roc_auc', cv=10).mean()\n",
        "\n",
        "print(score_auc)"
      ],
      "execution_count": 0,
      "outputs": [
        {
          "output_type": "stream",
          "text": [
            "0.9360247876486409\n"
          ],
          "name": "stdout"
        }
      ]
    },
    {
      "cell_type": "code",
      "metadata": {
        "id": "4hBcP71jvwsV",
        "colab_type": "code",
        "outputId": "0041d590-df4e-4066-9715-f533a836ceea",
        "colab": {
          "base_uri": "https://localhost:8080/",
          "height": 102
        }
      },
      "source": [
        "from sklearn.model_selection import GridSearchCV\n",
        "\n",
        "search_space = [5,6,10]         \n",
        "params = dict(max_depth=search_space)\n",
        "grid_search = GridSearchCV(bdt, param_grid=params, iid=False)\n",
        "\n",
        "grid_search.fit(X_train_stand, y_train)\n",
        "\n",
        "means = grid_search.cv_results_['mean_test_score']\n",
        "stds = grid_search.cv_results_['std_test_score']\n",
        "\n",
        "for mean_score, std, params in zip(means, stds, grid_search.cv_results_['params']):\n",
        "    print(\"{:.3f} (+/-{:.3f}) for {}\".format(mean_score, std * 2, params))"
      ],
      "execution_count": 0,
      "outputs": [
        {
          "output_type": "stream",
          "text": [
            "/usr/local/lib/python3.6/dist-packages/sklearn/model_selection/_search.py:823: FutureWarning: The parameter 'iid' is deprecated in 0.22 and will be removed in 0.24.\n",
            "  \"removed in 0.24.\", FutureWarning\n"
          ],
          "name": "stderr"
        },
        {
          "output_type": "stream",
          "text": [
            "0.843 (+/-0.042) for {'max_depth': 5}\n",
            "0.854 (+/-0.046) for {'max_depth': 6}\n",
            "0.851 (+/-0.035) for {'max_depth': 10}\n"
          ],
          "name": "stdout"
        }
      ]
    },
    {
      "cell_type": "code",
      "metadata": {
        "id": "ziEVk4VS7bK9",
        "colab_type": "code",
        "outputId": "ca876329-74ed-499f-c959-beebfc13840e",
        "colab": {
          "base_uri": "https://localhost:8080/",
          "height": 187
        }
      },
      "source": [
        "bdt = GradientBoostingClassifier(n_estimators = 500, max_depth=6)\n",
        "bdt.fit(X_train_stand, y_train)"
      ],
      "execution_count": 0,
      "outputs": [
        {
          "output_type": "execute_result",
          "data": {
            "text/plain": [
              "GradientBoostingClassifier(ccp_alpha=0.0, criterion='friedman_mse', init=None,\n",
              "                           learning_rate=0.1, loss='deviance', max_depth=6,\n",
              "                           max_features=None, max_leaf_nodes=None,\n",
              "                           min_impurity_decrease=0.0, min_impurity_split=None,\n",
              "                           min_samples_leaf=1, min_samples_split=2,\n",
              "                           min_weight_fraction_leaf=0.0, n_estimators=500,\n",
              "                           n_iter_no_change=None, presort='deprecated',\n",
              "                           random_state=None, subsample=1.0, tol=0.0001,\n",
              "                           validation_fraction=0.1, verbose=0,\n",
              "                           warm_start=False)"
            ]
          },
          "metadata": {
            "tags": []
          },
          "execution_count": 52
        }
      ]
    },
    {
      "cell_type": "code",
      "metadata": {
        "id": "LXaTeM6U8Gaz",
        "colab_type": "code",
        "outputId": "2dacf3bf-b617-4219-d066-0d7cb425bde4",
        "colab": {
          "base_uri": "https://localhost:8080/",
          "height": 136
        }
      },
      "source": [
        "predictionsGBC = bdt.predict_proba(X_test_stand)\n",
        "predictionsGBC"
      ],
      "execution_count": 0,
      "outputs": [
        {
          "output_type": "execute_result",
          "data": {
            "text/plain": [
              "array([[9.99990296e-01, 9.70388631e-06],\n",
              "       [9.66957792e-01, 3.30422084e-02],\n",
              "       [9.99901859e-01, 9.81408970e-05],\n",
              "       ...,\n",
              "       [5.07660145e-05, 9.99949234e-01],\n",
              "       [6.53685584e-04, 9.99346314e-01],\n",
              "       [9.98943137e-01, 1.05686291e-03]])"
            ]
          },
          "metadata": {
            "tags": []
          },
          "execution_count": 53
        }
      ]
    },
    {
      "cell_type": "code",
      "metadata": {
        "id": "gKlID0Ai8ZF4",
        "colab_type": "code",
        "outputId": "0f0b5de9-b6ed-401a-b4ec-59de0ddea885",
        "colab": {
          "base_uri": "https://localhost:8080/",
          "height": 419
        }
      },
      "source": [
        "results = pd.DataFrame()\n",
        "results['index'] = testset['index']\n",
        "results['label'] = predictionsGBC[:,1]\n",
        "results"
      ],
      "execution_count": 0,
      "outputs": [
        {
          "output_type": "execute_result",
          "data": {
            "text/html": [
              "<div>\n",
              "<style scoped>\n",
              "    .dataframe tbody tr th:only-of-type {\n",
              "        vertical-align: middle;\n",
              "    }\n",
              "\n",
              "    .dataframe tbody tr th {\n",
              "        vertical-align: top;\n",
              "    }\n",
              "\n",
              "    .dataframe thead th {\n",
              "        text-align: right;\n",
              "    }\n",
              "</style>\n",
              "<table border=\"1\" class=\"dataframe\">\n",
              "  <thead>\n",
              "    <tr style=\"text-align: right;\">\n",
              "      <th></th>\n",
              "      <th>index</th>\n",
              "      <th>label</th>\n",
              "    </tr>\n",
              "  </thead>\n",
              "  <tbody>\n",
              "    <tr>\n",
              "      <th>0</th>\n",
              "      <td>0</td>\n",
              "      <td>0.000010</td>\n",
              "    </tr>\n",
              "    <tr>\n",
              "      <th>1</th>\n",
              "      <td>1</td>\n",
              "      <td>0.033042</td>\n",
              "    </tr>\n",
              "    <tr>\n",
              "      <th>2</th>\n",
              "      <td>2</td>\n",
              "      <td>0.000098</td>\n",
              "    </tr>\n",
              "    <tr>\n",
              "      <th>3</th>\n",
              "      <td>3</td>\n",
              "      <td>0.999950</td>\n",
              "    </tr>\n",
              "    <tr>\n",
              "      <th>4</th>\n",
              "      <td>4</td>\n",
              "      <td>0.999991</td>\n",
              "    </tr>\n",
              "    <tr>\n",
              "      <th>...</th>\n",
              "      <td>...</td>\n",
              "      <td>...</td>\n",
              "    </tr>\n",
              "    <tr>\n",
              "      <th>12887</th>\n",
              "      <td>12887</td>\n",
              "      <td>0.852107</td>\n",
              "    </tr>\n",
              "    <tr>\n",
              "      <th>12888</th>\n",
              "      <td>12888</td>\n",
              "      <td>0.880718</td>\n",
              "    </tr>\n",
              "    <tr>\n",
              "      <th>12889</th>\n",
              "      <td>12889</td>\n",
              "      <td>0.999949</td>\n",
              "    </tr>\n",
              "    <tr>\n",
              "      <th>12890</th>\n",
              "      <td>12890</td>\n",
              "      <td>0.999346</td>\n",
              "    </tr>\n",
              "    <tr>\n",
              "      <th>12891</th>\n",
              "      <td>12891</td>\n",
              "      <td>0.001057</td>\n",
              "    </tr>\n",
              "  </tbody>\n",
              "</table>\n",
              "<p>12892 rows × 2 columns</p>\n",
              "</div>"
            ],
            "text/plain": [
              "       index     label\n",
              "0          0  0.000010\n",
              "1          1  0.033042\n",
              "2          2  0.000098\n",
              "3          3  0.999950\n",
              "4          4  0.999991\n",
              "...      ...       ...\n",
              "12887  12887  0.852107\n",
              "12888  12888  0.880718\n",
              "12889  12889  0.999949\n",
              "12890  12890  0.999346\n",
              "12891  12891  0.001057\n",
              "\n",
              "[12892 rows x 2 columns]"
            ]
          },
          "metadata": {
            "tags": []
          },
          "execution_count": 54
        }
      ]
    },
    {
      "cell_type": "code",
      "metadata": {
        "id": "b0SpysUG8ie3",
        "colab_type": "code",
        "colab": {}
      },
      "source": [
        "filename = \"my_prediction_resultsGBC0.9361.csv\"\n",
        "\n",
        "#make sure to not write the Pandas index column (index=False)\n",
        "results.to_csv(filename,index=False)"
      ],
      "execution_count": 0,
      "outputs": []
    },
    {
      "cell_type": "markdown",
      "metadata": {
        "id": "k11NIdNk88jk",
        "colab_type": "text"
      },
      "source": [
        "# **EIGHTH ATTEMPT**"
      ]
    },
    {
      "cell_type": "code",
      "metadata": {
        "colab_type": "code",
        "id": "HYkc38je9AyX",
        "colab": {}
      },
      "source": [
        "%matplotlib inline\n",
        "import pandas as pd;\n",
        "import seaborn as sns;\n",
        "import numpy as np;\n",
        "import matplotlib.pyplot as plt;\n",
        "\n",
        "trainset = pd.read_csv(\"https://raw.githubusercontent.com/sdgroeve/Machine_Learning_course_UGent_D012554_kaggle/master/eeg_train.csv\")\n",
        "\n",
        "testset = pd.read_csv(\"https://raw.githubusercontent.com/sdgroeve/Machine_Learning_course_UGent_D012554_kaggle/master/eeg_test.csv\")\n",
        "\n",
        "X_test = testset.iloc[:,:14]"
      ],
      "execution_count": 0,
      "outputs": []
    },
    {
      "cell_type": "code",
      "metadata": {
        "colab_type": "code",
        "id": "2L-u-hHr9Ayn",
        "colab": {}
      },
      "source": [
        "y_train = trainset.pop('label')\n",
        "X_train = trainset"
      ],
      "execution_count": 0,
      "outputs": []
    },
    {
      "cell_type": "code",
      "metadata": {
        "colab_type": "code",
        "id": "Jso-dLQA9Ayx",
        "colab": {}
      },
      "source": [
        "from sklearn.preprocessing import StandardScaler\n",
        "from sklearn.preprocessing import RobustScaler\n",
        "from sklearn.preprocessing import MinMaxScaler\n",
        "\n",
        "scaler = MinMaxScaler()\n",
        "X_train_stand = pd.DataFrame(scaler.fit_transform(X_train),columns=X_train.columns.values)\n",
        "X_test_stand = pd.DataFrame(scaler.transform(X_test),columns=X_test.columns.values)"
      ],
      "execution_count": 0,
      "outputs": []
    },
    {
      "cell_type": "code",
      "metadata": {
        "colab_type": "code",
        "outputId": "f8981a8a-2b2f-4fe0-afa3-03be13d9f023",
        "id": "mHmRmDzp9Ay6",
        "colab": {
          "base_uri": "https://localhost:8080/",
          "height": 34
        }
      },
      "source": [
        "from sklearn.ensemble import RandomForestClassifier\n",
        "from sklearn.ensemble import AdaBoostClassifier\n",
        "from sklearn.ensemble import GradientBoostingClassifier\n",
        "from sklearn.tree import DecisionTreeClassifier\n",
        "from sklearn.model_selection import cross_val_score\n",
        "\n",
        "bdt = RandomForestClassifier()\n",
        "score_auc = cross_val_score(bdt, X_train_stand, y_train, scoring='roc_auc', cv=10).mean()\n",
        "\n",
        "print(score_auc)"
      ],
      "execution_count": 0,
      "outputs": [
        {
          "output_type": "stream",
          "text": [
            "0.9268371348325477\n"
          ],
          "name": "stdout"
        }
      ]
    },
    {
      "cell_type": "code",
      "metadata": {
        "colab_type": "code",
        "outputId": "195a86f9-6d96-432f-a7d9-b5ad22dc41c2",
        "id": "5dV_VLfp9AzC",
        "colab": {
          "base_uri": "https://localhost:8080/",
          "height": 85
        }
      },
      "source": [
        "from sklearn.model_selection import GridSearchCV\n",
        "\n",
        "minsamples = [1,2]       \n",
        "params = dict(min_samples_leaf=minsamples)\n",
        "grid_search = GridSearchCV(bdt, param_grid=params, iid=False)\n",
        "\n",
        "grid_search.fit(X_train_stand, y_train)\n",
        "\n",
        "means = grid_search.cv_results_['mean_test_score']\n",
        "stds = grid_search.cv_results_['std_test_score']\n",
        "\n",
        "for mean_score, std, params in zip(means, stds, grid_search.cv_results_['params']):\n",
        "    print(\"{:.3f} (+/-{:.3f}) for {}\".format(mean_score, std * 2, params))"
      ],
      "execution_count": 0,
      "outputs": [
        {
          "output_type": "stream",
          "text": [
            "/usr/local/lib/python3.6/dist-packages/sklearn/model_selection/_search.py:823: FutureWarning: The parameter 'iid' is deprecated in 0.22 and will be removed in 0.24.\n",
            "  \"removed in 0.24.\", FutureWarning\n"
          ],
          "name": "stderr"
        },
        {
          "output_type": "stream",
          "text": [
            "0.842 (+/-0.042) for {'min_samples_leaf': 1}\n",
            "0.835 (+/-0.048) for {'min_samples_leaf': 2}\n"
          ],
          "name": "stdout"
        }
      ]
    },
    {
      "cell_type": "code",
      "metadata": {
        "colab_type": "code",
        "outputId": "ff1df10c-2f4f-4898-d9b5-24fca538f9af",
        "id": "JLIGulCo9AzI",
        "colab": {
          "base_uri": "https://localhost:8080/",
          "height": 153
        }
      },
      "source": [
        "bdt = RandomForestClassifier()\n",
        "bdt.fit(X_train_stand, y_train)"
      ],
      "execution_count": 0,
      "outputs": [
        {
          "output_type": "execute_result",
          "data": {
            "text/plain": [
              "RandomForestClassifier(bootstrap=True, ccp_alpha=0.0, class_weight=None,\n",
              "                       criterion='gini', max_depth=None, max_features='auto',\n",
              "                       max_leaf_nodes=None, max_samples=None,\n",
              "                       min_impurity_decrease=0.0, min_impurity_split=None,\n",
              "                       min_samples_leaf=1, min_samples_split=2,\n",
              "                       min_weight_fraction_leaf=0.0, n_estimators=100,\n",
              "                       n_jobs=None, oob_score=False, random_state=None,\n",
              "                       verbose=0, warm_start=False)"
            ]
          },
          "metadata": {
            "tags": []
          },
          "execution_count": 61
        }
      ]
    },
    {
      "cell_type": "code",
      "metadata": {
        "colab_type": "code",
        "outputId": "d09d7613-0d13-48c9-eaf4-9a24de1308dc",
        "id": "3QZ4nCo99AzN",
        "colab": {
          "base_uri": "https://localhost:8080/",
          "height": 136
        }
      },
      "source": [
        "predictionsRFC = bdt.predict_proba(X_test_stand)\n",
        "predictionsRFC"
      ],
      "execution_count": 0,
      "outputs": [
        {
          "output_type": "execute_result",
          "data": {
            "text/plain": [
              "array([[0.91, 0.09],\n",
              "       [0.63, 0.37],\n",
              "       [0.92, 0.08],\n",
              "       ...,\n",
              "       [0.17, 0.83],\n",
              "       [0.22, 0.78],\n",
              "       [0.71, 0.29]])"
            ]
          },
          "metadata": {
            "tags": []
          },
          "execution_count": 62
        }
      ]
    },
    {
      "cell_type": "code",
      "metadata": {
        "colab_type": "code",
        "outputId": "db899aee-db90-4c9e-b540-75e76636846e",
        "id": "uNXBjCrR9AzQ",
        "colab": {
          "base_uri": "https://localhost:8080/",
          "height": 419
        }
      },
      "source": [
        "results = pd.DataFrame()\n",
        "results['index'] = testset['index']\n",
        "results['label'] = predictionsRFC[:,1]\n",
        "results"
      ],
      "execution_count": 0,
      "outputs": [
        {
          "output_type": "execute_result",
          "data": {
            "text/html": [
              "<div>\n",
              "<style scoped>\n",
              "    .dataframe tbody tr th:only-of-type {\n",
              "        vertical-align: middle;\n",
              "    }\n",
              "\n",
              "    .dataframe tbody tr th {\n",
              "        vertical-align: top;\n",
              "    }\n",
              "\n",
              "    .dataframe thead th {\n",
              "        text-align: right;\n",
              "    }\n",
              "</style>\n",
              "<table border=\"1\" class=\"dataframe\">\n",
              "  <thead>\n",
              "    <tr style=\"text-align: right;\">\n",
              "      <th></th>\n",
              "      <th>index</th>\n",
              "      <th>label</th>\n",
              "    </tr>\n",
              "  </thead>\n",
              "  <tbody>\n",
              "    <tr>\n",
              "      <th>0</th>\n",
              "      <td>0</td>\n",
              "      <td>0.09</td>\n",
              "    </tr>\n",
              "    <tr>\n",
              "      <th>1</th>\n",
              "      <td>1</td>\n",
              "      <td>0.37</td>\n",
              "    </tr>\n",
              "    <tr>\n",
              "      <th>2</th>\n",
              "      <td>2</td>\n",
              "      <td>0.08</td>\n",
              "    </tr>\n",
              "    <tr>\n",
              "      <th>3</th>\n",
              "      <td>3</td>\n",
              "      <td>0.92</td>\n",
              "    </tr>\n",
              "    <tr>\n",
              "      <th>4</th>\n",
              "      <td>4</td>\n",
              "      <td>0.84</td>\n",
              "    </tr>\n",
              "    <tr>\n",
              "      <th>...</th>\n",
              "      <td>...</td>\n",
              "      <td>...</td>\n",
              "    </tr>\n",
              "    <tr>\n",
              "      <th>12887</th>\n",
              "      <td>12887</td>\n",
              "      <td>0.58</td>\n",
              "    </tr>\n",
              "    <tr>\n",
              "      <th>12888</th>\n",
              "      <td>12888</td>\n",
              "      <td>0.66</td>\n",
              "    </tr>\n",
              "    <tr>\n",
              "      <th>12889</th>\n",
              "      <td>12889</td>\n",
              "      <td>0.83</td>\n",
              "    </tr>\n",
              "    <tr>\n",
              "      <th>12890</th>\n",
              "      <td>12890</td>\n",
              "      <td>0.78</td>\n",
              "    </tr>\n",
              "    <tr>\n",
              "      <th>12891</th>\n",
              "      <td>12891</td>\n",
              "      <td>0.29</td>\n",
              "    </tr>\n",
              "  </tbody>\n",
              "</table>\n",
              "<p>12892 rows × 2 columns</p>\n",
              "</div>"
            ],
            "text/plain": [
              "       index  label\n",
              "0          0   0.09\n",
              "1          1   0.37\n",
              "2          2   0.08\n",
              "3          3   0.92\n",
              "4          4   0.84\n",
              "...      ...    ...\n",
              "12887  12887   0.58\n",
              "12888  12888   0.66\n",
              "12889  12889   0.83\n",
              "12890  12890   0.78\n",
              "12891  12891   0.29\n",
              "\n",
              "[12892 rows x 2 columns]"
            ]
          },
          "metadata": {
            "tags": []
          },
          "execution_count": 63
        }
      ]
    },
    {
      "cell_type": "code",
      "metadata": {
        "colab_type": "code",
        "id": "SwBNJgeX9AzU",
        "colab": {}
      },
      "source": [
        "filename = \"my_prediction_resultsRFC0.9258.csv\"\n",
        "\n",
        "#make sure to not write the Pandas index column (index=False)\n",
        "results.to_csv(filename,index=False)"
      ],
      "execution_count": 0,
      "outputs": []
    },
    {
      "cell_type": "markdown",
      "metadata": {
        "id": "PbQhkZg_GyWd",
        "colab_type": "text"
      },
      "source": [
        "# **ENSEMBLE PREDICTIONS OF 6, 7, 8 ATTEMPT**"
      ]
    },
    {
      "cell_type": "code",
      "metadata": {
        "id": "eC9JUE-UG7rk",
        "colab_type": "code",
        "outputId": "71d8ae49-61bb-4a9a-f39b-01f9121c5c72",
        "colab": {
          "base_uri": "https://localhost:8080/",
          "height": 136
        }
      },
      "source": [
        "predictions_final = predictionsSVC*0.4 + predictionsGBC*0.3 + predictionsRFC*0.3\n",
        "predictions_final"
      ],
      "execution_count": 0,
      "outputs": [
        {
          "output_type": "execute_result",
          "data": {
            "text/plain": [
              "array([[0.97298557, 0.02701443],\n",
              "       [0.59794423, 0.40205577],\n",
              "       [0.97471033, 0.02528967],\n",
              "       ...,\n",
              "       [0.05101722, 0.94898278],\n",
              "       [0.10477169, 0.89522831],\n",
              "       [0.89547158, 0.10452842]])"
            ]
          },
          "metadata": {
            "tags": []
          },
          "execution_count": 68
        }
      ]
    },
    {
      "cell_type": "code",
      "metadata": {
        "id": "HcIxwI42KJ1_",
        "colab_type": "code",
        "outputId": "a96b8b38-ee66-42e9-fd77-806974f3befe",
        "colab": {
          "base_uri": "https://localhost:8080/",
          "height": 419
        }
      },
      "source": [
        "results = pd.DataFrame()\n",
        "results['index'] = testset['index']\n",
        "results['label'] = predictions_final[:,1]\n",
        "results"
      ],
      "execution_count": 0,
      "outputs": [
        {
          "output_type": "execute_result",
          "data": {
            "text/html": [
              "<div>\n",
              "<style scoped>\n",
              "    .dataframe tbody tr th:only-of-type {\n",
              "        vertical-align: middle;\n",
              "    }\n",
              "\n",
              "    .dataframe tbody tr th {\n",
              "        vertical-align: top;\n",
              "    }\n",
              "\n",
              "    .dataframe thead th {\n",
              "        text-align: right;\n",
              "    }\n",
              "</style>\n",
              "<table border=\"1\" class=\"dataframe\">\n",
              "  <thead>\n",
              "    <tr style=\"text-align: right;\">\n",
              "      <th></th>\n",
              "      <th>index</th>\n",
              "      <th>label</th>\n",
              "    </tr>\n",
              "  </thead>\n",
              "  <tbody>\n",
              "    <tr>\n",
              "      <th>0</th>\n",
              "      <td>0</td>\n",
              "      <td>0.027014</td>\n",
              "    </tr>\n",
              "    <tr>\n",
              "      <th>1</th>\n",
              "      <td>1</td>\n",
              "      <td>0.402056</td>\n",
              "    </tr>\n",
              "    <tr>\n",
              "      <th>2</th>\n",
              "      <td>2</td>\n",
              "      <td>0.025290</td>\n",
              "    </tr>\n",
              "    <tr>\n",
              "      <th>3</th>\n",
              "      <td>3</td>\n",
              "      <td>0.975985</td>\n",
              "    </tr>\n",
              "    <tr>\n",
              "      <th>4</th>\n",
              "      <td>4</td>\n",
              "      <td>0.951997</td>\n",
              "    </tr>\n",
              "    <tr>\n",
              "      <th>...</th>\n",
              "      <td>...</td>\n",
              "      <td>...</td>\n",
              "    </tr>\n",
              "    <tr>\n",
              "      <th>12887</th>\n",
              "      <td>12887</td>\n",
              "      <td>0.500110</td>\n",
              "    </tr>\n",
              "    <tr>\n",
              "      <th>12888</th>\n",
              "      <td>12888</td>\n",
              "      <td>0.860788</td>\n",
              "    </tr>\n",
              "    <tr>\n",
              "      <th>12889</th>\n",
              "      <td>12889</td>\n",
              "      <td>0.948983</td>\n",
              "    </tr>\n",
              "    <tr>\n",
              "      <th>12890</th>\n",
              "      <td>12890</td>\n",
              "      <td>0.895228</td>\n",
              "    </tr>\n",
              "    <tr>\n",
              "      <th>12891</th>\n",
              "      <td>12891</td>\n",
              "      <td>0.104528</td>\n",
              "    </tr>\n",
              "  </tbody>\n",
              "</table>\n",
              "<p>12892 rows × 2 columns</p>\n",
              "</div>"
            ],
            "text/plain": [
              "       index     label\n",
              "0          0  0.027014\n",
              "1          1  0.402056\n",
              "2          2  0.025290\n",
              "3          3  0.975985\n",
              "4          4  0.951997\n",
              "...      ...       ...\n",
              "12887  12887  0.500110\n",
              "12888  12888  0.860788\n",
              "12889  12889  0.948983\n",
              "12890  12890  0.895228\n",
              "12891  12891  0.104528\n",
              "\n",
              "[12892 rows x 2 columns]"
            ]
          },
          "metadata": {
            "tags": []
          },
          "execution_count": 69
        }
      ]
    },
    {
      "cell_type": "code",
      "metadata": {
        "id": "D7eBdl3zKPwZ",
        "colab_type": "code",
        "colab": {}
      },
      "source": [
        "filename = \"my_prediction_resultsSVCandGBCandRFC.csv\"\n",
        "\n",
        "#make sure to not write the Pandas index column (index=False)\n",
        "results.to_csv(filename,index=False)"
      ],
      "execution_count": 0,
      "outputs": []
    },
    {
      "cell_type": "markdown",
      "metadata": {
        "id": "jeQC6PygRF9G",
        "colab_type": "text"
      },
      "source": [
        "**score=0.96360**"
      ]
    },
    {
      "cell_type": "markdown",
      "metadata": {
        "id": "pSLlZLlEGMke",
        "colab_type": "text"
      },
      "source": [
        "# **Some extra info**"
      ]
    },
    {
      "cell_type": "code",
      "metadata": {
        "id": "wwaQ9lfVPKPy",
        "colab_type": "code",
        "colab": {}
      },
      "source": [
        "%matplotlib inline\n",
        "import pandas as pd;\n",
        "import seaborn as sns;\n",
        "import numpy as np;\n",
        "import matplotlib.pyplot as plt;\n",
        "\n",
        "trainset = pd.read_csv(\"https://raw.githubusercontent.com/sdgroeve/Machine_Learning_course_UGent_D012554_kaggle/master/eeg_train.csv\")\n",
        "\n",
        "testset = pd.read_csv(\"https://raw.githubusercontent.com/sdgroeve/Machine_Learning_course_UGent_D012554_kaggle/master/eeg_test.csv\")\n",
        "\n",
        "#y_train = trainset.pop('label')\n",
        "#X_train = trainset\n",
        "X_test = testset"
      ],
      "execution_count": 0,
      "outputs": []
    },
    {
      "cell_type": "code",
      "metadata": {
        "id": "xqah2JP4PRMg",
        "colab_type": "code",
        "outputId": "dd7cd78e-7e49-44f2-c690-324cbb5318b9",
        "colab": {
          "base_uri": "https://localhost:8080/",
          "height": 272
        }
      },
      "source": [
        "len(trainset) - trainset.count()"
      ],
      "execution_count": 0,
      "outputs": [
        {
          "output_type": "execute_result",
          "data": {
            "text/plain": [
              "AF3    0\n",
              "F7     0\n",
              "F3     0\n",
              "FC5    0\n",
              "T7     0\n",
              "P7     0\n",
              "O1     0\n",
              "02     0\n",
              "P8     0\n",
              "T8     0\n",
              "FC6    0\n",
              "F4     0\n",
              "F8     0\n",
              "AF4    0\n",
              "dtype: int64"
            ]
          },
          "metadata": {
            "tags": []
          },
          "execution_count": 14
        }
      ]
    },
    {
      "cell_type": "code",
      "metadata": {
        "id": "j6-HFAJSt3vv",
        "colab_type": "code",
        "outputId": "23006cda-a755-452d-aae1-6ff0a315ee9b",
        "colab": {
          "base_uri": "https://localhost:8080/",
          "height": 596
        }
      },
      "source": [
        "plt.figure(figsize=(12,10))\n",
        "corr = trainset.corr()\n",
        "sns.heatmap(corr, annot=True, cmap=plt.cm.Reds)\n",
        "plt.show()"
      ],
      "execution_count": 0,
      "outputs": [
        {
          "output_type": "display_data",
          "data": {
            "image/png": "[encoded data removed]",
            "text/plain": [
              "<Figure size 864x720 with 2 Axes>"
            ]
          },
          "metadata": {
            "tags": [],
            "needs_background": "light"
          }
        }
      ]
    },
    {
      "cell_type": "code",
      "metadata": {
        "id": "Iiuitn7lCH2S",
        "colab_type": "code",
        "outputId": "cd3a4ab1-c00f-45c2-bbe9-c43cd2f43abb",
        "colab": {
          "base_uri": "https://localhost:8080/",
          "height": 606
        }
      },
      "source": [
        "plt.figure(figsize=(12,10))\n",
        "sns.scatterplot(x='AF3', y='AF4', data=X_train_stand, hue=y_train)\n",
        "plt.show()"
      ],
      "execution_count": 0,
      "outputs": [
        {
          "output_type": "display_data",
          "data": {
            "image/png": "[encoded data removed]",
            "text/plain": [
              "<Figure size 864x720 with 1 Axes>"
            ]
          },
          "metadata": {
            "tags": [],
            "needs_background": "light"
          }
        }
      ]
    },
    {
      "cell_type": "code",
      "metadata": {
        "id": "FVPffKTkDOM4",
        "colab_type": "code",
        "colab": {}
      },
      "source": [
        "X_removed = X_train_stand.drop('AF3', axis=1)"
      ],
      "execution_count": 0,
      "outputs": []
    },
    {
      "cell_type": "code",
      "metadata": {
        "id": "6GsjKAHPDaKj",
        "colab_type": "code",
        "outputId": "36264a55-4ac1-473f-a800-2d13e122d1c1",
        "colab": {
          "base_uri": "https://localhost:8080/",
          "height": 34
        }
      },
      "source": [
        "from sklearn.svm import SVC\n",
        "from sklearn.model_selection import cross_val_score\n",
        "\n",
        "modelremoved = SVC(C=10, gamma=25, probability=True)\n",
        "score_auc = cross_val_score(modelremoved, X_removed, y_train, scoring='roc_auc', cv=10).mean()\n",
        "\n",
        "print(score_auc)"
      ],
      "execution_count": 0,
      "outputs": [
        {
          "output_type": "stream",
          "text": [
            "0.9626928861149044\n"
          ],
          "name": "stdout"
        }
      ]
    },
    {
      "cell_type": "code",
      "metadata": {
        "id": "I0KeWhbfDt3a",
        "colab_type": "code",
        "outputId": "5579c089-8d1b-4d66-dc1b-0113427cc7f8",
        "colab": {
          "base_uri": "https://localhost:8080/",
          "height": 476
        }
      },
      "source": [
        "from sklearn.model_selection import GridSearchCV\n",
        "\n",
        "search_space = [8,9,10,11,12]\n",
        "search_gamma = [21,22,23,24,25]             \n",
        "params = dict(C=search_space, gamma=search_gamma)\n",
        "grid_search = GridSearchCV(modelremoved, param_grid=params, iid=False)\n",
        "\n",
        "grid_search.fit(X_removed, y_train)\n",
        "\n",
        "means = grid_search.cv_results_['mean_test_score']\n",
        "stds = grid_search.cv_results_['std_test_score']\n",
        "\n",
        "for mean_score, std, params in zip(means, stds, grid_search.cv_results_['params']):\n",
        "    print(\"{:.3f} (+/-{:.3f}) for {}\".format(mean_score, std * 2, params))"
      ],
      "execution_count": 0,
      "outputs": [
        {
          "output_type": "stream",
          "text": [
            "/usr/local/lib/python3.6/dist-packages/sklearn/model_selection/_search.py:823: FutureWarning: The parameter 'iid' is deprecated in 0.22 and will be removed in 0.24.\n",
            "  \"removed in 0.24.\", FutureWarning\n"
          ],
          "name": "stderr"
        },
        {
          "output_type": "stream",
          "text": [
            "0.903 (+/-0.028) for {'C': 8, 'gamma': 21}\n",
            "0.902 (+/-0.030) for {'C': 8, 'gamma': 22}\n",
            "0.902 (+/-0.027) for {'C': 8, 'gamma': 23}\n",
            "0.903 (+/-0.023) for {'C': 8, 'gamma': 24}\n",
            "0.904 (+/-0.020) for {'C': 8, 'gamma': 25}\n",
            "0.902 (+/-0.027) for {'C': 9, 'gamma': 21}\n",
            "0.902 (+/-0.027) for {'C': 9, 'gamma': 22}\n",
            "0.903 (+/-0.024) for {'C': 9, 'gamma': 23}\n",
            "0.903 (+/-0.021) for {'C': 9, 'gamma': 24}\n",
            "0.903 (+/-0.022) for {'C': 9, 'gamma': 25}\n",
            "0.903 (+/-0.028) for {'C': 10, 'gamma': 21}\n",
            "0.902 (+/-0.023) for {'C': 10, 'gamma': 22}\n",
            "0.904 (+/-0.022) for {'C': 10, 'gamma': 23}\n",
            "0.904 (+/-0.025) for {'C': 10, 'gamma': 24}\n",
            "0.906 (+/-0.026) for {'C': 10, 'gamma': 25}\n",
            "0.903 (+/-0.022) for {'C': 11, 'gamma': 21}\n",
            "0.903 (+/-0.024) for {'C': 11, 'gamma': 22}\n",
            "0.905 (+/-0.026) for {'C': 11, 'gamma': 23}\n",
            "0.903 (+/-0.027) for {'C': 11, 'gamma': 24}\n",
            "0.903 (+/-0.029) for {'C': 11, 'gamma': 25}\n",
            "0.904 (+/-0.024) for {'C': 12, 'gamma': 21}\n",
            "0.906 (+/-0.026) for {'C': 12, 'gamma': 22}\n",
            "0.902 (+/-0.027) for {'C': 12, 'gamma': 23}\n",
            "0.903 (+/-0.029) for {'C': 12, 'gamma': 24}\n",
            "0.903 (+/-0.029) for {'C': 12, 'gamma': 25}\n"
          ],
          "name": "stdout"
        }
      ]
    },
    {
      "cell_type": "code",
      "metadata": {
        "id": "zo9v-PQasYOc",
        "colab_type": "code",
        "outputId": "04d6560b-7c6e-4799-84aa-24432a7db643",
        "colab": {
          "base_uri": "https://localhost:8080/",
          "height": 51
        }
      },
      "source": [
        "from sklearn import linear_model\n",
        "from sklearn.linear_model import LassoCV\n",
        "\n",
        "trainset2 = pd.read_csv(\"https://raw.githubusercontent.com/sdgroeve/Machine_Learning_course_UGent_D012554_kaggle/master/eeg_train.csv\")\n",
        "y = trainset2.pop('label')\n",
        "x = trainset2\n",
        "reg = LassoCV()\n",
        "reg.fit(x, y)\n",
        "print(\"Best alpha using built-in LassoCV: %f\" % reg.alpha_)\n",
        "print(\"Best score using built-in LassoCV: %f\" %reg.score(x,y))\n",
        "coef = pd.Series(reg.coef_, index = x.columns)"
      ],
      "execution_count": 0,
      "outputs": [
        {
          "output_type": "stream",
          "text": [
            "Best alpha using built-in LassoCV: 0.042513\n",
            "Best score using built-in LassoCV: 0.088113\n"
          ],
          "name": "stdout"
        }
      ]
    },
    {
      "cell_type": "code",
      "metadata": {
        "id": "eVQxLkpu0Zrg",
        "colab_type": "code",
        "outputId": "6ce1ac26-535a-4d71-b25d-cc15c8c3ca52",
        "colab": {
          "base_uri": "https://localhost:8080/",
          "height": 624
        }
      },
      "source": [
        "imp_coef = coef.sort_values()\n",
        "import matplotlib\n",
        "matplotlib.rcParams['figure.figsize'] = (8.0, 10.0)\n",
        "imp_coef.plot(kind = \"barh\")\n",
        "plt.title(\"Feature importance using Lasso Model\")"
      ],
      "execution_count": 0,
      "outputs": [
        {
          "output_type": "execute_result",
          "data": {
            "text/plain": [
              "Text(0.5, 1.0, 'Feature importance using Lasso Model')"
            ]
          },
          "metadata": {
            "tags": []
          },
          "execution_count": 17
        },
        {
          "output_type": "display_data",
          "data": {
            "image/png": "[encoded data removed]",
            "text/plain": [
              "<Figure size 576x720 with 1 Axes>"
            ]
          },
          "metadata": {
            "tags": [],
            "needs_background": "light"
          }
        }
      ]
    },
    {
      "cell_type": "code",
      "metadata": {
        "id": "RSw4Km-UDSyu",
        "colab_type": "code",
        "outputId": "3c5749f1-3e72-4a2c-ac4c-ec90020cf3ab",
        "colab": {
          "base_uri": "https://localhost:8080/",
          "height": 459
        }
      },
      "source": [
        "from sklearn.decomposition import PCA\n",
        "\n",
        "pca = PCA(n_components=2)\n",
        "train_pca = pca.fit_transform(X_train)\n",
        "train_pca_df = pd.DataFrame(train_pca, columns=['PC1', 'PC2'])\n",
        "print(train_pca_df)\n",
        "print(y_train)"
      ],
      "execution_count": 0,
      "outputs": [
        {
          "output_type": "stream",
          "text": [
            "             PC1         PC2\n",
            "0      12.408407   19.690757\n",
            "1     -11.879966  -15.478519\n",
            "2       0.136056  -34.760012\n",
            "3     373.508372  164.582414\n",
            "4      86.937650   -9.299290\n",
            "...          ...         ...\n",
            "1995 -141.412180   45.028574\n",
            "1996  -59.138070    1.314678\n",
            "1997  -29.267815  -22.544317\n",
            "1998   20.676037   46.896765\n",
            "1999   18.193672    8.065968\n",
            "\n",
            "[2000 rows x 2 columns]\n",
            "0       1\n",
            "1       0\n",
            "2       0\n",
            "3       0\n",
            "4       1\n",
            "       ..\n",
            "1995    1\n",
            "1996    0\n",
            "1997    0\n",
            "1998    0\n",
            "1999    0\n",
            "Name: label, Length: 2000, dtype: int64\n"
          ],
          "name": "stdout"
        }
      ]
    },
    {
      "cell_type": "code",
      "metadata": {
        "id": "NZJn8f2WD_Vf",
        "colab_type": "code",
        "outputId": "6cd290f6-dcff-4887-c2f8-952e072b39c6",
        "colab": {
          "base_uri": "https://localhost:8080/",
          "height": 606
        }
      },
      "source": [
        "plt.figure(figsize=(12,10))\n",
        "sns.scatterplot(x='PC1', y='PC2', hue=y_train, data=train_pca_df)\n",
        "plt.show()"
      ],
      "execution_count": 0,
      "outputs": [
        {
          "output_type": "display_data",
          "data": {
            "image/png": "[encoded data removed]",
            "text/plain": [
              "<Figure size 864x720 with 1 Axes>"
            ]
          },
          "metadata": {
            "tags": [],
            "needs_background": "light"
          }
        }
      ]
    },
    {
      "cell_type": "code",
      "metadata": {
        "id": "sXnasgdAExFM",
        "colab_type": "code",
        "outputId": "7ae3fa6d-8b83-46b5-fed2-86ed971d823e",
        "colab": {
          "base_uri": "https://localhost:8080/",
          "height": 85
        }
      },
      "source": [
        "from sklearn.svm import SVC\n",
        "\n",
        "model = SVC(C=10, gamma=23, probability=True)\n",
        "model.fit(X_train, y_train)"
      ],
      "execution_count": 0,
      "outputs": [
        {
          "output_type": "execute_result",
          "data": {
            "text/plain": [
              "SVC(C=10, break_ties=False, cache_size=200, class_weight=None, coef0=0.0,\n",
              "    decision_function_shape='ovr', degree=3, gamma=23, kernel='rbf',\n",
              "    max_iter=-1, probability=True, random_state=None, shrinking=True, tol=0.001,\n",
              "    verbose=False)"
            ]
          },
          "metadata": {
            "tags": []
          },
          "execution_count": 57
        }
      ]
    },
    {
      "cell_type": "code",
      "metadata": {
        "id": "HybkGmZUFL07",
        "colab_type": "code",
        "outputId": "53171896-2c57-40ad-fd18-2555c6962b4f",
        "colab": {
          "base_uri": "https://localhost:8080/",
          "height": 606
        }
      },
      "source": [
        "def plot_svm_decision_function(clf):\n",
        "\t\"\"\"Plot the decision function for a 2D SVC\"\"\"\n",
        "\tx = np.linspace(plt.xlim()[0], plt.xlim()[1], 30)\n",
        "\ty = np.linspace(plt.ylim()[0], plt.ylim()[1], 30)\n",
        "\tY, X = np.meshgrid(y, x)\n",
        "\tP = np.zeros_like(X)\n",
        "\tfor i, xi in enumerate(x):\n",
        "\t\tfor j, yj in enumerate(y):\n",
        "\t\t\tP[i, j] = clf.decision_function(np.array([xi, yj]).reshape(1,-1))\n",
        "\treturn plt.contour(X, Y, P, colors='k',\n",
        "\t\t\t\t\t   levels=[-1, 0, 1],\n",
        "\t\t\t\t\t   linestyles=['--', '-', '--'])\n",
        " \n",
        "model = SVC(C=4, gamma=0.1, probability=True)\n",
        "model.fit(train_pca_df,y_train)\n",
        "\n",
        "plt.figure(figsize=(12,10))\n",
        "sns.scatterplot(x='PC1', y='PC2', data=train_pca_df, hue=y_train)\n",
        "plot_svm_decision_function(model)\n",
        "plt.show()"
      ],
      "execution_count": 0,
      "outputs": [
        {
          "output_type": "display_data",
          "data": {
            "image/png": "[encoded data removed]",
            "text/plain": [
              "<Figure size 864x720 with 1 Axes>"
            ]
          },
          "metadata": {
            "tags": [],
            "needs_background": "light"
          }
        }
      ]
    },
    {
      "cell_type": "code",
      "metadata": {
        "id": "MMQZgG-77bG2",
        "colab_type": "code",
        "outputId": "fe7f1c19-38bb-4696-e47c-695451ed12e1",
        "colab": {
          "base_uri": "https://localhost:8080/",
          "height": 85
        }
      },
      "source": [
        "from sklearn.decomposition import PCA\n",
        "# Make PCA\n",
        "pca5 = PCA(n_components=13)\n",
        "pca5.fit(X_train_stand)\n",
        "X_red = pca5.transform(X_train_stand)\n",
        "\n",
        "# Make SVC\n",
        "linclass5 = SVC(C=10, gamma=25)\n",
        "linclass5.fit(X_red,y_train)"
      ],
      "execution_count": 0,
      "outputs": [
        {
          "output_type": "execute_result",
          "data": {
            "text/plain": [
              "SVC(C=10, break_ties=False, cache_size=200, class_weight=None, coef0=0.0,\n",
              "    decision_function_shape='ovr', degree=3, gamma=25, kernel='rbf',\n",
              "    max_iter=-1, probability=False, random_state=None, shrinking=True,\n",
              "    tol=0.001, verbose=False)"
            ]
          },
          "metadata": {
            "tags": []
          },
          "execution_count": 111
        }
      ]
    },
    {
      "cell_type": "code",
      "metadata": {
        "id": "psYHTqGLFS_X",
        "colab_type": "code",
        "outputId": "813666d5-7be8-4895-df76-63a083dcefd7",
        "colab": {
          "base_uri": "https://localhost:8080/",
          "height": 34
        }
      },
      "source": [
        "from sklearn.model_selection import cross_val_score\n",
        "\n",
        "score_auc = cross_val_score(linclass5, X_red, y_train, scoring='roc_auc', cv=10).mean()\n",
        "\n",
        "print(score_auc)"
      ],
      "execution_count": 0,
      "outputs": [
        {
          "output_type": "stream",
          "text": [
            "0.9670045469311525\n"
          ],
          "name": "stdout"
        }
      ]
    },
    {
      "cell_type": "code",
      "metadata": {
        "id": "qOikU8r-hJ0I",
        "colab_type": "code",
        "colab": {
          "base_uri": "https://localhost:8080/",
          "height": 51
        },
        "outputId": "6586062b-8be2-4aa8-e148-2d592b40097f"
      },
      "source": [
        "%matplotlib inline\n",
        "import pandas as pd;\n",
        "import seaborn as sns;\n",
        "import numpy as np;\n",
        "import matplotlib.pyplot as plt;\n",
        "\n",
        "trainset = pd.read_csv(\"https://raw.githubusercontent.com/sdgroeve/Machine_Learning_course_UGent_D012554_kaggle/master/eeg_train.csv\")\n",
        "\n",
        "testset = pd.read_csv(\"https://raw.githubusercontent.com/sdgroeve/Machine_Learning_course_UGent_D012554_kaggle/master/eeg_test.csv\")\n",
        "\n",
        "X_test = testset.iloc[:,:14]"
      ],
      "execution_count": 1,
      "outputs": [
        {
          "output_type": "stream",
          "text": [
            "/usr/local/lib/python3.6/dist-packages/statsmodels/tools/_testing.py:19: FutureWarning: pandas.util.testing is deprecated. Use the functions in the public API at pandas.testing instead.\n",
            "  import pandas.util.testing as tm\n"
          ],
          "name": "stderr"
        }
      ]
    },
    {
      "cell_type": "code",
      "metadata": {
        "id": "AOQv4J_khRSm",
        "colab_type": "code",
        "colab": {}
      },
      "source": [
        "y_train = trainset.pop('label')\n",
        "X_train = trainset"
      ],
      "execution_count": 0,
      "outputs": []
    },
    {
      "cell_type": "code",
      "metadata": {
        "id": "IADhRjyvhVld",
        "colab_type": "code",
        "colab": {}
      },
      "source": [
        "from sklearn.preprocessing import StandardScaler\n",
        "from sklearn.preprocessing import RobustScaler\n",
        "from sklearn.preprocessing import MinMaxScaler\n",
        "\n",
        "scaler = MinMaxScaler()\n",
        "X_train_stand = pd.DataFrame(scaler.fit_transform(X_train),columns=X_train.columns.values)\n",
        "X_test_stand = pd.DataFrame(scaler.transform(X_test),columns=X_test.columns.values)"
      ],
      "execution_count": 0,
      "outputs": []
    },
    {
      "cell_type": "code",
      "metadata": {
        "id": "n5eywmJWss8f",
        "colab_type": "code",
        "outputId": "2f544f64-681e-4bac-c74c-cd04920e5be4",
        "colab": {
          "base_uri": "https://localhost:8080/",
          "height": 374
        }
      },
      "source": [
        "# compare standalone models for binary classification\n",
        "from numpy import mean\n",
        "from numpy import std\n",
        "from sklearn.datasets import make_classification\n",
        "from sklearn.model_selection import cross_val_score\n",
        "from sklearn.model_selection import RepeatedStratifiedKFold\n",
        "from sklearn.ensemble import RandomForestClassifier\n",
        "from sklearn.ensemble import AdaBoostClassifier\n",
        "from sklearn.ensemble import GradientBoostingClassifier\n",
        "from sklearn.linear_model import LogisticRegression\n",
        "from sklearn.svm import SVC\n",
        "from matplotlib import pyplot\n",
        " \n",
        "# get a list of models to evaluate\n",
        "def get_models():\n",
        "  models = dict()\n",
        "  models['GBC'] = GradientBoostingClassifier(n_estimators = 500, max_depth=6)\n",
        "  models['RFC'] = RandomForestClassifier()\n",
        "  models['ADA'] = AdaBoostClassifier()\n",
        "  models['svm'] = SVC(C=10, gamma=23, probability=True)\n",
        "  return models\n",
        " \n",
        "# evaluate a given model using cross-validation\n",
        "def evaluate_model(model):\n",
        "\tcv = RepeatedStratifiedKFold(n_splits=10, n_repeats=3, random_state=1)\n",
        "\tscores = cross_val_score(model, X_train_stand, y_train, scoring='roc_auc', cv=cv, n_jobs=-1, error_score='raise')\n",
        "\treturn scores\n",
        " \n",
        "# get the models to evaluate\n",
        "models = get_models()\n",
        "# evaluate the models and store results\n",
        "results, names = list(), list()\n",
        "for name, model in models.items():\n",
        "\tscores = evaluate_model(model)\n",
        "\tresults.append(scores)\n",
        "\tnames.append(name)\n",
        "\tprint('>%s %.3f (%.3f)' % (name, mean(scores), std(scores)))\n",
        "# plot model performance for comparison\n",
        "pyplot.boxplot(results, labels=names, showmeans=True)\n",
        "pyplot.show()"
      ],
      "execution_count": 4,
      "outputs": [
        {
          "output_type": "error",
          "ename": "KeyboardInterrupt",
          "evalue": "ignored",
          "traceback": [
            "\u001b[0;31m---------------------------------------------------------------------------\u001b[0m",
            "\u001b[0;31mKeyboardInterrupt\u001b[0m                         Traceback (most recent call last)",
            "\u001b[0;32m<ipython-input-4-de5767b6ea31>\u001b[0m in \u001b[0;36m<module>\u001b[0;34m()\u001b[0m\n\u001b[1;32m     31\u001b[0m \u001b[0mresults\u001b[0m\u001b[0;34m,\u001b[0m \u001b[0mnames\u001b[0m \u001b[0;34m=\u001b[0m \u001b[0mlist\u001b[0m\u001b[0;34m(\u001b[0m\u001b[0;34m)\u001b[0m\u001b[0;34m,\u001b[0m \u001b[0mlist\u001b[0m\u001b[0;34m(\u001b[0m\u001b[0;34m)\u001b[0m\u001b[0;34m\u001b[0m\u001b[0;34m\u001b[0m\u001b[0m\n\u001b[1;32m     32\u001b[0m \u001b[0;32mfor\u001b[0m \u001b[0mname\u001b[0m\u001b[0;34m,\u001b[0m \u001b[0mmodel\u001b[0m \u001b[0;32min\u001b[0m \u001b[0mmodels\u001b[0m\u001b[0;34m.\u001b[0m\u001b[0mitems\u001b[0m\u001b[0;34m(\u001b[0m\u001b[0;34m)\u001b[0m\u001b[0;34m:\u001b[0m\u001b[0;34m\u001b[0m\u001b[0;34m\u001b[0m\u001b[0m\n\u001b[0;32m---> 33\u001b[0;31m         \u001b[0mscores\u001b[0m \u001b[0;34m=\u001b[0m \u001b[0mevaluate_model\u001b[0m\u001b[0;34m(\u001b[0m\u001b[0mmodel\u001b[0m\u001b[0;34m)\u001b[0m\u001b[0;34m\u001b[0m\u001b[0;34m\u001b[0m\u001b[0m\n\u001b[0m\u001b[1;32m     34\u001b[0m         \u001b[0mresults\u001b[0m\u001b[0;34m.\u001b[0m\u001b[0mappend\u001b[0m\u001b[0;34m(\u001b[0m\u001b[0mscores\u001b[0m\u001b[0;34m)\u001b[0m\u001b[0;34m\u001b[0m\u001b[0;34m\u001b[0m\u001b[0m\n\u001b[1;32m     35\u001b[0m         \u001b[0mnames\u001b[0m\u001b[0;34m.\u001b[0m\u001b[0mappend\u001b[0m\u001b[0;34m(\u001b[0m\u001b[0mname\u001b[0m\u001b[0;34m)\u001b[0m\u001b[0;34m\u001b[0m\u001b[0;34m\u001b[0m\u001b[0m\n",
            "\u001b[0;32m<ipython-input-4-de5767b6ea31>\u001b[0m in \u001b[0;36mevaluate_model\u001b[0;34m(model)\u001b[0m\n\u001b[1;32m     23\u001b[0m \u001b[0;32mdef\u001b[0m \u001b[0mevaluate_model\u001b[0m\u001b[0;34m(\u001b[0m\u001b[0mmodel\u001b[0m\u001b[0;34m)\u001b[0m\u001b[0;34m:\u001b[0m\u001b[0;34m\u001b[0m\u001b[0;34m\u001b[0m\u001b[0m\n\u001b[1;32m     24\u001b[0m         \u001b[0mcv\u001b[0m \u001b[0;34m=\u001b[0m \u001b[0mRepeatedStratifiedKFold\u001b[0m\u001b[0;34m(\u001b[0m\u001b[0mn_splits\u001b[0m\u001b[0;34m=\u001b[0m\u001b[0;36m10\u001b[0m\u001b[0;34m,\u001b[0m \u001b[0mn_repeats\u001b[0m\u001b[0;34m=\u001b[0m\u001b[0;36m3\u001b[0m\u001b[0;34m,\u001b[0m \u001b[0mrandom_state\u001b[0m\u001b[0;34m=\u001b[0m\u001b[0;36m1\u001b[0m\u001b[0;34m)\u001b[0m\u001b[0;34m\u001b[0m\u001b[0;34m\u001b[0m\u001b[0m\n\u001b[0;32m---> 25\u001b[0;31m         \u001b[0mscores\u001b[0m \u001b[0;34m=\u001b[0m \u001b[0mcross_val_score\u001b[0m\u001b[0;34m(\u001b[0m\u001b[0mmodel\u001b[0m\u001b[0;34m,\u001b[0m \u001b[0mX_train_stand\u001b[0m\u001b[0;34m,\u001b[0m \u001b[0my_train\u001b[0m\u001b[0;34m,\u001b[0m \u001b[0mscoring\u001b[0m\u001b[0;34m=\u001b[0m\u001b[0;34m'roc_auc'\u001b[0m\u001b[0;34m,\u001b[0m \u001b[0mcv\u001b[0m\u001b[0;34m=\u001b[0m\u001b[0mcv\u001b[0m\u001b[0;34m,\u001b[0m \u001b[0mn_jobs\u001b[0m\u001b[0;34m=\u001b[0m\u001b[0;34m-\u001b[0m\u001b[0;36m1\u001b[0m\u001b[0;34m,\u001b[0m \u001b[0merror_score\u001b[0m\u001b[0;34m=\u001b[0m\u001b[0;34m'raise'\u001b[0m\u001b[0;34m)\u001b[0m\u001b[0;34m\u001b[0m\u001b[0;34m\u001b[0m\u001b[0m\n\u001b[0m\u001b[1;32m     26\u001b[0m         \u001b[0;32mreturn\u001b[0m \u001b[0mscores\u001b[0m\u001b[0;34m\u001b[0m\u001b[0;34m\u001b[0m\u001b[0m\n\u001b[1;32m     27\u001b[0m \u001b[0;34m\u001b[0m\u001b[0m\n",
            "\u001b[0;32m/usr/local/lib/python3.6/dist-packages/sklearn/model_selection/_validation.py\u001b[0m in \u001b[0;36mcross_val_score\u001b[0;34m(estimator, X, y, groups, scoring, cv, n_jobs, verbose, fit_params, pre_dispatch, error_score)\u001b[0m\n\u001b[1;32m    388\u001b[0m                                 \u001b[0mfit_params\u001b[0m\u001b[0;34m=\u001b[0m\u001b[0mfit_params\u001b[0m\u001b[0;34m,\u001b[0m\u001b[0;34m\u001b[0m\u001b[0;34m\u001b[0m\u001b[0m\n\u001b[1;32m    389\u001b[0m                                 \u001b[0mpre_dispatch\u001b[0m\u001b[0;34m=\u001b[0m\u001b[0mpre_dispatch\u001b[0m\u001b[0;34m,\u001b[0m\u001b[0;34m\u001b[0m\u001b[0;34m\u001b[0m\u001b[0m\n\u001b[0;32m--> 390\u001b[0;31m                                 error_score=error_score)\n\u001b[0m\u001b[1;32m    391\u001b[0m     \u001b[0;32mreturn\u001b[0m \u001b[0mcv_results\u001b[0m\u001b[0;34m[\u001b[0m\u001b[0;34m'test_score'\u001b[0m\u001b[0;34m]\u001b[0m\u001b[0;34m\u001b[0m\u001b[0;34m\u001b[0m\u001b[0m\n\u001b[1;32m    392\u001b[0m \u001b[0;34m\u001b[0m\u001b[0m\n",
            "\u001b[0;32m/usr/local/lib/python3.6/dist-packages/sklearn/model_selection/_validation.py\u001b[0m in \u001b[0;36mcross_validate\u001b[0;34m(estimator, X, y, groups, scoring, cv, n_jobs, verbose, fit_params, pre_dispatch, return_train_score, return_estimator, error_score)\u001b[0m\n\u001b[1;32m    234\u001b[0m             \u001b[0mreturn_times\u001b[0m\u001b[0;34m=\u001b[0m\u001b[0;32mTrue\u001b[0m\u001b[0;34m,\u001b[0m \u001b[0mreturn_estimator\u001b[0m\u001b[0;34m=\u001b[0m\u001b[0mreturn_estimator\u001b[0m\u001b[0;34m,\u001b[0m\u001b[0;34m\u001b[0m\u001b[0;34m\u001b[0m\u001b[0m\n\u001b[1;32m    235\u001b[0m             error_score=error_score)\n\u001b[0;32m--> 236\u001b[0;31m         for train, test in cv.split(X, y, groups))\n\u001b[0m\u001b[1;32m    237\u001b[0m \u001b[0;34m\u001b[0m\u001b[0m\n\u001b[1;32m    238\u001b[0m     \u001b[0mzipped_scores\u001b[0m \u001b[0;34m=\u001b[0m \u001b[0mlist\u001b[0m\u001b[0;34m(\u001b[0m\u001b[0mzip\u001b[0m\u001b[0;34m(\u001b[0m\u001b[0;34m*\u001b[0m\u001b[0mscores\u001b[0m\u001b[0;34m)\u001b[0m\u001b[0;34m)\u001b[0m\u001b[0;34m\u001b[0m\u001b[0;34m\u001b[0m\u001b[0m\n",
            "\u001b[0;32m/usr/local/lib/python3.6/dist-packages/joblib/parallel.py\u001b[0m in \u001b[0;36m__call__\u001b[0;34m(self, iterable)\u001b[0m\n\u001b[1;32m   1015\u001b[0m \u001b[0;34m\u001b[0m\u001b[0m\n\u001b[1;32m   1016\u001b[0m             \u001b[0;32mwith\u001b[0m \u001b[0mself\u001b[0m\u001b[0;34m.\u001b[0m\u001b[0m_backend\u001b[0m\u001b[0;34m.\u001b[0m\u001b[0mretrieval_context\u001b[0m\u001b[0;34m(\u001b[0m\u001b[0;34m)\u001b[0m\u001b[0;34m:\u001b[0m\u001b[0;34m\u001b[0m\u001b[0;34m\u001b[0m\u001b[0m\n\u001b[0;32m-> 1017\u001b[0;31m                 \u001b[0mself\u001b[0m\u001b[0;34m.\u001b[0m\u001b[0mretrieve\u001b[0m\u001b[0;34m(\u001b[0m\u001b[0;34m)\u001b[0m\u001b[0;34m\u001b[0m\u001b[0;34m\u001b[0m\u001b[0m\n\u001b[0m\u001b[1;32m   1018\u001b[0m             \u001b[0;31m# Make sure that we get a last message telling us we are done\u001b[0m\u001b[0;34m\u001b[0m\u001b[0;34m\u001b[0m\u001b[0;34m\u001b[0m\u001b[0m\n\u001b[1;32m   1019\u001b[0m             \u001b[0melapsed_time\u001b[0m \u001b[0;34m=\u001b[0m \u001b[0mtime\u001b[0m\u001b[0;34m.\u001b[0m\u001b[0mtime\u001b[0m\u001b[0;34m(\u001b[0m\u001b[0;34m)\u001b[0m \u001b[0;34m-\u001b[0m \u001b[0mself\u001b[0m\u001b[0;34m.\u001b[0m\u001b[0m_start_time\u001b[0m\u001b[0;34m\u001b[0m\u001b[0;34m\u001b[0m\u001b[0m\n",
            "\u001b[0;32m/usr/local/lib/python3.6/dist-packages/joblib/parallel.py\u001b[0m in \u001b[0;36mretrieve\u001b[0;34m(self)\u001b[0m\n\u001b[1;32m    907\u001b[0m             \u001b[0;32mtry\u001b[0m\u001b[0;34m:\u001b[0m\u001b[0;34m\u001b[0m\u001b[0;34m\u001b[0m\u001b[0m\n\u001b[1;32m    908\u001b[0m                 \u001b[0;32mif\u001b[0m \u001b[0mgetattr\u001b[0m\u001b[0;34m(\u001b[0m\u001b[0mself\u001b[0m\u001b[0;34m.\u001b[0m\u001b[0m_backend\u001b[0m\u001b[0;34m,\u001b[0m \u001b[0;34m'supports_timeout'\u001b[0m\u001b[0;34m,\u001b[0m \u001b[0;32mFalse\u001b[0m\u001b[0;34m)\u001b[0m\u001b[0;34m:\u001b[0m\u001b[0;34m\u001b[0m\u001b[0;34m\u001b[0m\u001b[0m\n\u001b[0;32m--> 909\u001b[0;31m                     \u001b[0mself\u001b[0m\u001b[0;34m.\u001b[0m\u001b[0m_output\u001b[0m\u001b[0;34m.\u001b[0m\u001b[0mextend\u001b[0m\u001b[0;34m(\u001b[0m\u001b[0mjob\u001b[0m\u001b[0;34m.\u001b[0m\u001b[0mget\u001b[0m\u001b[0;34m(\u001b[0m\u001b[0mtimeout\u001b[0m\u001b[0;34m=\u001b[0m\u001b[0mself\u001b[0m\u001b[0;34m.\u001b[0m\u001b[0mtimeout\u001b[0m\u001b[0;34m)\u001b[0m\u001b[0;34m)\u001b[0m\u001b[0;34m\u001b[0m\u001b[0;34m\u001b[0m\u001b[0m\n\u001b[0m\u001b[1;32m    910\u001b[0m                 \u001b[0;32melse\u001b[0m\u001b[0;34m:\u001b[0m\u001b[0;34m\u001b[0m\u001b[0;34m\u001b[0m\u001b[0m\n\u001b[1;32m    911\u001b[0m                     \u001b[0mself\u001b[0m\u001b[0;34m.\u001b[0m\u001b[0m_output\u001b[0m\u001b[0;34m.\u001b[0m\u001b[0mextend\u001b[0m\u001b[0;34m(\u001b[0m\u001b[0mjob\u001b[0m\u001b[0;34m.\u001b[0m\u001b[0mget\u001b[0m\u001b[0;34m(\u001b[0m\u001b[0;34m)\u001b[0m\u001b[0;34m)\u001b[0m\u001b[0;34m\u001b[0m\u001b[0;34m\u001b[0m\u001b[0m\n",
            "\u001b[0;32m/usr/local/lib/python3.6/dist-packages/joblib/_parallel_backends.py\u001b[0m in \u001b[0;36mwrap_future_result\u001b[0;34m(future, timeout)\u001b[0m\n\u001b[1;32m    560\u001b[0m         AsyncResults.get from multiprocessing.\"\"\"\n\u001b[1;32m    561\u001b[0m         \u001b[0;32mtry\u001b[0m\u001b[0;34m:\u001b[0m\u001b[0;34m\u001b[0m\u001b[0;34m\u001b[0m\u001b[0m\n\u001b[0;32m--> 562\u001b[0;31m             \u001b[0;32mreturn\u001b[0m \u001b[0mfuture\u001b[0m\u001b[0;34m.\u001b[0m\u001b[0mresult\u001b[0m\u001b[0;34m(\u001b[0m\u001b[0mtimeout\u001b[0m\u001b[0;34m=\u001b[0m\u001b[0mtimeout\u001b[0m\u001b[0;34m)\u001b[0m\u001b[0;34m\u001b[0m\u001b[0;34m\u001b[0m\u001b[0m\n\u001b[0m\u001b[1;32m    563\u001b[0m         \u001b[0;32mexcept\u001b[0m \u001b[0mLokyTimeoutError\u001b[0m\u001b[0;34m:\u001b[0m\u001b[0;34m\u001b[0m\u001b[0;34m\u001b[0m\u001b[0m\n\u001b[1;32m    564\u001b[0m             \u001b[0;32mraise\u001b[0m \u001b[0mTimeoutError\u001b[0m\u001b[0;34m(\u001b[0m\u001b[0;34m)\u001b[0m\u001b[0;34m\u001b[0m\u001b[0;34m\u001b[0m\u001b[0m\n",
            "\u001b[0;32m/usr/lib/python3.6/concurrent/futures/_base.py\u001b[0m in \u001b[0;36mresult\u001b[0;34m(self, timeout)\u001b[0m\n\u001b[1;32m    425\u001b[0m                 \u001b[0;32mreturn\u001b[0m \u001b[0mself\u001b[0m\u001b[0;34m.\u001b[0m\u001b[0m__get_result\u001b[0m\u001b[0;34m(\u001b[0m\u001b[0;34m)\u001b[0m\u001b[0;34m\u001b[0m\u001b[0;34m\u001b[0m\u001b[0m\n\u001b[1;32m    426\u001b[0m \u001b[0;34m\u001b[0m\u001b[0m\n\u001b[0;32m--> 427\u001b[0;31m             \u001b[0mself\u001b[0m\u001b[0;34m.\u001b[0m\u001b[0m_condition\u001b[0m\u001b[0;34m.\u001b[0m\u001b[0mwait\u001b[0m\u001b[0;34m(\u001b[0m\u001b[0mtimeout\u001b[0m\u001b[0;34m)\u001b[0m\u001b[0;34m\u001b[0m\u001b[0;34m\u001b[0m\u001b[0m\n\u001b[0m\u001b[1;32m    428\u001b[0m \u001b[0;34m\u001b[0m\u001b[0m\n\u001b[1;32m    429\u001b[0m             \u001b[0;32mif\u001b[0m \u001b[0mself\u001b[0m\u001b[0;34m.\u001b[0m\u001b[0m_state\u001b[0m \u001b[0;32min\u001b[0m \u001b[0;34m[\u001b[0m\u001b[0mCANCELLED\u001b[0m\u001b[0;34m,\u001b[0m \u001b[0mCANCELLED_AND_NOTIFIED\u001b[0m\u001b[0;34m]\u001b[0m\u001b[0;34m:\u001b[0m\u001b[0;34m\u001b[0m\u001b[0;34m\u001b[0m\u001b[0m\n",
            "\u001b[0;32m/usr/lib/python3.6/threading.py\u001b[0m in \u001b[0;36mwait\u001b[0;34m(self, timeout)\u001b[0m\n\u001b[1;32m    293\u001b[0m         \u001b[0;32mtry\u001b[0m\u001b[0;34m:\u001b[0m    \u001b[0;31m# restore state no matter what (e.g., KeyboardInterrupt)\u001b[0m\u001b[0;34m\u001b[0m\u001b[0;34m\u001b[0m\u001b[0m\n\u001b[1;32m    294\u001b[0m             \u001b[0;32mif\u001b[0m \u001b[0mtimeout\u001b[0m \u001b[0;32mis\u001b[0m \u001b[0;32mNone\u001b[0m\u001b[0;34m:\u001b[0m\u001b[0;34m\u001b[0m\u001b[0;34m\u001b[0m\u001b[0m\n\u001b[0;32m--> 295\u001b[0;31m                 \u001b[0mwaiter\u001b[0m\u001b[0;34m.\u001b[0m\u001b[0macquire\u001b[0m\u001b[0;34m(\u001b[0m\u001b[0;34m)\u001b[0m\u001b[0;34m\u001b[0m\u001b[0;34m\u001b[0m\u001b[0m\n\u001b[0m\u001b[1;32m    296\u001b[0m                 \u001b[0mgotit\u001b[0m \u001b[0;34m=\u001b[0m \u001b[0;32mTrue\u001b[0m\u001b[0;34m\u001b[0m\u001b[0;34m\u001b[0m\u001b[0m\n\u001b[1;32m    297\u001b[0m             \u001b[0;32melse\u001b[0m\u001b[0;34m:\u001b[0m\u001b[0;34m\u001b[0m\u001b[0;34m\u001b[0m\u001b[0m\n",
            "\u001b[0;31mKeyboardInterrupt\u001b[0m: "
          ]
        }
      ]
    },
    {
      "cell_type": "code",
      "metadata": {
        "id": "YntfZ_BqTsXc",
        "colab_type": "code",
        "outputId": "fca55df1-8f26-434a-8f6b-a1e1537779fd",
        "colab": {
          "base_uri": "https://localhost:8080/",
          "height": 136
        }
      },
      "source": [
        "from sklearn.ensemble import StackingClassifier\n",
        "from sklearn.ensemble import RandomForestClassifier\n",
        "from sklearn.ensemble import AdaBoostClassifier\n",
        "from sklearn.ensemble import GradientBoostingClassifier\n",
        "from sklearn.linear_model import LogisticRegression\n",
        "from sklearn.svm import SVC\n",
        "\n",
        "# define the base models\n",
        "level0 = list()\n",
        "level0.append(('GBC', GradientBoostingClassifier(n_estimators = 500, max_depth=6)))\n",
        "level0.append(('RFC', RandomForestClassifier()))\n",
        "level0.append(('svm', SVC(C=10, gamma=23, probability=True)))\n",
        "# define meta learner model\n",
        "level1 = LogisticRegression()\n",
        "# define the stacking ensemble\n",
        "model = StackingClassifier(estimators=level0, final_estimator=level1, cv=10)\n",
        "# fit the model on all available data\n",
        "model.fit(X_train_stand, y_train)\n",
        "# make a prediction for one example\n",
        "predictions_stack = model.predict_proba(X_test_stand)\n",
        "predictions_stack"
      ],
      "execution_count": 5,
      "outputs": [
        {
          "output_type": "execute_result",
          "data": {
            "text/plain": [
              "array([[0.97721454, 0.02278546],\n",
              "       [0.39177305, 0.60822695],\n",
              "       [0.97981452, 0.02018548],\n",
              "       ...,\n",
              "       [0.01929571, 0.98070429],\n",
              "       [0.03676218, 0.96323782],\n",
              "       [0.96927112, 0.03072888]])"
            ]
          },
          "metadata": {
            "tags": []
          },
          "execution_count": 5
        }
      ]
    },
    {
      "cell_type": "code",
      "metadata": {
        "id": "PeQ1LpFAZGNc",
        "colab_type": "code",
        "outputId": "7bd2581a-2f6b-4358-82f2-cbf1cb55111e",
        "colab": {
          "base_uri": "https://localhost:8080/",
          "height": 34
        }
      },
      "source": [
        "from sklearn.model_selection import cross_val_score\n",
        "score_auc = cross_val_score(model, X_train_stand, y_train, scoring='roc_auc', cv=10).mean()\n",
        "\n",
        "print(score_auc)"
      ],
      "execution_count": 6,
      "outputs": [
        {
          "output_type": "stream",
          "text": [
            "0.9716390337491255\n"
          ],
          "name": "stdout"
        }
      ]
    },
    {
      "cell_type": "code",
      "metadata": {
        "id": "lcXr83mhbHNZ",
        "colab_type": "code",
        "outputId": "da546b95-434e-456a-9077-a8f6103bfb6e",
        "colab": {
          "base_uri": "https://localhost:8080/",
          "height": 419
        }
      },
      "source": [
        "results = pd.DataFrame()\n",
        "results['index'] = testset['index']\n",
        "results['label'] = predictions_stack[:,1]\n",
        "results"
      ],
      "execution_count": 7,
      "outputs": [
        {
          "output_type": "execute_result",
          "data": {
            "text/html": [
              "<div>\n",
              "<style scoped>\n",
              "    .dataframe tbody tr th:only-of-type {\n",
              "        vertical-align: middle;\n",
              "    }\n",
              "\n",
              "    .dataframe tbody tr th {\n",
              "        vertical-align: top;\n",
              "    }\n",
              "\n",
              "    .dataframe thead th {\n",
              "        text-align: right;\n",
              "    }\n",
              "</style>\n",
              "<table border=\"1\" class=\"dataframe\">\n",
              "  <thead>\n",
              "    <tr style=\"text-align: right;\">\n",
              "      <th></th>\n",
              "      <th>index</th>\n",
              "      <th>label</th>\n",
              "    </tr>\n",
              "  </thead>\n",
              "  <tbody>\n",
              "    <tr>\n",
              "      <th>0</th>\n",
              "      <td>0</td>\n",
              "      <td>0.022785</td>\n",
              "    </tr>\n",
              "    <tr>\n",
              "      <th>1</th>\n",
              "      <td>1</td>\n",
              "      <td>0.608227</td>\n",
              "    </tr>\n",
              "    <tr>\n",
              "      <th>2</th>\n",
              "      <td>2</td>\n",
              "      <td>0.020185</td>\n",
              "    </tr>\n",
              "    <tr>\n",
              "      <th>3</th>\n",
              "      <td>3</td>\n",
              "      <td>0.982716</td>\n",
              "    </tr>\n",
              "    <tr>\n",
              "      <th>4</th>\n",
              "      <td>4</td>\n",
              "      <td>0.977987</td>\n",
              "    </tr>\n",
              "    <tr>\n",
              "      <th>...</th>\n",
              "      <td>...</td>\n",
              "      <td>...</td>\n",
              "    </tr>\n",
              "    <tr>\n",
              "      <th>12887</th>\n",
              "      <td>12887</td>\n",
              "      <td>0.189247</td>\n",
              "    </tr>\n",
              "    <tr>\n",
              "      <th>12888</th>\n",
              "      <td>12888</td>\n",
              "      <td>0.970509</td>\n",
              "    </tr>\n",
              "    <tr>\n",
              "      <th>12889</th>\n",
              "      <td>12889</td>\n",
              "      <td>0.980704</td>\n",
              "    </tr>\n",
              "    <tr>\n",
              "      <th>12890</th>\n",
              "      <td>12890</td>\n",
              "      <td>0.963238</td>\n",
              "    </tr>\n",
              "    <tr>\n",
              "      <th>12891</th>\n",
              "      <td>12891</td>\n",
              "      <td>0.030729</td>\n",
              "    </tr>\n",
              "  </tbody>\n",
              "</table>\n",
              "<p>12892 rows × 2 columns</p>\n",
              "</div>"
            ],
            "text/plain": [
              "       index     label\n",
              "0          0  0.022785\n",
              "1          1  0.608227\n",
              "2          2  0.020185\n",
              "3          3  0.982716\n",
              "4          4  0.977987\n",
              "...      ...       ...\n",
              "12887  12887  0.189247\n",
              "12888  12888  0.970509\n",
              "12889  12889  0.980704\n",
              "12890  12890  0.963238\n",
              "12891  12891  0.030729\n",
              "\n",
              "[12892 rows x 2 columns]"
            ]
          },
          "metadata": {
            "tags": []
          },
          "execution_count": 7
        }
      ]
    },
    {
      "cell_type": "code",
      "metadata": {
        "id": "xvTCHyiZgc5W",
        "colab_type": "code",
        "colab": {}
      },
      "source": [
        "filename = \"my_prediction_resultsStack2.csv\"\n",
        "\n",
        "#make sure to not write the Pandas index column (index=False)\n",
        "results.to_csv(filename,index=False)"
      ],
      "execution_count": 0,
      "outputs": []
    },
    {
      "cell_type": "code",
      "metadata": {
        "id": "COkmRyArgmkV",
        "colab_type": "code",
        "colab": {}
      },
      "source": [
        ""
      ],
      "execution_count": 0,
      "outputs": []
    }
  ]
}