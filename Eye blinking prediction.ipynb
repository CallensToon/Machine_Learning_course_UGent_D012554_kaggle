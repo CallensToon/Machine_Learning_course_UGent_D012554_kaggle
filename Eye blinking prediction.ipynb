{
  "nbformat": 4,
  "nbformat_minor": 0,
  "metadata": {
    "kernelspec": {
      "display_name": "Python 3",
      "language": "python",
      "name": "python3"
    },
    "language_info": {
      "codemirror_mode": {
        "name": "ipython",
        "version": 3
      },
      "file_extension": ".py",
      "mimetype": "text/x-python",
      "name": "python",
      "nbconvert_exporter": "python",
      "pygments_lexer": "ipython3",
      "version": "3.7.3"
    },
    "colab": {
      "name": "Eye blinking prediction.ipynb",
      "provenance": []
    }
  },
  "cells": [
    {
      "cell_type": "code",
      "metadata": {
        "id": "52xHOyHDXxao",
        "colab_type": "code",
        "colab": {}
      },
      "source": [
        "%matplotlib inline\n",
        "import pandas as pd;\n",
        "import seaborn as sns;\n",
        "import numpy as np;\n",
        "import matplotlib.pyplot as plt;"
      ],
      "execution_count": 0,
      "outputs": []
    },
    {
      "cell_type": "markdown",
      "metadata": {
        "id": "goRLnuyRXxaw",
        "colab_type": "text"
      },
      "source": [
        "\n",
        "<img src=\"https://raw.githubusercontent.com/sdgroeve/Machine_Learning_course_UGent_D012554_kaggle/master/header.png\" alt=\"drawing\"/>\n"
      ]
    },
    {
      "cell_type": "markdown",
      "metadata": {
        "id": "tsJ4TbSlXxax",
        "colab_type": "text"
      },
      "source": [
        "A multi-channel electroencephalography (EEG) system enables a broad range of applications including neurotherapy, biofeedback, and brain computer interfacing. The dataset you will analyse is created with the [Emotiv EPOC+](https://www.emotiv.com/product/emotiv-epoc-14-channel-mobile-eeg).  \n",
        "\n",
        "It has 14 EEG channels with names based on the International 10-20 locations: AF3, F7, F3, FC5, T7, P7, O1, O2, P8, T8, FC6, F4, F8, AF4:\n",
        "\n",
        "<br/>\n",
        "<br/>\n",
        "<center>\n",
        "<img src=\"https://raw.githubusercontent.com/sdgroeve/Machine_Learning_course_UGent_D012554_kaggle/master/EEG.png\" alt=\"drawing\" width=\"200\"/>\n",
        "<center/>\n",
        "<br/>\n",
        "<br/>\n"
      ]
    },
    {
      "cell_type": "markdown",
      "metadata": {
        "id": "HzXBqhLUfxyh",
        "colab_type": "text"
      },
      "source": [
        "All data is from one continuous EEG measurement with the Emotiv EEG Neuroheadset. \n",
        "\n",
        "The experiment was conducted on one person only. The duration of the measurement was around 117 seconds.\n",
        "\n",
        "From the paper:\n",
        "\n",
        "> *The experiment was carried out in a quiet room. During\n",
        "the experiment, the proband was being videotaped. To prevent\n",
        "artifacts, the proband was not aware of the exact start time\n",
        "of the measurement. Instead, he was told to sit relaxed, look\n",
        "straight to the camera, and change the eye state at free will.\n",
        "Only additional constraint was that, accumulated over the\n",
        "entire session, the duration of both eye states should be about\n",
        "the same and that the individual intervals should vary greatly\n",
        "in length (from eye blinking to longer stretches)...*\n",
        "\n",
        "The eye state was detected via a camera during the EEG measurement and later added manually to the file after analyzing the video frames. \n",
        "\n",
        "A label '1' indicates the eye-closed and '0' the eye-open state.\n",
        "\n",
        "(*Source: Oliver Roesler, Stuttgart, Germany*)"
      ]
    },
    {
      "cell_type": "markdown",
      "metadata": {
        "id": "1rHopvjFXxay",
        "colab_type": "text"
      },
      "source": [
        "Let's load the train and test set:"
      ]
    },
    {
      "cell_type": "code",
      "metadata": {
        "id": "aw7NaXHYXxaz",
        "colab_type": "code",
        "colab": {}
      },
      "source": [
        "trainset = pd.read_csv(\"https://raw.githubusercontent.com/sdgroeve/Machine_Learning_course_UGent_D012554_kaggle/master/eeg_train.csv\")\n",
        "\n",
        "testset = pd.read_csv(\"https://raw.githubusercontent.com/sdgroeve/Machine_Learning_course_UGent_D012554_kaggle/master/eeg_test.csv\")\n",
        "\n",
        "sample_submission = pd.read_csv(\"https://raw.githubusercontent.com/sdgroeve/Machine_Learning_course_UGent_D012554_kaggle/master/sample_submission.csv\")\n"
      ],
      "execution_count": 0,
      "outputs": []
    },
    {
      "cell_type": "markdown",
      "metadata": {
        "id": "Xa4COLVgY48t",
        "colab_type": "text"
      },
      "source": [
        "You will fit a model on the trainset and make predictions on the testset. \n",
        "\n",
        "To submit these predictions to Kaggle you need to write a .csv file with two columns: \n",
        "- `index` that matches the `index` column in the test set.\n",
        "- `label` which is your prediction.\n",
        "\n",
        "Here is an example predictions file for Kaggle:"
      ]
    },
    {
      "cell_type": "code",
      "metadata": {
        "id": "G2Xcd8tvkEqA",
        "colab_type": "code",
        "outputId": "c41bd02a-d71b-41d1-92f8-1a9da0ebef8e",
        "colab": {
          "base_uri": "https://localhost:8080/",
          "height": 359
        }
      },
      "source": [
        "sample_submission.head(10)"
      ],
      "execution_count": 23,
      "outputs": [
        {
          "output_type": "execute_result",
          "data": {
            "text/html": [
              "<div>\n",
              "<style scoped>\n",
              "    .dataframe tbody tr th:only-of-type {\n",
              "        vertical-align: middle;\n",
              "    }\n",
              "\n",
              "    .dataframe tbody tr th {\n",
              "        vertical-align: top;\n",
              "    }\n",
              "\n",
              "    .dataframe thead th {\n",
              "        text-align: right;\n",
              "    }\n",
              "</style>\n",
              "<table border=\"1\" class=\"dataframe\">\n",
              "  <thead>\n",
              "    <tr style=\"text-align: right;\">\n",
              "      <th></th>\n",
              "      <th>index</th>\n",
              "      <th>label</th>\n",
              "    </tr>\n",
              "  </thead>\n",
              "  <tbody>\n",
              "    <tr>\n",
              "      <th>0</th>\n",
              "      <td>0</td>\n",
              "      <td>0.168801</td>\n",
              "    </tr>\n",
              "    <tr>\n",
              "      <th>1</th>\n",
              "      <td>1</td>\n",
              "      <td>0.124169</td>\n",
              "    </tr>\n",
              "    <tr>\n",
              "      <th>2</th>\n",
              "      <td>2</td>\n",
              "      <td>0.947757</td>\n",
              "    </tr>\n",
              "    <tr>\n",
              "      <th>3</th>\n",
              "      <td>3</td>\n",
              "      <td>0.069585</td>\n",
              "    </tr>\n",
              "    <tr>\n",
              "      <th>4</th>\n",
              "      <td>4</td>\n",
              "      <td>0.635325</td>\n",
              "    </tr>\n",
              "    <tr>\n",
              "      <th>5</th>\n",
              "      <td>5</td>\n",
              "      <td>0.659027</td>\n",
              "    </tr>\n",
              "    <tr>\n",
              "      <th>6</th>\n",
              "      <td>6</td>\n",
              "      <td>0.653697</td>\n",
              "    </tr>\n",
              "    <tr>\n",
              "      <th>7</th>\n",
              "      <td>7</td>\n",
              "      <td>0.850030</td>\n",
              "    </tr>\n",
              "    <tr>\n",
              "      <th>8</th>\n",
              "      <td>8</td>\n",
              "      <td>0.160489</td>\n",
              "    </tr>\n",
              "    <tr>\n",
              "      <th>9</th>\n",
              "      <td>9</td>\n",
              "      <td>0.843272</td>\n",
              "    </tr>\n",
              "  </tbody>\n",
              "</table>\n",
              "</div>"
            ],
            "text/plain": [
              "   index     label\n",
              "0      0  0.168801\n",
              "1      1  0.124169\n",
              "2      2  0.947757\n",
              "3      3  0.069585\n",
              "4      4  0.635325\n",
              "5      5  0.659027\n",
              "6      6  0.653697\n",
              "7      7  0.850030\n",
              "8      8  0.160489\n",
              "9      9  0.843272"
            ]
          },
          "metadata": {
            "tags": []
          },
          "execution_count": 23
        }
      ]
    },
    {
      "cell_type": "markdown",
      "metadata": {
        "id": "w7AHk-3elWpy",
        "colab_type": "text"
      },
      "source": [
        "Make sure to save your results without the extra Pandas index column that is written by default:"
      ]
    },
    {
      "cell_type": "code",
      "metadata": {
        "id": "eDU6GW7OeQ5W",
        "colab_type": "code",
        "outputId": "0d0bbc9f-342e-4185-b502-b6fd51551ca2",
        "colab": {
          "base_uri": "https://localhost:8080/",
          "height": 493
        }
      },
      "source": [
        "y_train = trainset.pop('label')\n",
        "X_train = trainset\n",
        "X_test = testset.iloc[:,:14]\n",
        "\n",
        "print(X_train.head())\n",
        "print(X_test.head())\n",
        "print(y_train)"
      ],
      "execution_count": 24,
      "outputs": [
        {
          "output_type": "stream",
          "text": [
            "       AF3       F7       F3      FC5  ...      FC6       F4       F8      AF4\n",
            "0  4299.49  3997.44  4277.95  4116.92  ...  4211.79  4278.97  4600.00  4369.23\n",
            "1  4302.05  3985.64  4261.03  4129.74  ...  4195.90  4283.08  4607.18  4358.46\n",
            "2  4321.03  4015.90  4265.13  4122.56  ...  4155.38  4286.15  4608.21  4371.79\n",
            "3  4408.21  4104.10  4380.00  4232.31  ...  4319.49  4388.21  4715.90  4464.10\n",
            "4  4347.18  3975.38  4266.67  4102.56  ...  4248.21  4313.33  4664.10  4411.79\n",
            "\n",
            "[5 rows x 14 columns]\n",
            "       AF3       F7       F3      FC5  ...      FC6       F4       F8      AF4\n",
            "0  4296.41  4040.51  4253.33  4124.10  ...  4197.44  4268.72  4598.46  4342.56\n",
            "1  4291.28  3994.36  4247.18  4102.56  ...  4190.77  4260.51  4593.33  4337.95\n",
            "2  4299.49  4019.49  4269.74  4116.41  ...  4202.56  4280.51  4596.92  4350.26\n",
            "3  4280.00  4004.62  4263.59  4120.51  ...  4192.82  4271.79  4608.72  4344.10\n",
            "4  4317.44  3968.72  4260.51  4101.54  ...  4199.49  4282.05  4592.31  4372.82\n",
            "\n",
            "[5 rows x 14 columns]\n",
            "0       1\n",
            "1       0\n",
            "2       0\n",
            "3       0\n",
            "4       1\n",
            "       ..\n",
            "1995    1\n",
            "1996    0\n",
            "1997    0\n",
            "1998    0\n",
            "1999    0\n",
            "Name: label, Length: 2000, dtype: int64\n"
          ],
          "name": "stdout"
        }
      ]
    },
    {
      "cell_type": "code",
      "metadata": {
        "id": "x3OZnsn0eqni",
        "colab_type": "code",
        "outputId": "b894f1bc-f301-46a0-e242-282ebd629c28",
        "colab": {
          "base_uri": "https://localhost:8080/",
          "height": 483
        }
      },
      "source": [
        "from sklearn.preprocessing import StandardScaler\n",
        "from sklearn.preprocessing import RobustScaler\n",
        "from sklearn.preprocessing import MinMaxScaler\n",
        "\n",
        "scaler = StandardScaler()\n",
        "X_train_stand = pd.DataFrame(scaler.fit_transform(X_train),columns=X_train.columns.values)\n",
        "\n",
        "plt.figure(figsize=(12,8))\n",
        "X_train_stand.boxplot(vert=False)\n",
        "plt.show()"
      ],
      "execution_count": 25,
      "outputs": [
        {
          "output_type": "display_data",
          "data": {
            "image/png": "[encoded data removed]",
            "text/plain": [
              "<Figure size 864x576 with 1 Axes>"
            ]
          },
          "metadata": {
            "tags": [],
            "needs_background": "light"
          }
        }
      ]
    },
    {
      "cell_type": "code",
      "metadata": {
        "id": "OVplT7RjwFnQ",
        "colab_type": "code",
        "outputId": "cea5323a-1e16-4108-d6e5-413680df7569",
        "colab": {
          "base_uri": "https://localhost:8080/",
          "height": 483
        }
      },
      "source": [
        "X_test_stand = pd.DataFrame(scaler.transform(X_test),columns=X_test.columns.values)\n",
        "\n",
        "plt.figure(figsize=(12,8))\n",
        "X_test_stand.boxplot(vert=False)\n",
        "plt.show()"
      ],
      "execution_count": 26,
      "outputs": [
        {
          "output_type": "display_data",
          "data": {
            "image/png": "[encoded data removed]",
            "text/plain": [
              "<Figure size 864x576 with 1 Axes>"
            ]
          },
          "metadata": {
            "tags": [],
            "needs_background": "light"
          }
        }
      ]
    },
    {
      "cell_type": "code",
      "metadata": {
        "id": "F_Bo6g4j2BrM",
        "colab_type": "code",
        "outputId": "745144bf-b380-4b0c-b24c-91b6a972b1e9",
        "colab": {
          "base_uri": "https://localhost:8080/",
          "height": 34
        }
      },
      "source": [
        "from sklearn.linear_model import LinearRegression\n",
        "from sklearn.model_selection import cross_val_score\n",
        "\n",
        "model = LinearRegression()\n",
        "score_auc = cross_val_score(model, X_train_stand, y_train, scoring='roc_auc', cv=10).mean()\n",
        "\n",
        "print(score_auc)"
      ],
      "execution_count": 27,
      "outputs": [
        {
          "output_type": "stream",
          "text": [
            "0.6606449421569776\n"
          ],
          "name": "stdout"
        }
      ]
    },
    {
      "cell_type": "code",
      "metadata": {
        "id": "w2rmjeTv60dT",
        "colab_type": "code",
        "outputId": "f2c15e78-792a-46af-9a05-607f9414d2e5",
        "colab": {
          "base_uri": "https://localhost:8080/",
          "height": 34
        }
      },
      "source": [
        "model.fit(X_train_stand, y_train)"
      ],
      "execution_count": 28,
      "outputs": [
        {
          "output_type": "execute_result",
          "data": {
            "text/plain": [
              "LinearRegression(copy_X=True, fit_intercept=True, n_jobs=None, normalize=False)"
            ]
          },
          "metadata": {
            "tags": []
          },
          "execution_count": 28
        }
      ]
    },
    {
      "cell_type": "code",
      "metadata": {
        "id": "sdADpCh42GQI",
        "colab_type": "code",
        "outputId": "8f8360cd-5294-4039-8345-083e712962f4",
        "colab": {
          "base_uri": "https://localhost:8080/",
          "height": 51
        }
      },
      "source": [
        "predictions = model.predict(X_test_stand)\n",
        "predictions"
      ],
      "execution_count": 29,
      "outputs": [
        {
          "output_type": "execute_result",
          "data": {
            "text/plain": [
              "array([0.23577642, 0.36954037, 0.32687736, ..., 0.47242786, 0.60940983,\n",
              "       0.42265953])"
            ]
          },
          "metadata": {
            "tags": []
          },
          "execution_count": 29
        }
      ]
    },
    {
      "cell_type": "code",
      "metadata": {
        "id": "emR3F2Px4Nel",
        "colab_type": "code",
        "outputId": "65c85ddc-820e-441f-da1e-c1ee3ac4952f",
        "colab": {
          "base_uri": "https://localhost:8080/",
          "height": 419
        }
      },
      "source": [
        "example = pd.DataFrame()\n",
        "example['index'] = testset['index']\n",
        "example['label'] = predictions\n",
        "example"
      ],
      "execution_count": 30,
      "outputs": [
        {
          "output_type": "execute_result",
          "data": {
            "text/html": [
              "<div>\n",
              "<style scoped>\n",
              "    .dataframe tbody tr th:only-of-type {\n",
              "        vertical-align: middle;\n",
              "    }\n",
              "\n",
              "    .dataframe tbody tr th {\n",
              "        vertical-align: top;\n",
              "    }\n",
              "\n",
              "    .dataframe thead th {\n",
              "        text-align: right;\n",
              "    }\n",
              "</style>\n",
              "<table border=\"1\" class=\"dataframe\">\n",
              "  <thead>\n",
              "    <tr style=\"text-align: right;\">\n",
              "      <th></th>\n",
              "      <th>index</th>\n",
              "      <th>label</th>\n",
              "    </tr>\n",
              "  </thead>\n",
              "  <tbody>\n",
              "    <tr>\n",
              "      <th>0</th>\n",
              "      <td>0</td>\n",
              "      <td>0.235776</td>\n",
              "    </tr>\n",
              "    <tr>\n",
              "      <th>1</th>\n",
              "      <td>1</td>\n",
              "      <td>0.369540</td>\n",
              "    </tr>\n",
              "    <tr>\n",
              "      <th>2</th>\n",
              "      <td>2</td>\n",
              "      <td>0.326877</td>\n",
              "    </tr>\n",
              "    <tr>\n",
              "      <th>3</th>\n",
              "      <td>3</td>\n",
              "      <td>0.395776</td>\n",
              "    </tr>\n",
              "    <tr>\n",
              "      <th>4</th>\n",
              "      <td>4</td>\n",
              "      <td>0.854611</td>\n",
              "    </tr>\n",
              "    <tr>\n",
              "      <th>...</th>\n",
              "      <td>...</td>\n",
              "      <td>...</td>\n",
              "    </tr>\n",
              "    <tr>\n",
              "      <th>12887</th>\n",
              "      <td>12887</td>\n",
              "      <td>0.465054</td>\n",
              "    </tr>\n",
              "    <tr>\n",
              "      <th>12888</th>\n",
              "      <td>12888</td>\n",
              "      <td>0.544708</td>\n",
              "    </tr>\n",
              "    <tr>\n",
              "      <th>12889</th>\n",
              "      <td>12889</td>\n",
              "      <td>0.472428</td>\n",
              "    </tr>\n",
              "    <tr>\n",
              "      <th>12890</th>\n",
              "      <td>12890</td>\n",
              "      <td>0.609410</td>\n",
              "    </tr>\n",
              "    <tr>\n",
              "      <th>12891</th>\n",
              "      <td>12891</td>\n",
              "      <td>0.422660</td>\n",
              "    </tr>\n",
              "  </tbody>\n",
              "</table>\n",
              "<p>12892 rows × 2 columns</p>\n",
              "</div>"
            ],
            "text/plain": [
              "       index     label\n",
              "0          0  0.235776\n",
              "1          1  0.369540\n",
              "2          2  0.326877\n",
              "3          3  0.395776\n",
              "4          4  0.854611\n",
              "...      ...       ...\n",
              "12887  12887  0.465054\n",
              "12888  12888  0.544708\n",
              "12889  12889  0.472428\n",
              "12890  12890  0.609410\n",
              "12891  12891  0.422660\n",
              "\n",
              "[12892 rows x 2 columns]"
            ]
          },
          "metadata": {
            "tags": []
          },
          "execution_count": 30
        }
      ]
    },
    {
      "cell_type": "code",
      "metadata": {
        "id": "EKR0dyj9gr_x",
        "colab_type": "code",
        "colab": {
          "base_uri": "https://localhost:8080/",
          "height": 497
        },
        "outputId": "52d12362-5319-4e5c-a36a-5405376b6928"
      },
      "source": [
        "plt.figure(figsize=(12,8))\n",
        "sns.scatterplot(x='FC5', y='AF4', hue=y_train, data=X_train_stand)\n",
        "plt.show()"
      ],
      "execution_count": 31,
      "outputs": [
        {
          "output_type": "display_data",
          "data": {
            "image/png": "[encoded data removed]",
            "text/plain": [
              "<Figure size 864x576 with 1 Axes>"
            ]
          },
          "metadata": {
            "tags": [],
            "needs_background": "light"
          }
        }
      ]
    },
    {
      "cell_type": "code",
      "metadata": {
        "id": "fuwinJcgJJu7",
        "colab_type": "code",
        "colab": {
          "base_uri": "https://localhost:8080/",
          "height": 419
        },
        "outputId": "3f39e6d6-3730-4d6d-a3d9-d63c14c490d0"
      },
      "source": [
        "from numpy import mean\n",
        "from numpy import std\n",
        "from numpy import delete\n",
        "\n",
        "data = pd.read_csv(\"https://raw.githubusercontent.com/sdgroeve/Machine_Learning_course_UGent_D012554_kaggle/master/eeg_train.csv\")\n",
        "values = data.values\n",
        "\n",
        "for i in range(values.shape[1] - 1):\n",
        "  data_mean = values[:,i].mean()\n",
        "  data_std = values[:,i].std()\n",
        "  cut_off = data_std * 4\n",
        "  lower = data_mean - cut_off\n",
        "  upper = data_mean + cut_off\n",
        "  too_small = [j for j in range(values.shape[0]) if values[j,i] < lower]\n",
        "  values = delete(values, too_small, 0)\n",
        "  too_large = [j for j in range(values.shape[0]) if values[j,i] > upper]\n",
        "  values = delete(values, too_large, 0)\n",
        " \n",
        "trainset_nooutliers = pd.DataFrame(values, columns=data.columns)\n",
        "trainset_nooutliers"
      ],
      "execution_count": 32,
      "outputs": [
        {
          "output_type": "execute_result",
          "data": {
            "text/html": [
              "<div>\n",
              "<style scoped>\n",
              "    .dataframe tbody tr th:only-of-type {\n",
              "        vertical-align: middle;\n",
              "    }\n",
              "\n",
              "    .dataframe tbody tr th {\n",
              "        vertical-align: top;\n",
              "    }\n",
              "\n",
              "    .dataframe thead th {\n",
              "        text-align: right;\n",
              "    }\n",
              "</style>\n",
              "<table border=\"1\" class=\"dataframe\">\n",
              "  <thead>\n",
              "    <tr style=\"text-align: right;\">\n",
              "      <th></th>\n",
              "      <th>AF3</th>\n",
              "      <th>F7</th>\n",
              "      <th>F3</th>\n",
              "      <th>FC5</th>\n",
              "      <th>T7</th>\n",
              "      <th>P7</th>\n",
              "      <th>O1</th>\n",
              "      <th>02</th>\n",
              "      <th>P8</th>\n",
              "      <th>T8</th>\n",
              "      <th>FC6</th>\n",
              "      <th>F4</th>\n",
              "      <th>F8</th>\n",
              "      <th>AF4</th>\n",
              "      <th>label</th>\n",
              "    </tr>\n",
              "  </thead>\n",
              "  <tbody>\n",
              "    <tr>\n",
              "      <th>0</th>\n",
              "      <td>4299.49</td>\n",
              "      <td>3997.44</td>\n",
              "      <td>4277.95</td>\n",
              "      <td>4116.92</td>\n",
              "      <td>4353.85</td>\n",
              "      <td>4623.08</td>\n",
              "      <td>4100.00</td>\n",
              "      <td>4623.59</td>\n",
              "      <td>4202.56</td>\n",
              "      <td>4229.23</td>\n",
              "      <td>4211.79</td>\n",
              "      <td>4278.97</td>\n",
              "      <td>4600.00</td>\n",
              "      <td>4369.23</td>\n",
              "      <td>1.0</td>\n",
              "    </tr>\n",
              "    <tr>\n",
              "      <th>1</th>\n",
              "      <td>4302.05</td>\n",
              "      <td>3985.64</td>\n",
              "      <td>4261.03</td>\n",
              "      <td>4129.74</td>\n",
              "      <td>4334.36</td>\n",
              "      <td>4615.38</td>\n",
              "      <td>4072.31</td>\n",
              "      <td>4585.64</td>\n",
              "      <td>4192.31</td>\n",
              "      <td>4225.13</td>\n",
              "      <td>4195.90</td>\n",
              "      <td>4283.08</td>\n",
              "      <td>4607.18</td>\n",
              "      <td>4358.46</td>\n",
              "      <td>0.0</td>\n",
              "    </tr>\n",
              "    <tr>\n",
              "      <th>2</th>\n",
              "      <td>4321.03</td>\n",
              "      <td>4015.90</td>\n",
              "      <td>4265.13</td>\n",
              "      <td>4122.56</td>\n",
              "      <td>4333.33</td>\n",
              "      <td>4613.33</td>\n",
              "      <td>4072.82</td>\n",
              "      <td>4602.05</td>\n",
              "      <td>4192.31</td>\n",
              "      <td>4223.08</td>\n",
              "      <td>4155.38</td>\n",
              "      <td>4286.15</td>\n",
              "      <td>4608.21</td>\n",
              "      <td>4371.79</td>\n",
              "      <td>0.0</td>\n",
              "    </tr>\n",
              "    <tr>\n",
              "      <th>3</th>\n",
              "      <td>4347.18</td>\n",
              "      <td>3975.38</td>\n",
              "      <td>4266.67</td>\n",
              "      <td>4102.56</td>\n",
              "      <td>4333.33</td>\n",
              "      <td>4617.95</td>\n",
              "      <td>4097.44</td>\n",
              "      <td>4612.82</td>\n",
              "      <td>4210.77</td>\n",
              "      <td>4240.51</td>\n",
              "      <td>4248.21</td>\n",
              "      <td>4313.33</td>\n",
              "      <td>4664.10</td>\n",
              "      <td>4411.79</td>\n",
              "      <td>1.0</td>\n",
              "    </tr>\n",
              "    <tr>\n",
              "      <th>4</th>\n",
              "      <td>4292.82</td>\n",
              "      <td>4007.18</td>\n",
              "      <td>4275.38</td>\n",
              "      <td>4120.00</td>\n",
              "      <td>4336.92</td>\n",
              "      <td>4620.51</td>\n",
              "      <td>4059.49</td>\n",
              "      <td>4614.36</td>\n",
              "      <td>4194.87</td>\n",
              "      <td>4229.23</td>\n",
              "      <td>4158.46</td>\n",
              "      <td>4270.26</td>\n",
              "      <td>4600.51</td>\n",
              "      <td>4353.33</td>\n",
              "      <td>0.0</td>\n",
              "    </tr>\n",
              "    <tr>\n",
              "      <th>...</th>\n",
              "      <td>...</td>\n",
              "      <td>...</td>\n",
              "      <td>...</td>\n",
              "      <td>...</td>\n",
              "      <td>...</td>\n",
              "      <td>...</td>\n",
              "      <td>...</td>\n",
              "      <td>...</td>\n",
              "      <td>...</td>\n",
              "      <td>...</td>\n",
              "      <td>...</td>\n",
              "      <td>...</td>\n",
              "      <td>...</td>\n",
              "      <td>...</td>\n",
              "      <td>...</td>\n",
              "    </tr>\n",
              "    <tr>\n",
              "      <th>1896</th>\n",
              "      <td>4211.79</td>\n",
              "      <td>4015.90</td>\n",
              "      <td>4230.26</td>\n",
              "      <td>4107.69</td>\n",
              "      <td>4336.41</td>\n",
              "      <td>4623.08</td>\n",
              "      <td>4071.79</td>\n",
              "      <td>4605.64</td>\n",
              "      <td>4187.69</td>\n",
              "      <td>4225.13</td>\n",
              "      <td>4168.72</td>\n",
              "      <td>4240.51</td>\n",
              "      <td>4544.62</td>\n",
              "      <td>4265.13</td>\n",
              "      <td>1.0</td>\n",
              "    </tr>\n",
              "    <tr>\n",
              "      <th>1897</th>\n",
              "      <td>4268.72</td>\n",
              "      <td>4035.38</td>\n",
              "      <td>4237.95</td>\n",
              "      <td>4112.82</td>\n",
              "      <td>4346.15</td>\n",
              "      <td>4618.97</td>\n",
              "      <td>4066.15</td>\n",
              "      <td>4603.08</td>\n",
              "      <td>4192.82</td>\n",
              "      <td>4214.36</td>\n",
              "      <td>4189.74</td>\n",
              "      <td>4250.77</td>\n",
              "      <td>4586.67</td>\n",
              "      <td>4321.54</td>\n",
              "      <td>0.0</td>\n",
              "    </tr>\n",
              "    <tr>\n",
              "      <th>1898</th>\n",
              "      <td>4287.69</td>\n",
              "      <td>4007.69</td>\n",
              "      <td>4267.18</td>\n",
              "      <td>4128.21</td>\n",
              "      <td>4339.49</td>\n",
              "      <td>4611.28</td>\n",
              "      <td>4036.92</td>\n",
              "      <td>4603.59</td>\n",
              "      <td>4181.54</td>\n",
              "      <td>4228.21</td>\n",
              "      <td>4192.82</td>\n",
              "      <td>4260.51</td>\n",
              "      <td>4597.44</td>\n",
              "      <td>4353.33</td>\n",
              "      <td>0.0</td>\n",
              "    </tr>\n",
              "    <tr>\n",
              "      <th>1899</th>\n",
              "      <td>4297.95</td>\n",
              "      <td>4031.79</td>\n",
              "      <td>4275.90</td>\n",
              "      <td>4147.69</td>\n",
              "      <td>4365.64</td>\n",
              "      <td>4632.82</td>\n",
              "      <td>4093.33</td>\n",
              "      <td>4666.15</td>\n",
              "      <td>4211.79</td>\n",
              "      <td>4228.21</td>\n",
              "      <td>4210.77</td>\n",
              "      <td>4279.49</td>\n",
              "      <td>4604.10</td>\n",
              "      <td>4340.51</td>\n",
              "      <td>0.0</td>\n",
              "    </tr>\n",
              "    <tr>\n",
              "      <th>1900</th>\n",
              "      <td>4303.08</td>\n",
              "      <td>4010.26</td>\n",
              "      <td>4270.77</td>\n",
              "      <td>4148.21</td>\n",
              "      <td>4359.49</td>\n",
              "      <td>4613.33</td>\n",
              "      <td>4077.44</td>\n",
              "      <td>4619.49</td>\n",
              "      <td>4186.67</td>\n",
              "      <td>4235.38</td>\n",
              "      <td>4217.44</td>\n",
              "      <td>4281.54</td>\n",
              "      <td>4626.67</td>\n",
              "      <td>4349.23</td>\n",
              "      <td>0.0</td>\n",
              "    </tr>\n",
              "  </tbody>\n",
              "</table>\n",
              "<p>1901 rows × 15 columns</p>\n",
              "</div>"
            ],
            "text/plain": [
              "          AF3       F7       F3      FC5  ...       F4       F8      AF4  label\n",
              "0     4299.49  3997.44  4277.95  4116.92  ...  4278.97  4600.00  4369.23    1.0\n",
              "1     4302.05  3985.64  4261.03  4129.74  ...  4283.08  4607.18  4358.46    0.0\n",
              "2     4321.03  4015.90  4265.13  4122.56  ...  4286.15  4608.21  4371.79    0.0\n",
              "3     4347.18  3975.38  4266.67  4102.56  ...  4313.33  4664.10  4411.79    1.0\n",
              "4     4292.82  4007.18  4275.38  4120.00  ...  4270.26  4600.51  4353.33    0.0\n",
              "...       ...      ...      ...      ...  ...      ...      ...      ...    ...\n",
              "1896  4211.79  4015.90  4230.26  4107.69  ...  4240.51  4544.62  4265.13    1.0\n",
              "1897  4268.72  4035.38  4237.95  4112.82  ...  4250.77  4586.67  4321.54    0.0\n",
              "1898  4287.69  4007.69  4267.18  4128.21  ...  4260.51  4597.44  4353.33    0.0\n",
              "1899  4297.95  4031.79  4275.90  4147.69  ...  4279.49  4604.10  4340.51    0.0\n",
              "1900  4303.08  4010.26  4270.77  4148.21  ...  4281.54  4626.67  4349.23    0.0\n",
              "\n",
              "[1901 rows x 15 columns]"
            ]
          },
          "metadata": {
            "tags": []
          },
          "execution_count": 32
        }
      ]
    },
    {
      "cell_type": "code",
      "metadata": {
        "id": "GYo-VZUjLCII",
        "colab_type": "code",
        "colab": {}
      },
      "source": [
        "y_train_nooutliers = trainset_nooutliers.pop('label')\n",
        "X_train_nooutliers = trainset_nooutliers"
      ],
      "execution_count": 0,
      "outputs": []
    },
    {
      "cell_type": "code",
      "metadata": {
        "id": "XXEZ8jwqLLCU",
        "colab_type": "code",
        "colab": {}
      },
      "source": [
        "scaler = MinMaxScaler()\n",
        "X_train_stand_nooutliers = pd.DataFrame(scaler.fit_transform(X_train_nooutliers),columns=X_train_nooutliers.columns.values)\n",
        "X_test_stand_nooutliers = pd.DataFrame(scaler.transform(X_test),columns=X_test.columns.values)"
      ],
      "execution_count": 0,
      "outputs": []
    },
    {
      "cell_type": "code",
      "metadata": {
        "id": "ZE1eZHrzMJjP",
        "colab_type": "code",
        "colab": {
          "base_uri": "https://localhost:8080/",
          "height": 34
        },
        "outputId": "e7480c6e-ad30-4f72-a067-f3ef8482bc8d"
      },
      "source": [
        "from sklearn.svm import SVC\n",
        "from sklearn.model_selection import cross_val_score\n",
        "\n",
        "model2 = SVC(C=70, probability=True)\n",
        "score_auc = cross_val_score(model2, X_train_stand_nooutliers, y_train_nooutliers, scoring='roc_auc', cv=10).mean()\n",
        "\n",
        "print(score_auc)"
      ],
      "execution_count": 35,
      "outputs": [
        {
          "output_type": "stream",
          "text": [
            "0.961748148454373\n"
          ],
          "name": "stdout"
        }
      ]
    },
    {
      "cell_type": "code",
      "metadata": {
        "id": "3gp9WrnXnild",
        "colab_type": "code",
        "colab": {
          "base_uri": "https://localhost:8080/",
          "height": 153
        },
        "outputId": "883d2215-4ba6-4157-bac5-030b1b8c4966"
      },
      "source": [
        "from sklearn.model_selection import GridSearchCV\n",
        "\n",
        "search_space = range(69,75)\n",
        "                \n",
        "params = dict(C=search_space)\n",
        "grid_search = GridSearchCV(model2, param_grid=params, iid=False)\n",
        "\n",
        "grid_search.fit(X_train_stand_nooutliers, y_train_nooutliers)\n",
        "\n",
        "means = grid_search.cv_results_['mean_test_score']\n",
        "stds = grid_search.cv_results_['std_test_score']\n",
        "\n",
        "for mean_score, std, params in zip(means, stds, grid_search.cv_results_['params']):\n",
        "    print(\"{:.3f} (+/-{:.3f}) for {}\".format(mean_score, std * 2, params))"
      ],
      "execution_count": 36,
      "outputs": [
        {
          "output_type": "stream",
          "text": [
            "/usr/local/lib/python3.6/dist-packages/sklearn/model_selection/_search.py:823: FutureWarning: The parameter 'iid' is deprecated in 0.22 and will be removed in 0.24.\n",
            "  \"removed in 0.24.\", FutureWarning\n"
          ],
          "name": "stderr"
        },
        {
          "output_type": "stream",
          "text": [
            "0.898 (+/-0.030) for {'C': 69}\n",
            "0.900 (+/-0.032) for {'C': 70}\n",
            "0.900 (+/-0.032) for {'C': 71}\n",
            "0.899 (+/-0.033) for {'C': 72}\n",
            "0.899 (+/-0.036) for {'C': 73}\n",
            "0.899 (+/-0.036) for {'C': 74}\n"
          ],
          "name": "stdout"
        }
      ]
    },
    {
      "cell_type": "code",
      "metadata": {
        "id": "bDZzR_TdOfil",
        "colab_type": "code",
        "colab": {
          "base_uri": "https://localhost:8080/",
          "height": 85
        },
        "outputId": "019a65e0-3790-4e61-e611-8fdbfe156cb2"
      },
      "source": [
        "from sklearn.svm import SVC\n",
        "\n",
        "model2 = SVC(C=70, probability=True)\n",
        "model2.fit(X_train_stand_nooutliers,y_train_nooutliers)"
      ],
      "execution_count": 37,
      "outputs": [
        {
          "output_type": "execute_result",
          "data": {
            "text/plain": [
              "SVC(C=70, break_ties=False, cache_size=200, class_weight=None, coef0=0.0,\n",
              "    decision_function_shape='ovr', degree=3, gamma='scale', kernel='rbf',\n",
              "    max_iter=-1, probability=True, random_state=None, shrinking=True, tol=0.001,\n",
              "    verbose=False)"
            ]
          },
          "metadata": {
            "tags": []
          },
          "execution_count": 37
        }
      ]
    },
    {
      "cell_type": "code",
      "metadata": {
        "id": "HicnhXmsmi8V",
        "colab_type": "code",
        "colab": {
          "base_uri": "https://localhost:8080/",
          "height": 136
        },
        "outputId": "2f038e42-3032-4968-a636-4eee1cbe676b"
      },
      "source": [
        "predictions2 = model2.predict_proba(X_test_stand_nooutliers)\n",
        "predictions2"
      ],
      "execution_count": 38,
      "outputs": [
        {
          "output_type": "execute_result",
          "data": {
            "text/plain": [
              "array([[9.99993656e-01, 6.34438024e-06],\n",
              "       [2.34981998e-01, 7.65018002e-01],\n",
              "       [9.94854812e-01, 5.14518759e-03],\n",
              "       ...,\n",
              "       [2.26788472e-06, 9.99997732e-01],\n",
              "       [2.12850646e-01, 7.87149354e-01],\n",
              "       [9.74696471e-01, 2.53035288e-02]])"
            ]
          },
          "metadata": {
            "tags": []
          },
          "execution_count": 38
        }
      ]
    },
    {
      "cell_type": "code",
      "metadata": {
        "id": "rnoOO7-_Xxxn",
        "colab_type": "code",
        "colab": {
          "base_uri": "https://localhost:8080/",
          "height": 419
        },
        "outputId": "7a24ca40-14c7-45a3-a167-82dd8bdddf05"
      },
      "source": [
        "example2 = pd.DataFrame()\n",
        "example2['index'] = testset['index']\n",
        "example2['label'] = predictions2[:,1]\n",
        "example2"
      ],
      "execution_count": 39,
      "outputs": [
        {
          "output_type": "execute_result",
          "data": {
            "text/html": [
              "<div>\n",
              "<style scoped>\n",
              "    .dataframe tbody tr th:only-of-type {\n",
              "        vertical-align: middle;\n",
              "    }\n",
              "\n",
              "    .dataframe tbody tr th {\n",
              "        vertical-align: top;\n",
              "    }\n",
              "\n",
              "    .dataframe thead th {\n",
              "        text-align: right;\n",
              "    }\n",
              "</style>\n",
              "<table border=\"1\" class=\"dataframe\">\n",
              "  <thead>\n",
              "    <tr style=\"text-align: right;\">\n",
              "      <th></th>\n",
              "      <th>index</th>\n",
              "      <th>label</th>\n",
              "    </tr>\n",
              "  </thead>\n",
              "  <tbody>\n",
              "    <tr>\n",
              "      <th>0</th>\n",
              "      <td>0</td>\n",
              "      <td>0.000006</td>\n",
              "    </tr>\n",
              "    <tr>\n",
              "      <th>1</th>\n",
              "      <td>1</td>\n",
              "      <td>0.765018</td>\n",
              "    </tr>\n",
              "    <tr>\n",
              "      <th>2</th>\n",
              "      <td>2</td>\n",
              "      <td>0.005145</td>\n",
              "    </tr>\n",
              "    <tr>\n",
              "      <th>3</th>\n",
              "      <td>3</td>\n",
              "      <td>1.000000</td>\n",
              "    </tr>\n",
              "    <tr>\n",
              "      <th>4</th>\n",
              "      <td>4</td>\n",
              "      <td>1.000000</td>\n",
              "    </tr>\n",
              "    <tr>\n",
              "      <th>...</th>\n",
              "      <td>...</td>\n",
              "      <td>...</td>\n",
              "    </tr>\n",
              "    <tr>\n",
              "      <th>12887</th>\n",
              "      <td>12887</td>\n",
              "      <td>0.077871</td>\n",
              "    </tr>\n",
              "    <tr>\n",
              "      <th>12888</th>\n",
              "      <td>12888</td>\n",
              "      <td>0.995571</td>\n",
              "    </tr>\n",
              "    <tr>\n",
              "      <th>12889</th>\n",
              "      <td>12889</td>\n",
              "      <td>0.999998</td>\n",
              "    </tr>\n",
              "    <tr>\n",
              "      <th>12890</th>\n",
              "      <td>12890</td>\n",
              "      <td>0.787149</td>\n",
              "    </tr>\n",
              "    <tr>\n",
              "      <th>12891</th>\n",
              "      <td>12891</td>\n",
              "      <td>0.025304</td>\n",
              "    </tr>\n",
              "  </tbody>\n",
              "</table>\n",
              "<p>12892 rows × 2 columns</p>\n",
              "</div>"
            ],
            "text/plain": [
              "       index     label\n",
              "0          0  0.000006\n",
              "1          1  0.765018\n",
              "2          2  0.005145\n",
              "3          3  1.000000\n",
              "4          4  1.000000\n",
              "...      ...       ...\n",
              "12887  12887  0.077871\n",
              "12888  12888  0.995571\n",
              "12889  12889  0.999998\n",
              "12890  12890  0.787149\n",
              "12891  12891  0.025304\n",
              "\n",
              "[12892 rows x 2 columns]"
            ]
          },
          "metadata": {
            "tags": []
          },
          "execution_count": 39
        }
      ]
    },
    {
      "cell_type": "code",
      "metadata": {
        "id": "sJgnsGg747kQ",
        "colab_type": "code",
        "colab": {}
      },
      "source": [
        "filename = \"my_prediction_results.csv\"\n",
        "\n",
        "#make sure to not write the Pandas index column (index=False)\n",
        "example2.to_csv(filename,index=False)"
      ],
      "execution_count": 0,
      "outputs": []
    },
    {
      "cell_type": "code",
      "metadata": {
        "id": "Zz58m0Ifa8_J",
        "colab_type": "code",
        "colab": {}
      },
      "source": [
        ""
      ],
      "execution_count": 0,
      "outputs": []
    }
  ]
}