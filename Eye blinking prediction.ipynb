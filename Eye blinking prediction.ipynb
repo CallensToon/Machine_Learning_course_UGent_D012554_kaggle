{
  "nbformat": 4,
  "nbformat_minor": 0,
  "metadata": {
    "kernelspec": {
      "display_name": "Python 3",
      "language": "python",
      "name": "python3"
    },
    "language_info": {
      "codemirror_mode": {
        "name": "ipython",
        "version": 3
      },
      "file_extension": ".py",
      "mimetype": "text/x-python",
      "name": "python",
      "nbconvert_exporter": "python",
      "pygments_lexer": "ipython3",
      "version": "3.7.3"
    },
    "colab": {
      "name": "Eye blinking prediction.ipynb",
      "provenance": []
    }
  },
  "cells": [
    {
      "cell_type": "code",
      "metadata": {
        "id": "52xHOyHDXxao",
        "colab_type": "code",
        "colab": {}
      },
      "source": [
        "%matplotlib inline\n",
        "import pandas as pd;\n",
        "import seaborn as sns;\n",
        "import numpy as np;\n",
        "import matplotlib.pyplot as plt;"
      ],
      "execution_count": 0,
      "outputs": []
    },
    {
      "cell_type": "markdown",
      "metadata": {
        "id": "goRLnuyRXxaw",
        "colab_type": "text"
      },
      "source": [
        "\n",
        "<img src=\"https://raw.githubusercontent.com/sdgroeve/Machine_Learning_course_UGent_D012554_kaggle/master/header.png\" alt=\"drawing\"/>\n"
      ]
    },
    {
      "cell_type": "markdown",
      "metadata": {
        "id": "tsJ4TbSlXxax",
        "colab_type": "text"
      },
      "source": [
        "A multi-channel electroencephalography (EEG) system enables a broad range of applications including neurotherapy, biofeedback, and brain computer interfacing. The dataset you will analyse is created with the [Emotiv EPOC+](https://www.emotiv.com/product/emotiv-epoc-14-channel-mobile-eeg).  \n",
        "\n",
        "It has 14 EEG channels with names based on the International 10-20 locations: AF3, F7, F3, FC5, T7, P7, O1, O2, P8, T8, FC6, F4, F8, AF4:\n",
        "\n",
        "<br/>\n",
        "<br/>\n",
        "<center>\n",
        "<img src=\"https://raw.githubusercontent.com/sdgroeve/Machine_Learning_course_UGent_D012554_kaggle/master/EEG.png\" alt=\"drawing\" width=\"200\"/>\n",
        "<center/>\n",
        "<br/>\n",
        "<br/>\n"
      ]
    },
    {
      "cell_type": "markdown",
      "metadata": {
        "id": "HzXBqhLUfxyh",
        "colab_type": "text"
      },
      "source": [
        "All data is from one continuous EEG measurement with the Emotiv EEG Neuroheadset. \n",
        "\n",
        "The experiment was conducted on one person only. The duration of the measurement was around 117 seconds.\n",
        "\n",
        "From the paper:\n",
        "\n",
        "> *The experiment was carried out in a quiet room. During\n",
        "the experiment, the proband was being videotaped. To prevent\n",
        "artifacts, the proband was not aware of the exact start time\n",
        "of the measurement. Instead, he was told to sit relaxed, look\n",
        "straight to the camera, and change the eye state at free will.\n",
        "Only additional constraint was that, accumulated over the\n",
        "entire session, the duration of both eye states should be about\n",
        "the same and that the individual intervals should vary greatly\n",
        "in length (from eye blinking to longer stretches)...*\n",
        "\n",
        "The eye state was detected via a camera during the EEG measurement and later added manually to the file after analyzing the video frames. \n",
        "\n",
        "A label '1' indicates the eye-closed and '0' the eye-open state.\n",
        "\n",
        "(*Source: Oliver Roesler, Stuttgart, Germany*)"
      ]
    },
    {
      "cell_type": "markdown",
      "metadata": {
        "id": "1rHopvjFXxay",
        "colab_type": "text"
      },
      "source": [
        "Let's load the train and test set:"
      ]
    },
    {
      "cell_type": "code",
      "metadata": {
        "id": "aw7NaXHYXxaz",
        "colab_type": "code",
        "colab": {}
      },
      "source": [
        "trainset = pd.read_csv(\"https://raw.githubusercontent.com/sdgroeve/Machine_Learning_course_UGent_D012554_kaggle/master/eeg_train.csv\")\n",
        "\n",
        "testset = pd.read_csv(\"https://raw.githubusercontent.com/sdgroeve/Machine_Learning_course_UGent_D012554_kaggle/master/eeg_test.csv\")\n",
        "\n",
        "sample_submission = pd.read_csv(\"https://raw.githubusercontent.com/sdgroeve/Machine_Learning_course_UGent_D012554_kaggle/master/sample_submission.csv\")\n"
      ],
      "execution_count": 0,
      "outputs": []
    },
    {
      "cell_type": "markdown",
      "metadata": {
        "id": "Xa4COLVgY48t",
        "colab_type": "text"
      },
      "source": [
        "You will fit a model on the trainset and make predictions on the testset. \n",
        "\n",
        "To submit these predictions to Kaggle you need to write a .csv file with two columns: \n",
        "- `index` that matches the `index` column in the test set.\n",
        "- `label` which is your prediction.\n",
        "\n",
        "Here is an example predictions file for Kaggle:"
      ]
    },
    {
      "cell_type": "code",
      "metadata": {
        "id": "G2Xcd8tvkEqA",
        "colab_type": "code",
        "outputId": "0f5cdc41-2224-450e-fb59-16c2eadb0a84",
        "colab": {
          "base_uri": "https://localhost:8080/",
          "height": 359
        }
      },
      "source": [
        "sample_submission.head(10)"
      ],
      "execution_count": 11,
      "outputs": [
        {
          "output_type": "execute_result",
          "data": {
            "text/html": [
              "<div>\n",
              "<style scoped>\n",
              "    .dataframe tbody tr th:only-of-type {\n",
              "        vertical-align: middle;\n",
              "    }\n",
              "\n",
              "    .dataframe tbody tr th {\n",
              "        vertical-align: top;\n",
              "    }\n",
              "\n",
              "    .dataframe thead th {\n",
              "        text-align: right;\n",
              "    }\n",
              "</style>\n",
              "<table border=\"1\" class=\"dataframe\">\n",
              "  <thead>\n",
              "    <tr style=\"text-align: right;\">\n",
              "      <th></th>\n",
              "      <th>index</th>\n",
              "      <th>label</th>\n",
              "    </tr>\n",
              "  </thead>\n",
              "  <tbody>\n",
              "    <tr>\n",
              "      <th>0</th>\n",
              "      <td>0</td>\n",
              "      <td>0.168801</td>\n",
              "    </tr>\n",
              "    <tr>\n",
              "      <th>1</th>\n",
              "      <td>1</td>\n",
              "      <td>0.124169</td>\n",
              "    </tr>\n",
              "    <tr>\n",
              "      <th>2</th>\n",
              "      <td>2</td>\n",
              "      <td>0.947757</td>\n",
              "    </tr>\n",
              "    <tr>\n",
              "      <th>3</th>\n",
              "      <td>3</td>\n",
              "      <td>0.069585</td>\n",
              "    </tr>\n",
              "    <tr>\n",
              "      <th>4</th>\n",
              "      <td>4</td>\n",
              "      <td>0.635325</td>\n",
              "    </tr>\n",
              "    <tr>\n",
              "      <th>5</th>\n",
              "      <td>5</td>\n",
              "      <td>0.659027</td>\n",
              "    </tr>\n",
              "    <tr>\n",
              "      <th>6</th>\n",
              "      <td>6</td>\n",
              "      <td>0.653697</td>\n",
              "    </tr>\n",
              "    <tr>\n",
              "      <th>7</th>\n",
              "      <td>7</td>\n",
              "      <td>0.850030</td>\n",
              "    </tr>\n",
              "    <tr>\n",
              "      <th>8</th>\n",
              "      <td>8</td>\n",
              "      <td>0.160489</td>\n",
              "    </tr>\n",
              "    <tr>\n",
              "      <th>9</th>\n",
              "      <td>9</td>\n",
              "      <td>0.843272</td>\n",
              "    </tr>\n",
              "  </tbody>\n",
              "</table>\n",
              "</div>"
            ],
            "text/plain": [
              "   index     label\n",
              "0      0  0.168801\n",
              "1      1  0.124169\n",
              "2      2  0.947757\n",
              "3      3  0.069585\n",
              "4      4  0.635325\n",
              "5      5  0.659027\n",
              "6      6  0.653697\n",
              "7      7  0.850030\n",
              "8      8  0.160489\n",
              "9      9  0.843272"
            ]
          },
          "metadata": {
            "tags": []
          },
          "execution_count": 11
        }
      ]
    },
    {
      "cell_type": "markdown",
      "metadata": {
        "id": "w7AHk-3elWpy",
        "colab_type": "text"
      },
      "source": [
        "Make sure to save your results without the extra Pandas index column that is written by default:"
      ]
    },
    {
      "cell_type": "code",
      "metadata": {
        "id": "eDU6GW7OeQ5W",
        "colab_type": "code",
        "outputId": "8bf429da-e6af-451d-e167-620d49d179cb",
        "colab": {
          "base_uri": "https://localhost:8080/",
          "height": 204
        }
      },
      "source": [
        "y_train = trainset.pop('label')\n",
        "X_train = trainset\n",
        "X_test = testset.iloc[:,:14]\n",
        "X_train.head()"
      ],
      "execution_count": 12,
      "outputs": [
        {
          "output_type": "execute_result",
          "data": {
            "text/html": [
              "<div>\n",
              "<style scoped>\n",
              "    .dataframe tbody tr th:only-of-type {\n",
              "        vertical-align: middle;\n",
              "    }\n",
              "\n",
              "    .dataframe tbody tr th {\n",
              "        vertical-align: top;\n",
              "    }\n",
              "\n",
              "    .dataframe thead th {\n",
              "        text-align: right;\n",
              "    }\n",
              "</style>\n",
              "<table border=\"1\" class=\"dataframe\">\n",
              "  <thead>\n",
              "    <tr style=\"text-align: right;\">\n",
              "      <th></th>\n",
              "      <th>AF3</th>\n",
              "      <th>F7</th>\n",
              "      <th>F3</th>\n",
              "      <th>FC5</th>\n",
              "      <th>T7</th>\n",
              "      <th>P7</th>\n",
              "      <th>O1</th>\n",
              "      <th>02</th>\n",
              "      <th>P8</th>\n",
              "      <th>T8</th>\n",
              "      <th>FC6</th>\n",
              "      <th>F4</th>\n",
              "      <th>F8</th>\n",
              "      <th>AF4</th>\n",
              "    </tr>\n",
              "  </thead>\n",
              "  <tbody>\n",
              "    <tr>\n",
              "      <th>0</th>\n",
              "      <td>4299.49</td>\n",
              "      <td>3997.44</td>\n",
              "      <td>4277.95</td>\n",
              "      <td>4116.92</td>\n",
              "      <td>4353.85</td>\n",
              "      <td>4623.08</td>\n",
              "      <td>4100.00</td>\n",
              "      <td>4623.59</td>\n",
              "      <td>4202.56</td>\n",
              "      <td>4229.23</td>\n",
              "      <td>4211.79</td>\n",
              "      <td>4278.97</td>\n",
              "      <td>4600.00</td>\n",
              "      <td>4369.23</td>\n",
              "    </tr>\n",
              "    <tr>\n",
              "      <th>1</th>\n",
              "      <td>4302.05</td>\n",
              "      <td>3985.64</td>\n",
              "      <td>4261.03</td>\n",
              "      <td>4129.74</td>\n",
              "      <td>4334.36</td>\n",
              "      <td>4615.38</td>\n",
              "      <td>4072.31</td>\n",
              "      <td>4585.64</td>\n",
              "      <td>4192.31</td>\n",
              "      <td>4225.13</td>\n",
              "      <td>4195.90</td>\n",
              "      <td>4283.08</td>\n",
              "      <td>4607.18</td>\n",
              "      <td>4358.46</td>\n",
              "    </tr>\n",
              "    <tr>\n",
              "      <th>2</th>\n",
              "      <td>4321.03</td>\n",
              "      <td>4015.90</td>\n",
              "      <td>4265.13</td>\n",
              "      <td>4122.56</td>\n",
              "      <td>4333.33</td>\n",
              "      <td>4613.33</td>\n",
              "      <td>4072.82</td>\n",
              "      <td>4602.05</td>\n",
              "      <td>4192.31</td>\n",
              "      <td>4223.08</td>\n",
              "      <td>4155.38</td>\n",
              "      <td>4286.15</td>\n",
              "      <td>4608.21</td>\n",
              "      <td>4371.79</td>\n",
              "    </tr>\n",
              "    <tr>\n",
              "      <th>3</th>\n",
              "      <td>4408.21</td>\n",
              "      <td>4104.10</td>\n",
              "      <td>4380.00</td>\n",
              "      <td>4232.31</td>\n",
              "      <td>4449.74</td>\n",
              "      <td>4750.26</td>\n",
              "      <td>4169.23</td>\n",
              "      <td>4731.28</td>\n",
              "      <td>4311.28</td>\n",
              "      <td>4352.31</td>\n",
              "      <td>4319.49</td>\n",
              "      <td>4388.21</td>\n",
              "      <td>4715.90</td>\n",
              "      <td>4464.10</td>\n",
              "    </tr>\n",
              "    <tr>\n",
              "      <th>4</th>\n",
              "      <td>4347.18</td>\n",
              "      <td>3975.38</td>\n",
              "      <td>4266.67</td>\n",
              "      <td>4102.56</td>\n",
              "      <td>4333.33</td>\n",
              "      <td>4617.95</td>\n",
              "      <td>4097.44</td>\n",
              "      <td>4612.82</td>\n",
              "      <td>4210.77</td>\n",
              "      <td>4240.51</td>\n",
              "      <td>4248.21</td>\n",
              "      <td>4313.33</td>\n",
              "      <td>4664.10</td>\n",
              "      <td>4411.79</td>\n",
              "    </tr>\n",
              "  </tbody>\n",
              "</table>\n",
              "</div>"
            ],
            "text/plain": [
              "       AF3       F7       F3      FC5  ...      FC6       F4       F8      AF4\n",
              "0  4299.49  3997.44  4277.95  4116.92  ...  4211.79  4278.97  4600.00  4369.23\n",
              "1  4302.05  3985.64  4261.03  4129.74  ...  4195.90  4283.08  4607.18  4358.46\n",
              "2  4321.03  4015.90  4265.13  4122.56  ...  4155.38  4286.15  4608.21  4371.79\n",
              "3  4408.21  4104.10  4380.00  4232.31  ...  4319.49  4388.21  4715.90  4464.10\n",
              "4  4347.18  3975.38  4266.67  4102.56  ...  4248.21  4313.33  4664.10  4411.79\n",
              "\n",
              "[5 rows x 14 columns]"
            ]
          },
          "metadata": {
            "tags": []
          },
          "execution_count": 12
        }
      ]
    },
    {
      "cell_type": "code",
      "metadata": {
        "id": "x3OZnsn0eqni",
        "colab_type": "code",
        "outputId": "3d9b1e36-f6d1-4290-f010-520ce2cd09c0",
        "colab": {
          "base_uri": "https://localhost:8080/",
          "height": 483
        }
      },
      "source": [
        "from sklearn.preprocessing import StandardScaler\n",
        "from sklearn.preprocessing import RobustScaler\n",
        "from sklearn.preprocessing import MinMaxScaler\n",
        "\n",
        "scaler = StandardScaler()\n",
        "X_train_stand = pd.DataFrame(scaler.fit_transform(X_train),columns=X_train.columns.values)\n",
        "\n",
        "plt.figure(figsize=(12,8))\n",
        "X_train_stand.boxplot(vert=False)\n",
        "plt.show()"
      ],
      "execution_count": 14,
      "outputs": [
        {
          "output_type": "display_data",
          "data": {
            "image/png": "[encoded data removed]",
            "text/plain": [
              "<Figure size 864x576 with 1 Axes>"
            ]
          },
          "metadata": {
            "tags": [],
            "needs_background": "light"
          }
        }
      ]
    },
    {
      "cell_type": "code",
      "metadata": {
        "id": "OVplT7RjwFnQ",
        "colab_type": "code",
        "outputId": "68b69d06-df8c-4107-a051-f0c79e9cd0df",
        "colab": {
          "base_uri": "https://localhost:8080/",
          "height": 721
        }
      },
      "source": [
        "X_test_stand = pd.DataFrame(scaler.transform(X_test),columns=X_test.columns.values)\n",
        "print(X_test_stand)\n",
        "plt.figure(figsize=(12,8))\n",
        "X_test_stand.boxplot(vert=False)\n",
        "plt.show()"
      ],
      "execution_count": 15,
      "outputs": [
        {
          "output_type": "stream",
          "text": [
            "            AF3        F7        F3  ...        F4        F8       AF4\n",
            "0     -0.103077  1.046608 -0.506702  ... -0.495161 -0.202948 -0.466549\n",
            "1     -0.244195 -0.499673 -0.802616  ... -0.913170 -0.358124 -0.590924\n",
            "2     -0.018351  0.342321  0.282880  ...  0.105122 -0.249531 -0.258808\n",
            "3     -0.554489 -0.155906 -0.013033  ... -0.338853  0.107403 -0.425001\n",
            "4      0.475423 -1.358756 -0.161230  ...  0.183531 -0.388978  0.349848\n",
            "...         ...       ...       ...  ...       ...       ...       ...\n",
            "12887 -0.582822 -0.757331 -0.999891  ... -0.573569 -0.233802 -0.452520\n",
            "12888  0.531815 -0.362301  0.159704  ...  0.392280  0.308859  0.723513\n",
            "12889 -0.385313 -0.087220 -0.210308  ... -0.443228  0.153986 -0.258808\n",
            "12890  2.111618  0.496782  0.726991  ...  1.358639  1.146747  2.231393\n",
            "12891  1.025590  0.995009  1.763409  ...  1.515456  0.960415  1.110938\n",
            "\n",
            "[12892 rows x 14 columns]\n"
          ],
          "name": "stdout"
        },
        {
          "output_type": "display_data",
          "data": {
            "image/png": "[encoded data removed]",
            "text/plain": [
              "<Figure size 864x576 with 1 Axes>"
            ]
          },
          "metadata": {
            "tags": [],
            "needs_background": "light"
          }
        }
      ]
    },
    {
      "cell_type": "code",
      "metadata": {
        "id": "F_Bo6g4j2BrM",
        "colab_type": "code",
        "outputId": "5af52de4-dcaf-4470-eabc-32e37f965b6a",
        "colab": {
          "base_uri": "https://localhost:8080/",
          "height": 34
        }
      },
      "source": [
        "from sklearn.linear_model import LinearRegression\n",
        "\n",
        "model = LinearRegression()\n",
        "model.fit(X_train_stand, y_train)"
      ],
      "execution_count": 20,
      "outputs": [
        {
          "output_type": "execute_result",
          "data": {
            "text/plain": [
              "LinearRegression(copy_X=True, fit_intercept=True, n_jobs=None, normalize=False)"
            ]
          },
          "metadata": {
            "tags": []
          },
          "execution_count": 20
        }
      ]
    },
    {
      "cell_type": "code",
      "metadata": {
        "id": "w2rmjeTv60dT",
        "colab_type": "code",
        "outputId": "e7571d9c-911b-4a8c-a850-5a50036d6adb",
        "colab": {
          "base_uri": "https://localhost:8080/",
          "height": 34
        }
      },
      "source": [
        "from sklearn.model_selection import cross_val_score\n",
        "\n",
        "score_auc = cross_val_score(model, X_train_stand, y_train, scoring='roc_auc', cv=100).mean()\n",
        "\n",
        "print(score_auc)"
      ],
      "execution_count": 21,
      "outputs": [
        {
          "output_type": "stream",
          "text": [
            "0.6611327963702963\n"
          ],
          "name": "stdout"
        }
      ]
    },
    {
      "cell_type": "code",
      "metadata": {
        "id": "sdADpCh42GQI",
        "colab_type": "code",
        "outputId": "ad6a524b-e4c7-41f1-9957-42ea59d57fbb",
        "colab": {
          "base_uri": "https://localhost:8080/",
          "height": 51
        }
      },
      "source": [
        "predictions = model.predict(X_test_stand)\n",
        "predictions"
      ],
      "execution_count": 22,
      "outputs": [
        {
          "output_type": "execute_result",
          "data": {
            "text/plain": [
              "array([0.23577642, 0.36954037, 0.32687736, ..., 0.47242786, 0.60940983,\n",
              "       0.42265953])"
            ]
          },
          "metadata": {
            "tags": []
          },
          "execution_count": 22
        }
      ]
    },
    {
      "cell_type": "code",
      "metadata": {
        "id": "emR3F2Px4Nel",
        "colab_type": "code",
        "outputId": "ca9248c0-e9a9-4158-9297-0a90be91c542",
        "colab": {
          "base_uri": "https://localhost:8080/",
          "height": 419
        }
      },
      "source": [
        "example = pd.DataFrame()\n",
        "example['index'] = testset['index']\n",
        "example['label'] = predictions\n",
        "example"
      ],
      "execution_count": 23,
      "outputs": [
        {
          "output_type": "execute_result",
          "data": {
            "text/html": [
              "<div>\n",
              "<style scoped>\n",
              "    .dataframe tbody tr th:only-of-type {\n",
              "        vertical-align: middle;\n",
              "    }\n",
              "\n",
              "    .dataframe tbody tr th {\n",
              "        vertical-align: top;\n",
              "    }\n",
              "\n",
              "    .dataframe thead th {\n",
              "        text-align: right;\n",
              "    }\n",
              "</style>\n",
              "<table border=\"1\" class=\"dataframe\">\n",
              "  <thead>\n",
              "    <tr style=\"text-align: right;\">\n",
              "      <th></th>\n",
              "      <th>index</th>\n",
              "      <th>label</th>\n",
              "    </tr>\n",
              "  </thead>\n",
              "  <tbody>\n",
              "    <tr>\n",
              "      <th>0</th>\n",
              "      <td>0</td>\n",
              "      <td>0.235776</td>\n",
              "    </tr>\n",
              "    <tr>\n",
              "      <th>1</th>\n",
              "      <td>1</td>\n",
              "      <td>0.369540</td>\n",
              "    </tr>\n",
              "    <tr>\n",
              "      <th>2</th>\n",
              "      <td>2</td>\n",
              "      <td>0.326877</td>\n",
              "    </tr>\n",
              "    <tr>\n",
              "      <th>3</th>\n",
              "      <td>3</td>\n",
              "      <td>0.395776</td>\n",
              "    </tr>\n",
              "    <tr>\n",
              "      <th>4</th>\n",
              "      <td>4</td>\n",
              "      <td>0.854611</td>\n",
              "    </tr>\n",
              "    <tr>\n",
              "      <th>...</th>\n",
              "      <td>...</td>\n",
              "      <td>...</td>\n",
              "    </tr>\n",
              "    <tr>\n",
              "      <th>12887</th>\n",
              "      <td>12887</td>\n",
              "      <td>0.465054</td>\n",
              "    </tr>\n",
              "    <tr>\n",
              "      <th>12888</th>\n",
              "      <td>12888</td>\n",
              "      <td>0.544708</td>\n",
              "    </tr>\n",
              "    <tr>\n",
              "      <th>12889</th>\n",
              "      <td>12889</td>\n",
              "      <td>0.472428</td>\n",
              "    </tr>\n",
              "    <tr>\n",
              "      <th>12890</th>\n",
              "      <td>12890</td>\n",
              "      <td>0.609410</td>\n",
              "    </tr>\n",
              "    <tr>\n",
              "      <th>12891</th>\n",
              "      <td>12891</td>\n",
              "      <td>0.422660</td>\n",
              "    </tr>\n",
              "  </tbody>\n",
              "</table>\n",
              "<p>12892 rows × 2 columns</p>\n",
              "</div>"
            ],
            "text/plain": [
              "       index     label\n",
              "0          0  0.235776\n",
              "1          1  0.369540\n",
              "2          2  0.326877\n",
              "3          3  0.395776\n",
              "4          4  0.854611\n",
              "...      ...       ...\n",
              "12887  12887  0.465054\n",
              "12888  12888  0.544708\n",
              "12889  12889  0.472428\n",
              "12890  12890  0.609410\n",
              "12891  12891  0.422660\n",
              "\n",
              "[12892 rows x 2 columns]"
            ]
          },
          "metadata": {
            "tags": []
          },
          "execution_count": 23
        }
      ]
    },
    {
      "cell_type": "code",
      "metadata": {
        "id": "sJgnsGg747kQ",
        "colab_type": "code",
        "colab": {}
      },
      "source": [
        "filename = \"my_prediction_results.csv\"\n",
        "\n",
        "#make sure to not write the Pandas index column (index=False)\n",
        "example.to_csv(filename,index=False)"
      ],
      "execution_count": 0,
      "outputs": []
    },
    {
      "cell_type": "code",
      "metadata": {
        "id": "uhudjkgUXwTx",
        "colab_type": "code",
        "colab": {}
      },
      "source": [
        ""
      ],
      "execution_count": 0,
      "outputs": []
    }
  ]
}