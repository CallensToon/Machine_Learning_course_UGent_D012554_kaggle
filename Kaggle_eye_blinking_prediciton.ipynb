{
  "nbformat": 4,
  "nbformat_minor": 0,
  "metadata": {
    "colab": {
      "name": "Untitled3.ipynb",
      "provenance": [],
      "collapsed_sections": [],
      "authorship_tag": "ABX9TyOH5SDLT86ZO0uL1zj9ngoA",
      "include_colab_link": true
    },
    "kernelspec": {
      "name": "python3",
      "display_name": "Python 3"
    }
  },
  "cells": [
    {
      "cell_type": "markdown",
      "metadata": {
        "id": "view-in-github",
        "colab_type": "text"
      },
      "source": [
        "<a href=\"https://colab.research.google.com/github/CallensToon/Machine_Learning_course_UGent_D012554_kaggle/blob/master/Kaggle_eye_blinking_prediciton.ipynb\" target=\"_parent\"><img src=\"https://colab.research.google.com/assets/colab-badge.svg\" alt=\"Open In Colab\"/></a>"
      ]
    },
    {
      "cell_type": "code",
      "metadata": {
        "id": "urx_0bB9D-i1",
        "colab_type": "code",
        "outputId": "a7768610-43b0-4d59-f4e4-b15d4833c4d8",
        "colab": {
          "base_uri": "https://localhost:8080/",
          "height": 51
        }
      },
      "source": [
        "%matplotlib inline\n",
        "import pandas as pd;\n",
        "import seaborn as sns;\n",
        "import numpy as np;\n",
        "import matplotlib.pyplot as plt;"
      ],
      "execution_count": 2,
      "outputs": [
        {
          "output_type": "stream",
          "text": [
            "/usr/local/lib/python3.6/dist-packages/statsmodels/tools/_testing.py:19: FutureWarning: pandas.util.testing is deprecated. Use the functions in the public API at pandas.testing instead.\n",
            "  import pandas.util.testing as tm\n"
          ],
          "name": "stderr"
        }
      ]
    },
    {
      "cell_type": "markdown",
      "metadata": {
        "id": "1haWnOADo1BL",
        "colab_type": "text"
      },
      "source": [
        "# **Model 1**"
      ]
    },
    {
      "cell_type": "markdown",
      "metadata": {
        "id": "CYaINd5LSURo",
        "colab_type": "text"
      },
      "source": [
        "**Model = SVC**"
      ]
    },
    {
      "cell_type": "markdown",
      "metadata": {
        "id": "E-9kDet7F6es",
        "colab_type": "text"
      },
      "source": [
        "Get the datasets (train and test dataset)"
      ]
    },
    {
      "cell_type": "code",
      "metadata": {
        "id": "ybi2wz19EEZr",
        "colab_type": "code",
        "colab": {}
      },
      "source": [
        "trainset = pd.read_csv(\"https://raw.githubusercontent.com/sdgroeve/Machine_Learning_course_UGent_D012554_kaggle/master/eeg_train.csv\")\n",
        "testset = pd.read_csv(\"https://raw.githubusercontent.com/sdgroeve/Machine_Learning_course_UGent_D012554_kaggle/master/eeg_test.csv\")"
      ],
      "execution_count": 0,
      "outputs": []
    },
    {
      "cell_type": "code",
      "metadata": {
        "id": "e1uc4QMfFiGP",
        "colab_type": "code",
        "outputId": "67512aea-f61c-4851-88ce-09a603e3fdd7",
        "colab": {
          "base_uri": "https://localhost:8080/",
          "height": 289
        }
      },
      "source": [
        "print(trainset.head())\n",
        "print(testset.head())"
      ],
      "execution_count": 0,
      "outputs": [
        {
          "output_type": "stream",
          "text": [
            "       AF3       F7       F3      FC5  ...       F4       F8      AF4  label\n",
            "0  4299.49  3997.44  4277.95  4116.92  ...  4278.97  4600.00  4369.23      1\n",
            "1  4302.05  3985.64  4261.03  4129.74  ...  4283.08  4607.18  4358.46      0\n",
            "2  4321.03  4015.90  4265.13  4122.56  ...  4286.15  4608.21  4371.79      0\n",
            "3  4408.21  4104.10  4380.00  4232.31  ...  4388.21  4715.90  4464.10      0\n",
            "4  4347.18  3975.38  4266.67  4102.56  ...  4313.33  4664.10  4411.79      1\n",
            "\n",
            "[5 rows x 15 columns]\n",
            "       AF3       F7       F3      FC5  ...       F4       F8      AF4  index\n",
            "0  4296.41  4040.51  4253.33  4124.10  ...  4268.72  4598.46  4342.56      0\n",
            "1  4291.28  3994.36  4247.18  4102.56  ...  4260.51  4593.33  4337.95      1\n",
            "2  4299.49  4019.49  4269.74  4116.41  ...  4280.51  4596.92  4350.26      2\n",
            "3  4280.00  4004.62  4263.59  4120.51  ...  4271.79  4608.72  4344.10      3\n",
            "4  4317.44  3968.72  4260.51  4101.54  ...  4282.05  4592.31  4372.82      4\n",
            "\n",
            "[5 rows x 15 columns]\n"
          ],
          "name": "stdout"
        }
      ]
    },
    {
      "cell_type": "markdown",
      "metadata": {
        "id": "gSqFkItHU9tU",
        "colab_type": "text"
      },
      "source": [
        "Divide trainset and testset into the features only (remove label from trainset and index from testset)."
      ]
    },
    {
      "cell_type": "code",
      "metadata": {
        "id": "5YeHO8r7Ut3L",
        "colab_type": "code",
        "colab": {}
      },
      "source": [
        "y_train = trainset.pop('label')\n",
        "X_train = trainset\n",
        "X_test = testset.iloc[:,:14]"
      ],
      "execution_count": 0,
      "outputs": []
    },
    {
      "cell_type": "markdown",
      "metadata": {
        "id": "OECbrq7TWTGf",
        "colab_type": "text"
      },
      "source": [
        "Scale the train and testset. Fit and transform the trainset and then transform the testset."
      ]
    },
    {
      "cell_type": "code",
      "metadata": {
        "id": "dyt3HEMQF2Q1",
        "colab_type": "code",
        "colab": {}
      },
      "source": [
        "from sklearn.preprocessing import StandardScaler\n",
        "\n",
        "scaler = StandardScaler()\n",
        "X_train_stand = pd.DataFrame(scaler.fit_transform(X_train),columns=X_train.columns.values)\n",
        "X_test_stand = pd.DataFrame(scaler.transform(X_test),columns=X_test.columns.values)"
      ],
      "execution_count": 0,
      "outputs": []
    },
    {
      "cell_type": "code",
      "metadata": {
        "id": "OyHeWqJSWzK9",
        "colab_type": "code",
        "outputId": "c1219303-5004-4bc4-fda7-ebf676b987c1",
        "colab": {
          "base_uri": "https://localhost:8080/",
          "height": 483
        }
      },
      "source": [
        "plt.figure(figsize=(12,8))\n",
        "X_train_stand.boxplot(vert=False)\n",
        "plt.show()"
      ],
      "execution_count": 0,
      "outputs": [
        {
          "output_type": "display_data",
          "data": {
            "image/png": "[encoded data removed]",
            "text/plain": [
              "<Figure size 864x576 with 1 Axes>"
            ]
          },
          "metadata": {
            "tags": [],
            "needs_background": "light"
          }
        }
      ]
    },
    {
      "cell_type": "markdown",
      "metadata": {
        "id": "9oGgEMELXY4q",
        "colab_type": "text"
      },
      "source": [
        "Define my bare C-Support Vector Classification (SVC) model."
      ]
    },
    {
      "cell_type": "code",
      "metadata": {
        "id": "hSXEhkJIW66W",
        "colab_type": "code",
        "colab": {}
      },
      "source": [
        "from sklearn.svm import SVC\n",
        "\n",
        "model = SVC(probability=True)"
      ],
      "execution_count": 0,
      "outputs": []
    },
    {
      "cell_type": "markdown",
      "metadata": {
        "id": "srLc6vTXXvIG",
        "colab_type": "text"
      },
      "source": [
        "Now I fit this not optimized model on the trainset to get a broad overview of the model performance on the trainset."
      ]
    },
    {
      "cell_type": "code",
      "metadata": {
        "id": "Q6M5Y6g4XuTP",
        "colab_type": "code",
        "outputId": "99418065-3b3f-40f5-b3c9-3dff34a536a2",
        "colab": {
          "base_uri": "https://localhost:8080/",
          "height": 85
        }
      },
      "source": [
        "model.fit(X_train_stand, y_train)"
      ],
      "execution_count": 0,
      "outputs": [
        {
          "output_type": "execute_result",
          "data": {
            "text/plain": [
              "SVC(C=1.0, break_ties=False, cache_size=200, class_weight=None, coef0=0.0,\n",
              "    decision_function_shape='ovr', degree=3, gamma='scale', kernel='rbf',\n",
              "    max_iter=-1, probability=True, random_state=None, shrinking=True, tol=0.001,\n",
              "    verbose=False)"
            ]
          },
          "metadata": {
            "tags": []
          },
          "execution_count": 12
        }
      ]
    },
    {
      "cell_type": "markdown",
      "metadata": {
        "id": "TbhpdeVdYK4Z",
        "colab_type": "text"
      },
      "source": [
        "Calculate and print the auc score. For this I use a 10 fold cross validation to split the trainset, train on part of the trainset and predict the part of the trainset that the model was not trained on. As this is 10 fold cross validation, I get 10 values of the auc score and then take the mean of these. This gives a first indication of how well the model performs with regard to the auc score."
      ]
    },
    {
      "cell_type": "code",
      "metadata": {
        "id": "t1KVUAsDX7yI",
        "colab_type": "code",
        "outputId": "cda7b7a1-3a8d-4ff3-f046-47b311146a0f",
        "colab": {
          "base_uri": "https://localhost:8080/",
          "height": 34
        }
      },
      "source": [
        "from sklearn.model_selection import cross_val_score\n",
        "\n",
        "score_auc = cross_val_score(model, X_train_stand, y_train, scoring='roc_auc', cv=10).mean()\n",
        "\n",
        "print(score_auc)"
      ],
      "execution_count": 0,
      "outputs": [
        {
          "output_type": "stream",
          "text": [
            "0.8942757252940738\n"
          ],
          "name": "stdout"
        }
      ]
    },
    {
      "cell_type": "markdown",
      "metadata": {
        "id": "cxs72WEZZR5o",
        "colab_type": "text"
      },
      "source": [
        "I can further improve this model by hyperparameter tuning. The two most important parameters in this model are C and gamma. Gamma defines how far the influence of a single training example reaches, with low values meaning ‘far’ and high values meaning ‘close’, C is a regularization parameter. We can see in the above code that standard the C=1.0 and gamma='scale'. I can improve these parameters using GridSearchCV, this calculates scores for different chosen values of the parameters by doing cross validation on the trainset. The value of this cross validation can also be changed."
      ]
    },
    {
      "cell_type": "code",
      "metadata": {
        "id": "98da_7RWZN78",
        "colab_type": "code",
        "outputId": "0cc4c363-c585-4a4e-911d-0a0581f6bdbd",
        "colab": {
          "base_uri": "https://localhost:8080/",
          "height": 433
        }
      },
      "source": [
        "from sklearn.model_selection import GridSearchCV\n",
        "\n",
        "C_value = [0.01,0.1,1,10,50,100]\n",
        "gamma_value = [0.1,1,10,100]             \n",
        "params = dict(C=C_value, gamma=gamma_value)\n",
        "grid_search = GridSearchCV(model, param_grid=params, scoring='roc_auc', cv=20)\n",
        "\n",
        "grid_search.fit(X_train_stand, y_train)\n",
        "\n",
        "means = grid_search.cv_results_['mean_test_score']\n",
        "stds = grid_search.cv_results_['std_test_score']\n",
        "\n",
        "for mean_score, std, params in zip(means, stds, grid_search.cv_results_['params']):\n",
        "    print(\"{:.4f} (+/-{:.4f}) for {}\".format(mean_score, std * 2, params))"
      ],
      "execution_count": 0,
      "outputs": [
        {
          "output_type": "stream",
          "text": [
            "0.7678 (+/-0.0856) for {'C': 0.01, 'gamma': 0.1}\n",
            "0.9112 (+/-0.0724) for {'C': 0.01, 'gamma': 1}\n",
            "0.9329 (+/-0.0385) for {'C': 0.01, 'gamma': 10}\n",
            "0.5493 (+/-0.0404) for {'C': 0.01, 'gamma': 100}\n",
            "0.8035 (+/-0.0741) for {'C': 0.1, 'gamma': 0.1}\n",
            "0.9112 (+/-0.0725) for {'C': 0.1, 'gamma': 1}\n",
            "0.9326 (+/-0.0386) for {'C': 0.1, 'gamma': 10}\n",
            "0.5651 (+/-0.0456) for {'C': 0.1, 'gamma': 100}\n",
            "0.9164 (+/-0.0681) for {'C': 1, 'gamma': 0.1}\n",
            "0.9590 (+/-0.0434) for {'C': 1, 'gamma': 1}\n",
            "0.9325 (+/-0.0388) for {'C': 1, 'gamma': 10}\n",
            "0.5825 (+/-0.0510) for {'C': 1, 'gamma': 100}\n",
            "0.9561 (+/-0.0476) for {'C': 10, 'gamma': 0.1}\n",
            "0.9633 (+/-0.0349) for {'C': 10, 'gamma': 1}\n",
            "0.9328 (+/-0.0383) for {'C': 10, 'gamma': 10}\n",
            "0.5910 (+/-0.0473) for {'C': 10, 'gamma': 100}\n",
            "0.9618 (+/-0.0444) for {'C': 50, 'gamma': 0.1}\n",
            "0.9633 (+/-0.0349) for {'C': 50, 'gamma': 1}\n",
            "0.9328 (+/-0.0383) for {'C': 50, 'gamma': 10}\n",
            "0.5910 (+/-0.0473) for {'C': 50, 'gamma': 100}\n",
            "0.9605 (+/-0.0425) for {'C': 100, 'gamma': 0.1}\n",
            "0.9633 (+/-0.0349) for {'C': 100, 'gamma': 1}\n",
            "0.9328 (+/-0.0383) for {'C': 100, 'gamma': 10}\n",
            "0.5910 (+/-0.0473) for {'C': 100, 'gamma': 100}\n"
          ],
          "name": "stdout"
        }
      ]
    },
    {
      "cell_type": "markdown",
      "metadata": {
        "id": "YStGTcLueIHb",
        "colab_type": "text"
      },
      "source": [
        "We can see that for values of C=10 and gamma=1 we have the highest score. So now to further optimize this, I can finetune our search around C=10 and gamma=1."
      ]
    },
    {
      "cell_type": "code",
      "metadata": {
        "id": "2DWR89hVdXoN",
        "colab_type": "code",
        "outputId": "222c0543-b8d0-4499-e666-534c0d6528cd",
        "colab": {
          "base_uri": "https://localhost:8080/",
          "height": 363
        }
      },
      "source": [
        "C_value = [8,9,10,11,12]\n",
        "gamma_value = [0.5,1,1.5,2]             \n",
        "params = dict(C=C_value, gamma=gamma_value)\n",
        "grid_search = GridSearchCV(model, param_grid=params, scoring='roc_auc', cv=20)\n",
        "\n",
        "grid_search.fit(X_train_stand, y_train)\n",
        "\n",
        "means = grid_search.cv_results_['mean_test_score']\n",
        "stds = grid_search.cv_results_['std_test_score']\n",
        "\n",
        "for mean_score, std, params in zip(means, stds, grid_search.cv_results_['params']):\n",
        "    print(\"{:.4f} (+/-{:.4f}) for {}\".format(mean_score, std * 2, params))"
      ],
      "execution_count": 0,
      "outputs": [
        {
          "output_type": "stream",
          "text": [
            "0.9663 (+/-0.0377) for {'C': 8, 'gamma': 0.5}\n",
            "0.9633 (+/-0.0349) for {'C': 8, 'gamma': 1}\n",
            "0.9588 (+/-0.0354) for {'C': 8, 'gamma': 1.5}\n",
            "0.9545 (+/-0.0355) for {'C': 8, 'gamma': 2}\n",
            "0.9655 (+/-0.0370) for {'C': 9, 'gamma': 0.5}\n",
            "0.9633 (+/-0.0349) for {'C': 9, 'gamma': 1}\n",
            "0.9588 (+/-0.0354) for {'C': 9, 'gamma': 1.5}\n",
            "0.9545 (+/-0.0355) for {'C': 9, 'gamma': 2}\n",
            "0.9650 (+/-0.0373) for {'C': 10, 'gamma': 0.5}\n",
            "0.9633 (+/-0.0349) for {'C': 10, 'gamma': 1}\n",
            "0.9588 (+/-0.0354) for {'C': 10, 'gamma': 1.5}\n",
            "0.9545 (+/-0.0355) for {'C': 10, 'gamma': 2}\n",
            "0.9647 (+/-0.0376) for {'C': 11, 'gamma': 0.5}\n",
            "0.9633 (+/-0.0349) for {'C': 11, 'gamma': 1}\n",
            "0.9588 (+/-0.0354) for {'C': 11, 'gamma': 1.5}\n",
            "0.9545 (+/-0.0355) for {'C': 11, 'gamma': 2}\n",
            "0.9645 (+/-0.0374) for {'C': 12, 'gamma': 0.5}\n",
            "0.9633 (+/-0.0349) for {'C': 12, 'gamma': 1}\n",
            "0.9588 (+/-0.0354) for {'C': 12, 'gamma': 1.5}\n",
            "0.9545 (+/-0.0355) for {'C': 12, 'gamma': 2}\n"
          ],
          "name": "stdout"
        }
      ]
    },
    {
      "cell_type": "markdown",
      "metadata": {
        "id": "RLvAkpPenRSg",
        "colab_type": "text"
      },
      "source": [
        "Now the highest score comes from C=8 and gamma=0.5. Now I can search around these values."
      ]
    },
    {
      "cell_type": "code",
      "metadata": {
        "id": "E1_IM410kzjd",
        "colab_type": "code",
        "outputId": "bcebfa4c-1311-4a63-8f9f-ae92aaf2460f",
        "colab": {
          "base_uri": "https://localhost:8080/",
          "height": 1000
        }
      },
      "source": [
        "C_value = range(2,9)\n",
        "gamma_value = [i/10 for i in range(1,10)]             \n",
        "params = dict(C=C_value, gamma=gamma_value)\n",
        "grid_search = GridSearchCV(model, param_grid=params, scoring='roc_auc',cv=20)\n",
        "\n",
        "grid_search.fit(X_train_stand, y_train)\n",
        "\n",
        "means = grid_search.cv_results_['mean_test_score']\n",
        "stds = grid_search.cv_results_['std_test_score']\n",
        "\n",
        "for mean_score, std, params in zip(means, stds, grid_search.cv_results_['params']):\n",
        "    print(\"{:.4f} (+/-{:.4f}) for {}\".format(mean_score, std * 2, params))"
      ],
      "execution_count": 0,
      "outputs": [
        {
          "output_type": "stream",
          "text": [
            "0.9358 (+/-0.0602) for {'C': 2, 'gamma': 0.1}\n",
            "0.9542 (+/-0.0543) for {'C': 2, 'gamma': 0.2}\n",
            "0.9602 (+/-0.0513) for {'C': 2, 'gamma': 0.3}\n",
            "0.9638 (+/-0.0472) for {'C': 2, 'gamma': 0.4}\n",
            "0.9649 (+/-0.0443) for {'C': 2, 'gamma': 0.5}\n",
            "0.9660 (+/-0.0413) for {'C': 2, 'gamma': 0.6}\n",
            "0.9661 (+/-0.0392) for {'C': 2, 'gamma': 0.7}\n",
            "0.9656 (+/-0.0384) for {'C': 2, 'gamma': 0.8}\n",
            "0.9653 (+/-0.0362) for {'C': 2, 'gamma': 0.9}\n",
            "0.9428 (+/-0.0588) for {'C': 3, 'gamma': 0.1}\n",
            "0.9574 (+/-0.0520) for {'C': 3, 'gamma': 0.2}\n",
            "0.9632 (+/-0.0478) for {'C': 3, 'gamma': 0.3}\n",
            "0.9662 (+/-0.0434) for {'C': 3, 'gamma': 0.4}\n",
            "0.9680 (+/-0.0394) for {'C': 3, 'gamma': 0.5}\n",
            "0.9681 (+/-0.0386) for {'C': 3, 'gamma': 0.6}\n",
            "0.9667 (+/-0.0380) for {'C': 3, 'gamma': 0.7}\n",
            "0.9654 (+/-0.0356) for {'C': 3, 'gamma': 0.8}\n",
            "0.9641 (+/-0.0345) for {'C': 3, 'gamma': 0.9}\n",
            "0.9462 (+/-0.0563) for {'C': 4, 'gamma': 0.1}\n",
            "0.9595 (+/-0.0499) for {'C': 4, 'gamma': 0.2}\n",
            "0.9654 (+/-0.0453) for {'C': 4, 'gamma': 0.3}\n",
            "0.9679 (+/-0.0395) for {'C': 4, 'gamma': 0.4}\n",
            "0.9688 (+/-0.0384) for {'C': 4, 'gamma': 0.5}\n",
            "0.9673 (+/-0.0375) for {'C': 4, 'gamma': 0.6}\n",
            "0.9655 (+/-0.0366) for {'C': 4, 'gamma': 0.7}\n",
            "0.9644 (+/-0.0349) for {'C': 4, 'gamma': 0.8}\n",
            "0.9634 (+/-0.0340) for {'C': 4, 'gamma': 0.9}\n",
            "0.9494 (+/-0.0539) for {'C': 5, 'gamma': 0.1}\n",
            "0.9610 (+/-0.0479) for {'C': 5, 'gamma': 0.2}\n",
            "0.9661 (+/-0.0429) for {'C': 5, 'gamma': 0.3}\n",
            "0.9686 (+/-0.0385) for {'C': 5, 'gamma': 0.4}\n",
            "0.9682 (+/-0.0382) for {'C': 5, 'gamma': 0.5}\n",
            "0.9667 (+/-0.0369) for {'C': 5, 'gamma': 0.6}\n",
            "0.9646 (+/-0.0363) for {'C': 5, 'gamma': 0.7}\n",
            "0.9637 (+/-0.0340) for {'C': 5, 'gamma': 0.8}\n",
            "0.9637 (+/-0.0336) for {'C': 5, 'gamma': 0.9}\n",
            "0.9519 (+/-0.0512) for {'C': 6, 'gamma': 0.1}\n",
            "0.9621 (+/-0.0463) for {'C': 6, 'gamma': 0.2}\n",
            "0.9665 (+/-0.0406) for {'C': 6, 'gamma': 0.3}\n",
            "0.9694 (+/-0.0375) for {'C': 6, 'gamma': 0.4}\n",
            "0.9681 (+/-0.0374) for {'C': 6, 'gamma': 0.5}\n",
            "0.9655 (+/-0.0372) for {'C': 6, 'gamma': 0.6}\n",
            "0.9643 (+/-0.0353) for {'C': 6, 'gamma': 0.7}\n",
            "0.9638 (+/-0.0347) for {'C': 6, 'gamma': 0.8}\n",
            "0.9638 (+/-0.0339) for {'C': 6, 'gamma': 0.9}\n",
            "0.9537 (+/-0.0500) for {'C': 7, 'gamma': 0.1}\n",
            "0.9637 (+/-0.0449) for {'C': 7, 'gamma': 0.2}\n",
            "0.9668 (+/-0.0391) for {'C': 7, 'gamma': 0.3}\n",
            "0.9690 (+/-0.0372) for {'C': 7, 'gamma': 0.4}\n",
            "0.9669 (+/-0.0375) for {'C': 7, 'gamma': 0.5}\n",
            "0.9650 (+/-0.0369) for {'C': 7, 'gamma': 0.6}\n",
            "0.9643 (+/-0.0358) for {'C': 7, 'gamma': 0.7}\n",
            "0.9639 (+/-0.0352) for {'C': 7, 'gamma': 0.8}\n",
            "0.9637 (+/-0.0345) for {'C': 7, 'gamma': 0.9}\n",
            "0.9545 (+/-0.0493) for {'C': 8, 'gamma': 0.1}\n",
            "0.9645 (+/-0.0441) for {'C': 8, 'gamma': 0.2}\n",
            "0.9670 (+/-0.0387) for {'C': 8, 'gamma': 0.3}\n",
            "0.9682 (+/-0.0375) for {'C': 8, 'gamma': 0.4}\n",
            "0.9663 (+/-0.0377) for {'C': 8, 'gamma': 0.5}\n",
            "0.9641 (+/-0.0365) for {'C': 8, 'gamma': 0.6}\n",
            "0.9644 (+/-0.0355) for {'C': 8, 'gamma': 0.7}\n",
            "0.9637 (+/-0.0352) for {'C': 8, 'gamma': 0.8}\n",
            "0.9639 (+/-0.0350) for {'C': 8, 'gamma': 0.9}\n"
          ],
          "name": "stdout"
        }
      ]
    },
    {
      "cell_type": "markdown",
      "metadata": {
        "id": "Nw-9g0IIoOHw",
        "colab_type": "text"
      },
      "source": [
        "The ultimate best value achieved from our gridsearch is: C=6, gamma=0.4. Now I can score the auc again with cross validation on our trainset."
      ]
    },
    {
      "cell_type": "code",
      "metadata": {
        "id": "3ebEBykafgjJ",
        "colab_type": "code",
        "outputId": "7b3fbab0-705d-4d76-f9fd-647933dbc590",
        "colab": {
          "base_uri": "https://localhost:8080/",
          "height": 34
        }
      },
      "source": [
        "model_optimized = SVC(C=6, gamma=0.4, probability=True)\n",
        "\n",
        "score_auc = cross_val_score(model_optimized, X_train_stand, y_train, scoring='roc_auc', cv=10).mean()\n",
        "\n",
        "print(score_auc)"
      ],
      "execution_count": 47,
      "outputs": [
        {
          "output_type": "stream",
          "text": [
            "0.9689944072237651\n"
          ],
          "name": "stdout"
        }
      ]
    },
    {
      "cell_type": "markdown",
      "metadata": {
        "id": "yh1DHiDrojCX",
        "colab_type": "text"
      },
      "source": [
        "This is a way better score than the not optimized model. And we can now do predictions with this optimized model on our testset after fitting it on our trainset."
      ]
    },
    {
      "cell_type": "code",
      "metadata": {
        "id": "mf97ZaicpORJ",
        "colab_type": "code",
        "outputId": "f5748f89-0f9f-4dee-e109-fa3b30bc6cd9",
        "colab": {
          "base_uri": "https://localhost:8080/",
          "height": 136
        }
      },
      "source": [
        "model_optimized.fit(X_train_stand, y_train)\n",
        "\n",
        "predictionsSVC = model_optimized.predict_proba(X_test_stand)\n",
        "\n",
        "predictionsSVC"
      ],
      "execution_count": 48,
      "outputs": [
        {
          "output_type": "execute_result",
          "data": {
            "text/plain": [
              "array([[9.99971748e-01, 2.82515169e-05],\n",
              "       [4.67540501e-01, 5.32459499e-01],\n",
              "       [9.97684574e-01, 2.31542585e-03],\n",
              "       ...,\n",
              "       [1.54912952e-05, 9.99984509e-01],\n",
              "       [7.29403823e-02, 9.27059618e-01],\n",
              "       [9.75303913e-01, 2.46960868e-02]])"
            ]
          },
          "metadata": {
            "tags": []
          },
          "execution_count": 48
        }
      ]
    },
    {
      "cell_type": "markdown",
      "metadata": {
        "id": "Q3RaaAmwrKSb",
        "colab_type": "text"
      },
      "source": [
        "Now I put the probabilities of our test values having label 1 (second column) into a suitable dataframe with 2 columns."
      ]
    },
    {
      "cell_type": "code",
      "metadata": {
        "id": "Dz0FGxj1reUX",
        "colab_type": "code",
        "outputId": "8c6fe6b0-d253-408d-ba42-f20358728b28",
        "colab": {
          "base_uri": "https://localhost:8080/",
          "height": 419
        }
      },
      "source": [
        "resultsSVC = pd.DataFrame()\n",
        "resultsSVC['index'] = testset['index']\n",
        "resultsSVC['label'] = predictionsSVC[:,1]\n",
        "resultsSVC"
      ],
      "execution_count": 49,
      "outputs": [
        {
          "output_type": "execute_result",
          "data": {
            "text/html": [
              "<div>\n",
              "<style scoped>\n",
              "    .dataframe tbody tr th:only-of-type {\n",
              "        vertical-align: middle;\n",
              "    }\n",
              "\n",
              "    .dataframe tbody tr th {\n",
              "        vertical-align: top;\n",
              "    }\n",
              "\n",
              "    .dataframe thead th {\n",
              "        text-align: right;\n",
              "    }\n",
              "</style>\n",
              "<table border=\"1\" class=\"dataframe\">\n",
              "  <thead>\n",
              "    <tr style=\"text-align: right;\">\n",
              "      <th></th>\n",
              "      <th>index</th>\n",
              "      <th>label</th>\n",
              "    </tr>\n",
              "  </thead>\n",
              "  <tbody>\n",
              "    <tr>\n",
              "      <th>0</th>\n",
              "      <td>0</td>\n",
              "      <td>0.000028</td>\n",
              "    </tr>\n",
              "    <tr>\n",
              "      <th>1</th>\n",
              "      <td>1</td>\n",
              "      <td>0.532459</td>\n",
              "    </tr>\n",
              "    <tr>\n",
              "      <th>2</th>\n",
              "      <td>2</td>\n",
              "      <td>0.002315</td>\n",
              "    </tr>\n",
              "    <tr>\n",
              "      <th>3</th>\n",
              "      <td>3</td>\n",
              "      <td>0.999999</td>\n",
              "    </tr>\n",
              "    <tr>\n",
              "      <th>4</th>\n",
              "      <td>4</td>\n",
              "      <td>0.999995</td>\n",
              "    </tr>\n",
              "    <tr>\n",
              "      <th>...</th>\n",
              "      <td>...</td>\n",
              "      <td>...</td>\n",
              "    </tr>\n",
              "    <tr>\n",
              "      <th>12887</th>\n",
              "      <td>12887</td>\n",
              "      <td>0.087760</td>\n",
              "    </tr>\n",
              "    <tr>\n",
              "      <th>12888</th>\n",
              "      <td>12888</td>\n",
              "      <td>0.996940</td>\n",
              "    </tr>\n",
              "    <tr>\n",
              "      <th>12889</th>\n",
              "      <td>12889</td>\n",
              "      <td>0.999985</td>\n",
              "    </tr>\n",
              "    <tr>\n",
              "      <th>12890</th>\n",
              "      <td>12890</td>\n",
              "      <td>0.927060</td>\n",
              "    </tr>\n",
              "    <tr>\n",
              "      <th>12891</th>\n",
              "      <td>12891</td>\n",
              "      <td>0.024696</td>\n",
              "    </tr>\n",
              "  </tbody>\n",
              "</table>\n",
              "<p>12892 rows × 2 columns</p>\n",
              "</div>"
            ],
            "text/plain": [
              "       index     label\n",
              "0          0  0.000028\n",
              "1          1  0.532459\n",
              "2          2  0.002315\n",
              "3          3  0.999999\n",
              "4          4  0.999995\n",
              "...      ...       ...\n",
              "12887  12887  0.087760\n",
              "12888  12888  0.996940\n",
              "12889  12889  0.999985\n",
              "12890  12890  0.927060\n",
              "12891  12891  0.024696\n",
              "\n",
              "[12892 rows x 2 columns]"
            ]
          },
          "metadata": {
            "tags": []
          },
          "execution_count": 49
        }
      ]
    },
    {
      "cell_type": "markdown",
      "metadata": {
        "id": "DdgCXIEhs5w9",
        "colab_type": "text"
      },
      "source": [
        "For the final part, the predictions can be exported as a csv file."
      ]
    },
    {
      "cell_type": "code",
      "metadata": {
        "id": "d_OGBEHVuqOk",
        "colab_type": "code",
        "colab": {}
      },
      "source": [
        "filename = \"my_prediction_SVC.csv\"\n",
        "\n",
        "#make sure to not write the Pandas index column (index=False)\n",
        "resultsSVC.to_csv(filename,index=False)"
      ],
      "execution_count": 0,
      "outputs": []
    },
    {
      "cell_type": "markdown",
      "metadata": {
        "id": "_yavq5QSo7GR",
        "colab_type": "text"
      },
      "source": [
        "# **Model 2 = best score on Kaggle**"
      ]
    },
    {
      "cell_type": "markdown",
      "metadata": {
        "id": "58LkWYnDvmx7",
        "colab_type": "text"
      },
      "source": [
        "Stacking of different models."
      ]
    },
    {
      "cell_type": "markdown",
      "metadata": {
        "colab_type": "text",
        "id": "8pVOX2JSve-N"
      },
      "source": [
        "Get the datasets (train and test dataset)"
      ]
    },
    {
      "cell_type": "code",
      "metadata": {
        "colab_type": "code",
        "id": "TJi0ApsAve-U",
        "colab": {}
      },
      "source": [
        "trainset = pd.read_csv(\"https://raw.githubusercontent.com/sdgroeve/Machine_Learning_course_UGent_D012554_kaggle/master/eeg_train.csv\")\n",
        "testset = pd.read_csv(\"https://raw.githubusercontent.com/sdgroeve/Machine_Learning_course_UGent_D012554_kaggle/master/eeg_test.csv\")"
      ],
      "execution_count": 0,
      "outputs": []
    },
    {
      "cell_type": "code",
      "metadata": {
        "colab_type": "code",
        "outputId": "7467a6cb-1758-4192-8f6d-8137d8277572",
        "id": "fz7M6yuZve-i",
        "colab": {
          "base_uri": "https://localhost:8080/",
          "height": 289
        }
      },
      "source": [
        "print(trainset.head())\n",
        "print(testset.head())"
      ],
      "execution_count": 0,
      "outputs": [
        {
          "output_type": "stream",
          "text": [
            "       AF3       F7       F3      FC5  ...       F4       F8      AF4  label\n",
            "0  4299.49  3997.44  4277.95  4116.92  ...  4278.97  4600.00  4369.23      1\n",
            "1  4302.05  3985.64  4261.03  4129.74  ...  4283.08  4607.18  4358.46      0\n",
            "2  4321.03  4015.90  4265.13  4122.56  ...  4286.15  4608.21  4371.79      0\n",
            "3  4408.21  4104.10  4380.00  4232.31  ...  4388.21  4715.90  4464.10      0\n",
            "4  4347.18  3975.38  4266.67  4102.56  ...  4313.33  4664.10  4411.79      1\n",
            "\n",
            "[5 rows x 15 columns]\n",
            "       AF3       F7       F3      FC5  ...       F4       F8      AF4  index\n",
            "0  4296.41  4040.51  4253.33  4124.10  ...  4268.72  4598.46  4342.56      0\n",
            "1  4291.28  3994.36  4247.18  4102.56  ...  4260.51  4593.33  4337.95      1\n",
            "2  4299.49  4019.49  4269.74  4116.41  ...  4280.51  4596.92  4350.26      2\n",
            "3  4280.00  4004.62  4263.59  4120.51  ...  4271.79  4608.72  4344.10      3\n",
            "4  4317.44  3968.72  4260.51  4101.54  ...  4282.05  4592.31  4372.82      4\n",
            "\n",
            "[5 rows x 15 columns]\n"
          ],
          "name": "stdout"
        }
      ]
    },
    {
      "cell_type": "markdown",
      "metadata": {
        "colab_type": "text",
        "id": "aF0vwlVSve-q"
      },
      "source": [
        "Divide trainset and testset into the features only (remove label from trainset and index from testset)."
      ]
    },
    {
      "cell_type": "code",
      "metadata": {
        "colab_type": "code",
        "id": "YEgDI_2Yve-s",
        "colab": {}
      },
      "source": [
        "y_train = trainset.pop('label')\n",
        "X_train = trainset\n",
        "X_test = testset.iloc[:,:14]"
      ],
      "execution_count": 0,
      "outputs": []
    },
    {
      "cell_type": "markdown",
      "metadata": {
        "colab_type": "text",
        "id": "kpws3AGrve-y"
      },
      "source": [
        "Scale the train and testset. Fit and transform the trainset and then transform the testset."
      ]
    },
    {
      "cell_type": "code",
      "metadata": {
        "colab_type": "code",
        "id": "BOxxMWAWve-z",
        "colab": {}
      },
      "source": [
        "from sklearn.preprocessing import StandardScaler\n",
        "\n",
        "scaler = StandardScaler()\n",
        "X_train_stand = pd.DataFrame(scaler.fit_transform(X_train),columns=X_train.columns.values)\n",
        "X_test_stand = pd.DataFrame(scaler.transform(X_test),columns=X_test.columns.values)"
      ],
      "execution_count": 0,
      "outputs": []
    },
    {
      "cell_type": "markdown",
      "metadata": {
        "id": "d6Dq0sx_wKMW",
        "colab_type": "text"
      },
      "source": [
        "In short, stacking using StackingClassifier is done by training multiple different models on the trainset. The trainset is divided into k folds and each model is trained on k-1 folds and predicts the other fold. Each model makes prediction on another fold, so that in the end each fold is predicted. Next, a meta model learns from these predictions and makes a final prediction."
      ]
    },
    {
      "cell_type": "markdown",
      "metadata": {
        "id": "1UYFGquoxZoE",
        "colab_type": "text"
      },
      "source": [
        "**First model used: SVC**"
      ]
    },
    {
      "cell_type": "markdown",
      "metadata": {
        "id": "15HkD2gZyOtL",
        "colab_type": "text"
      },
      "source": [
        "For this model, I refer to the above model used, where I optimized the model already on the trainset."
      ]
    },
    {
      "cell_type": "code",
      "metadata": {
        "id": "942VU2fPv47f",
        "colab_type": "code",
        "colab": {}
      },
      "source": [
        "from sklearn.svm import SVC\n",
        "\n",
        "modelSVC_optimized = SVC(C=5, gamma=0.4, probability=True)"
      ],
      "execution_count": 0,
      "outputs": []
    },
    {
      "cell_type": "markdown",
      "metadata": {
        "id": "E7-vlRLLyroJ",
        "colab_type": "text"
      },
      "source": [
        "**Second model used: XGBClassifier**"
      ]
    },
    {
      "cell_type": "markdown",
      "metadata": {
        "id": "QnIvE65AzTW2",
        "colab_type": "text"
      },
      "source": [
        "Again, I define my bare xgboostclassifier model. This is a gradient boosting model, so it boosts weak learners into strong learners. One parameter is set now: “binary:logistic”, as this is logistic regression for binary classification and outputs probability."
      ]
    },
    {
      "cell_type": "code",
      "metadata": {
        "id": "3IMYeeQCyXGp",
        "colab_type": "code",
        "colab": {}
      },
      "source": [
        "import xgboost as xgb\n",
        "\n",
        "xgbc = xgb.XGBClassifier(objective ='binary:logistic')"
      ],
      "execution_count": 0,
      "outputs": []
    },
    {
      "cell_type": "markdown",
      "metadata": {
        "colab_type": "text",
        "id": "e4LWYuXX0-cS"
      },
      "source": [
        "Now I fit this not optimized model on the trainset to get a broad overview of the model performance on the trainset."
      ]
    },
    {
      "cell_type": "code",
      "metadata": {
        "colab_type": "code",
        "outputId": "b31625c3-0a3c-4d39-f2e7-97aa197e068f",
        "id": "S_eflp-30-cW",
        "colab": {
          "base_uri": "https://localhost:8080/",
          "height": 136
        }
      },
      "source": [
        "xgbc.fit(X_train_stand, y_train)"
      ],
      "execution_count": 0,
      "outputs": [
        {
          "output_type": "execute_result",
          "data": {
            "text/plain": [
              "XGBClassifier(base_score=0.5, booster='gbtree', colsample_bylevel=1,\n",
              "              colsample_bynode=1, colsample_bytree=1, gamma=0,\n",
              "              learning_rate=0.1, max_delta_step=0, max_depth=3,\n",
              "              min_child_weight=1, missing=None, n_estimators=100, n_jobs=1,\n",
              "              nthread=None, objective='binary:logistic', random_state=0,\n",
              "              reg_alpha=0, reg_lambda=1, scale_pos_weight=1, seed=None,\n",
              "              silent=None, subsample=1, verbosity=1)"
            ]
          },
          "metadata": {
            "tags": []
          },
          "execution_count": 17
        }
      ]
    },
    {
      "cell_type": "markdown",
      "metadata": {
        "colab_type": "text",
        "id": "UpSjlgFo0-ci"
      },
      "source": [
        "Calculate and print the auc score. For this I use a 10 fold cross validation to split the trainset, train on part of the trainset and predict the part of the trainset that the model was not trained on. As this is 10 fold cross validation, I get 10 values of the auc score and then take the mean of these. This gives a first indication of how well the model performs with regard to the auc score."
      ]
    },
    {
      "cell_type": "code",
      "metadata": {
        "colab_type": "code",
        "outputId": "c54aafa3-473a-4ee1-a8c6-702168310cb6",
        "id": "kILf-jXr0-ck",
        "colab": {
          "base_uri": "https://localhost:8080/",
          "height": 34
        }
      },
      "source": [
        "from sklearn.model_selection import cross_val_score\n",
        "\n",
        "score_auc = cross_val_score(xgbc, X_train_stand, y_train, scoring='roc_auc', cv=10).mean()\n",
        "\n",
        "print(score_auc)"
      ],
      "execution_count": 0,
      "outputs": [
        {
          "output_type": "stream",
          "text": [
            "0.8778484639723171\n"
          ],
          "name": "stdout"
        }
      ]
    },
    {
      "cell_type": "markdown",
      "metadata": {
        "id": "-FwN2K3b3Qyg",
        "colab_type": "text"
      },
      "source": [
        "This model uses a lot of parameters, so I can tune them. To tune them all in one go will be very time consuming so I used some standard values I found online and tuned some parameter in smaller groups. I first start with: max_depth and min_child_weight. (n_estimators is set to 500 to save time, in the final model, I will set this to 5000)."
      ]
    },
    {
      "cell_type": "code",
      "metadata": {
        "id": "9g3SOVdK1gGU",
        "colab_type": "code",
        "outputId": "0c9783df-1631-4633-c5af-87b121b68145",
        "colab": {
          "base_uri": "https://localhost:8080/",
          "height": 221
        }
      },
      "source": [
        "from sklearn.model_selection import GridSearchCV\n",
        "\n",
        "xgbc = xgb.XGBClassifier(objective ='binary:logistic', learning_rate=0.1, n_estimators = 500, max_depth = 5, min_child_weight=1, gamma=0, subsample=0.8, colsample_bytree = 0.8, nthread=4, scale_pos_weight=1, seed=27)\n",
        "\n",
        "depth = range(3,10,2)\n",
        "min_child = range(1,6,2)\n",
        "\n",
        "params = dict(max_depth=depth, min_child_weight=min_child)\n",
        "grid_search = GridSearchCV(xgbc, param_grid=params, scoring='roc_auc')\n",
        "\n",
        "grid_search.fit(X_train_stand, y_train)\n",
        "\n",
        "means = grid_search.cv_results_['mean_test_score']\n",
        "stds = grid_search.cv_results_['std_test_score']\n",
        "\n",
        "for mean_score, std, params in zip(means, stds, grid_search.cv_results_['params']):\n",
        "    print(\"{:.4f} (+/-{:.4f}) for {}\".format(mean_score, std * 2, params))"
      ],
      "execution_count": 0,
      "outputs": [
        {
          "output_type": "stream",
          "text": [
            "0.9153 (+/-0.0341) for {'max_depth': 3, 'min_child_weight': 1}\n",
            "0.9085 (+/-0.0389) for {'max_depth': 3, 'min_child_weight': 3}\n",
            "0.9057 (+/-0.0328) for {'max_depth': 3, 'min_child_weight': 5}\n",
            "0.9308 (+/-0.0348) for {'max_depth': 5, 'min_child_weight': 1}\n",
            "0.9207 (+/-0.0350) for {'max_depth': 5, 'min_child_weight': 3}\n",
            "0.9190 (+/-0.0327) for {'max_depth': 5, 'min_child_weight': 5}\n",
            "0.9310 (+/-0.0319) for {'max_depth': 7, 'min_child_weight': 1}\n",
            "0.9230 (+/-0.0354) for {'max_depth': 7, 'min_child_weight': 3}\n",
            "0.9194 (+/-0.0263) for {'max_depth': 7, 'min_child_weight': 5}\n",
            "0.9327 (+/-0.0320) for {'max_depth': 9, 'min_child_weight': 1}\n",
            "0.9265 (+/-0.0289) for {'max_depth': 9, 'min_child_weight': 3}\n",
            "0.9179 (+/-0.0340) for {'max_depth': 9, 'min_child_weight': 5}\n"
          ],
          "name": "stdout"
        }
      ]
    },
    {
      "cell_type": "markdown",
      "metadata": {
        "id": "abtwHsCG-Zhp",
        "colab_type": "text"
      },
      "source": [
        "Best auc score is achieved with: max_depth=9, min_child_weight=1. I can now finetune these parameters."
      ]
    },
    {
      "cell_type": "code",
      "metadata": {
        "id": "2IxI4KJl6YlT",
        "colab_type": "code",
        "outputId": "8bd66d41-fb25-4055-a20b-cd2d676cf502",
        "colab": {
          "base_uri": "https://localhost:8080/",
          "height": 119
        }
      },
      "source": [
        "depth = [8,9,10]\n",
        "min_child = [1,2]\n",
        "\n",
        "params = dict(max_depth=depth, min_child_weight=min_child)\n",
        "grid_search = GridSearchCV(xgbc, param_grid=params, scoring='roc_auc')\n",
        "\n",
        "grid_search.fit(X_train_stand, y_train)\n",
        "\n",
        "means = grid_search.cv_results_['mean_test_score']\n",
        "stds = grid_search.cv_results_['std_test_score']\n",
        "\n",
        "for mean_score, std, params in zip(means, stds, grid_search.cv_results_['params']):\n",
        "    print(\"{:.4f} (+/-{:.4f}) for {}\".format(mean_score, std * 2, params))"
      ],
      "execution_count": 0,
      "outputs": [
        {
          "output_type": "stream",
          "text": [
            "0.9290 (+/-0.0349) for {'max_depth': 8, 'min_child_weight': 1}\n",
            "0.9270 (+/-0.0277) for {'max_depth': 8, 'min_child_weight': 2}\n",
            "0.9294 (+/-0.0288) for {'max_depth': 9, 'min_child_weight': 1}\n",
            "0.9270 (+/-0.0310) for {'max_depth': 9, 'min_child_weight': 2}\n",
            "0.9295 (+/-0.0272) for {'max_depth': 10, 'min_child_weight': 1}\n",
            "0.9281 (+/-0.0301) for {'max_depth': 10, 'min_child_weight': 2}\n"
          ],
          "name": "stdout"
        }
      ]
    },
    {
      "cell_type": "markdown",
      "metadata": {
        "id": "y79YDwLw-91E",
        "colab_type": "text"
      },
      "source": [
        "Best values for max_depth=10, for min_child_weight=1. I will now tune gamma."
      ]
    },
    {
      "cell_type": "code",
      "metadata": {
        "id": "cmJUaFM1-CgM",
        "colab_type": "code",
        "outputId": "3b7fcb5d-6e55-4d26-eed5-3097431818e4",
        "colab": {
          "base_uri": "https://localhost:8080/",
          "height": 119
        }
      },
      "source": [
        "xgbc = xgb.XGBClassifier(objective ='binary:logistic', learning_rate=0.1, n_estimators = 500, max_depth = 10, min_child_weight=1, gamma=0, subsample=0.8, colsample_bytree = 0.8, nthread=4, scale_pos_weight=1, seed=27)\n",
        "\n",
        "gam=[0.0,0.1,0.2,0.3,0.4,0.5]\n",
        "\n",
        "params = dict(gamma=gam)\n",
        "grid_search = GridSearchCV(xgbc, param_grid=params, scoring='roc_auc')\n",
        "\n",
        "grid_search.fit(X_train_stand, y_train)\n",
        "\n",
        "means = grid_search.cv_results_['mean_test_score']\n",
        "stds = grid_search.cv_results_['std_test_score']\n",
        "\n",
        "for mean_score, std, params in zip(means, stds, grid_search.cv_results_['params']):\n",
        "    print(\"{:.4f} (+/-{:.4f}) for {}\".format(mean_score, std * 2, params))"
      ],
      "execution_count": 0,
      "outputs": [
        {
          "output_type": "stream",
          "text": [
            "0.9327 (+/-0.0377) for {'gamma': 0.0}\n",
            "0.9295 (+/-0.0342) for {'gamma': 0.1}\n",
            "0.9306 (+/-0.0355) for {'gamma': 0.2}\n",
            "0.9293 (+/-0.0334) for {'gamma': 0.3}\n",
            "0.9302 (+/-0.0363) for {'gamma': 0.4}\n",
            "0.9291 (+/-0.0352) for {'gamma': 0.5}\n"
          ],
          "name": "stdout"
        }
      ]
    },
    {
      "cell_type": "markdown",
      "metadata": {
        "id": "bEc7tQcCAJEd",
        "colab_type": "text"
      },
      "source": [
        "Best auc for gamma=0. Now I will tune subsample and colsample_bytree."
      ]
    },
    {
      "cell_type": "code",
      "metadata": {
        "id": "jZGnh-Ur_l2U",
        "colab_type": "code",
        "outputId": "a09c81cc-5ee8-4c0b-aff4-29567c105f92",
        "colab": {
          "base_uri": "https://localhost:8080/",
          "height": 442
        }
      },
      "source": [
        "subs=[i/10 for i in range(6,11)]\n",
        "bytree=[i/10 for i in range(6,11)]\n",
        "\n",
        "params = dict(subsample=subs, colsample_bytree=bytree)\n",
        "grid_search = GridSearchCV(xgbc, param_grid=params, scoring='roc_auc')\n",
        "\n",
        "grid_search.fit(X_train_stand, y_train)\n",
        "\n",
        "means = grid_search.cv_results_['mean_test_score']\n",
        "stds = grid_search.cv_results_['std_test_score']\n",
        "\n",
        "for mean_score, std, params in zip(means, stds, grid_search.cv_results_['params']):\n",
        "    print(\"{:.4f} (+/-{:.4f}) for {}\".format(mean_score, std * 2, params))"
      ],
      "execution_count": 0,
      "outputs": [
        {
          "output_type": "stream",
          "text": [
            "0.9275 (+/-0.0318) for {'colsample_bytree': 0.6, 'subsample': 0.6}\n",
            "0.9282 (+/-0.0281) for {'colsample_bytree': 0.6, 'subsample': 0.7}\n",
            "0.9314 (+/-0.0274) for {'colsample_bytree': 0.6, 'subsample': 0.8}\n",
            "0.9312 (+/-0.0293) for {'colsample_bytree': 0.6, 'subsample': 0.9}\n",
            "0.9290 (+/-0.0328) for {'colsample_bytree': 0.6, 'subsample': 1.0}\n",
            "0.9272 (+/-0.0308) for {'colsample_bytree': 0.7, 'subsample': 0.6}\n",
            "0.9305 (+/-0.0321) for {'colsample_bytree': 0.7, 'subsample': 0.7}\n",
            "0.9297 (+/-0.0334) for {'colsample_bytree': 0.7, 'subsample': 0.8}\n",
            "0.9298 (+/-0.0368) for {'colsample_bytree': 0.7, 'subsample': 0.9}\n",
            "0.9303 (+/-0.0335) for {'colsample_bytree': 0.7, 'subsample': 1.0}\n",
            "0.9304 (+/-0.0339) for {'colsample_bytree': 0.8, 'subsample': 0.6}\n",
            "0.9312 (+/-0.0310) for {'colsample_bytree': 0.8, 'subsample': 0.7}\n",
            "0.9327 (+/-0.0377) for {'colsample_bytree': 0.8, 'subsample': 0.8}\n",
            "0.9311 (+/-0.0321) for {'colsample_bytree': 0.8, 'subsample': 0.9}\n",
            "0.9294 (+/-0.0332) for {'colsample_bytree': 0.8, 'subsample': 1.0}\n",
            "0.9286 (+/-0.0325) for {'colsample_bytree': 0.9, 'subsample': 0.6}\n",
            "0.9318 (+/-0.0307) for {'colsample_bytree': 0.9, 'subsample': 0.7}\n",
            "0.9325 (+/-0.0328) for {'colsample_bytree': 0.9, 'subsample': 0.8}\n",
            "0.9304 (+/-0.0354) for {'colsample_bytree': 0.9, 'subsample': 0.9}\n",
            "0.9289 (+/-0.0329) for {'colsample_bytree': 0.9, 'subsample': 1.0}\n",
            "0.9301 (+/-0.0282) for {'colsample_bytree': 1.0, 'subsample': 0.6}\n",
            "0.9290 (+/-0.0376) for {'colsample_bytree': 1.0, 'subsample': 0.7}\n",
            "0.9330 (+/-0.0355) for {'colsample_bytree': 1.0, 'subsample': 0.8}\n",
            "0.9328 (+/-0.0315) for {'colsample_bytree': 1.0, 'subsample': 0.9}\n",
            "0.9291 (+/-0.0276) for {'colsample_bytree': 1.0, 'subsample': 1.0}\n"
          ],
          "name": "stdout"
        }
      ]
    },
    {
      "cell_type": "markdown",
      "metadata": {
        "id": "6BmhXgrXCJkn",
        "colab_type": "text"
      },
      "source": [
        "Best value for colsample_bytree=1.0 and for subsample=0.8. I will now fintune these even more."
      ]
    },
    {
      "cell_type": "code",
      "metadata": {
        "id": "PQQ_K8B2AsHG",
        "colab_type": "code",
        "outputId": "0eb4394e-eaba-46d5-da72-6c362ee321b1",
        "colab": {
          "base_uri": "https://localhost:8080/",
          "height": 170
        }
      },
      "source": [
        "subs=[i/100 for i in range(75,90,5)]\n",
        "bytree=[i/100 for i in range(90,105,5)]\n",
        "\n",
        "params = dict(subsample=subs, colsample_bytree=bytree)\n",
        "grid_search = GridSearchCV(xgbc, param_grid=params, scoring='roc_auc')\n",
        "\n",
        "grid_search.fit(X_train_stand, y_train)\n",
        "\n",
        "means = grid_search.cv_results_['mean_test_score']\n",
        "stds = grid_search.cv_results_['std_test_score']\n",
        "\n",
        "for mean_score, std, params in zip(means, stds, grid_search.cv_results_['params']):\n",
        "    print(\"{:.4f} (+/-{:.4f}) for {}\".format(mean_score, std * 2, params))"
      ],
      "execution_count": 0,
      "outputs": [
        {
          "output_type": "stream",
          "text": [
            "0.9341 (+/-0.0317) for {'colsample_bytree': 0.9, 'subsample': 0.75}\n",
            "0.9325 (+/-0.0328) for {'colsample_bytree': 0.9, 'subsample': 0.8}\n",
            "0.9337 (+/-0.0338) for {'colsample_bytree': 0.9, 'subsample': 0.85}\n",
            "0.9339 (+/-0.0328) for {'colsample_bytree': 0.95, 'subsample': 0.75}\n",
            "0.9323 (+/-0.0310) for {'colsample_bytree': 0.95, 'subsample': 0.8}\n",
            "0.9321 (+/-0.0327) for {'colsample_bytree': 0.95, 'subsample': 0.85}\n",
            "0.9331 (+/-0.0316) for {'colsample_bytree': 1.0, 'subsample': 0.75}\n",
            "0.9330 (+/-0.0355) for {'colsample_bytree': 1.0, 'subsample': 0.8}\n",
            "0.9330 (+/-0.0289) for {'colsample_bytree': 1.0, 'subsample': 0.85}\n"
          ],
          "name": "stdout"
        }
      ]
    },
    {
      "cell_type": "markdown",
      "metadata": {
        "id": "2utGJ-vlDFRx",
        "colab_type": "text"
      },
      "source": [
        "Best final value for colsample_bytree=0.9, subsample=0.75.\n",
        "I will now make a auc score of this model on the test set and change n_estimators to 5000 and lower the learning rate to 0.01."
      ]
    },
    {
      "cell_type": "code",
      "metadata": {
        "id": "GrgYYAQKCo4N",
        "colab_type": "code",
        "outputId": "0b710cb4-094a-4b1a-e4ff-dfcb430baf14",
        "colab": {
          "base_uri": "https://localhost:8080/",
          "height": 34
        }
      },
      "source": [
        "xgbc_optimized = xgb.XGBClassifier(objective ='binary:logistic', learning_rate=0.01, n_estimators = 5000, max_depth = 10, min_child_weight=1, gamma=0, subsample=0.75, colsample_bytree = 0.9, nthread=4, scale_pos_weight=1, seed=27)\n",
        "\n",
        "score_auc = cross_val_score(xgbc_optimized, X_train_stand, y_train, scoring='roc_auc', cv=10).mean()\n",
        "\n",
        "print(score_auc)"
      ],
      "execution_count": 0,
      "outputs": [
        {
          "output_type": "stream",
          "text": [
            "0.9410564837812544\n"
          ],
          "name": "stdout"
        }
      ]
    },
    {
      "cell_type": "markdown",
      "metadata": {
        "id": "9Wp_zJb8_n91",
        "colab_type": "text"
      },
      "source": [
        "**Third model used: Random forest classifier**"
      ]
    },
    {
      "cell_type": "markdown",
      "metadata": {
        "id": "loN5YfQ5ANVa",
        "colab_type": "text"
      },
      "source": [
        "Again, I first define the bare model and fit it on the train set."
      ]
    },
    {
      "cell_type": "code",
      "metadata": {
        "id": "uFN9c9CwDaQ0",
        "colab_type": "code",
        "outputId": "dd57b272-96ee-4bd2-dbf6-939a3423416a",
        "colab": {
          "base_uri": "https://localhost:8080/",
          "height": 153
        }
      },
      "source": [
        "from sklearn.ensemble import RandomForestClassifier\n",
        "\n",
        "rfc = RandomForestClassifier(n_estimators=500)"
      ],
      "execution_count": 0,
      "outputs": [
        {
          "output_type": "execute_result",
          "data": {
            "text/plain": [
              "RandomForestClassifier(bootstrap=True, ccp_alpha=0.0, class_weight=None,\n",
              "                       criterion='gini', max_depth=None, max_features='auto',\n",
              "                       max_leaf_nodes=None, max_samples=None,\n",
              "                       min_impurity_decrease=0.0, min_impurity_split=None,\n",
              "                       min_samples_leaf=1, min_samples_split=2,\n",
              "                       min_weight_fraction_leaf=0.0, n_estimators=500,\n",
              "                       n_jobs=None, oob_score=False, random_state=None,\n",
              "                       verbose=0, warm_start=False)"
            ]
          },
          "metadata": {
            "tags": []
          },
          "execution_count": 7
        }
      ]
    },
    {
      "cell_type": "code",
      "metadata": {
        "id": "-wLl_6jeHdam",
        "colab_type": "code",
        "outputId": "927bb9ab-e575-4305-b819-cca982d535f0",
        "colab": {
          "base_uri": "https://localhost:8080/",
          "height": 153
        }
      },
      "source": [
        "rfc.fit(X_train_stand, y_train)"
      ],
      "execution_count": 0,
      "outputs": [
        {
          "output_type": "execute_result",
          "data": {
            "text/plain": [
              "RandomForestClassifier(bootstrap=True, ccp_alpha=0.0, class_weight=None,\n",
              "                       criterion='gini', max_depth=None, max_features='auto',\n",
              "                       max_leaf_nodes=None, max_samples=None,\n",
              "                       min_impurity_decrease=0.0, min_impurity_split=None,\n",
              "                       min_samples_leaf=1, min_samples_split=2,\n",
              "                       min_weight_fraction_leaf=0.0, n_estimators=100,\n",
              "                       n_jobs=None, oob_score=False, random_state=None,\n",
              "                       verbose=0, warm_start=False)"
            ]
          },
          "metadata": {
            "tags": []
          },
          "execution_count": 27
        }
      ]
    },
    {
      "cell_type": "code",
      "metadata": {
        "id": "7a0KfyFEHie7",
        "colab_type": "code",
        "outputId": "1d03c94a-dd95-49de-cd13-5ad9466fd44a",
        "colab": {
          "base_uri": "https://localhost:8080/",
          "height": 34
        }
      },
      "source": [
        "score_auc = cross_val_score(rfc, X_train_stand, y_train, scoring='roc_auc', cv=10).mean()\n",
        "\n",
        "print(score_auc)"
      ],
      "execution_count": 0,
      "outputs": [
        {
          "output_type": "stream",
          "text": [
            "0.9269083062706918\n"
          ],
          "name": "stdout"
        }
      ]
    },
    {
      "cell_type": "markdown",
      "metadata": {
        "id": "nB5oaSoSAo0D",
        "colab_type": "text"
      },
      "source": [
        "Now tuning of the parameters. The n_estimators will be set to 5000 again in the final model."
      ]
    },
    {
      "cell_type": "code",
      "metadata": {
        "id": "6fRQzaAGAdnQ",
        "colab_type": "code",
        "outputId": "92443829-30e8-4851-ab34-5fd3fdca930d",
        "colab": {
          "base_uri": "https://localhost:8080/",
          "height": 629
        }
      },
      "source": [
        "rfc = RandomForestClassifier()\n",
        "\n",
        "estimators = [500]\n",
        "maxd = [10,20,30,50]\n",
        "minss = [2,5,10]\n",
        "minsl = [1,2,5]\n",
        "\n",
        "params = dict(n_estimators=estimators, max_depth=maxd, min_samples_split=minss, min_samples_leaf=minsl)\n",
        "grid_search = GridSearchCV(rfc, param_grid=params, scoring='roc_auc')\n",
        "\n",
        "grid_search.fit(X_train_stand, y_train)\n",
        "\n",
        "means = grid_search.cv_results_['mean_test_score']\n",
        "stds = grid_search.cv_results_['std_test_score']\n",
        "\n",
        "for mean_score, std, params in zip(means, stds, grid_search.cv_results_['params']):\n",
        "    print(\"{:.4f} (+/-{:.4f}) for {}\".format(mean_score, std * 2, params))"
      ],
      "execution_count": 0,
      "outputs": [
        {
          "output_type": "stream",
          "text": [
            "0.9070 (+/-0.0407) for {'max_depth': 10, 'min_samples_leaf': 1, 'min_samples_split': 2, 'n_estimators': 500}\n",
            "0.9026 (+/-0.0392) for {'max_depth': 10, 'min_samples_leaf': 1, 'min_samples_split': 5, 'n_estimators': 500}\n",
            "0.8978 (+/-0.0416) for {'max_depth': 10, 'min_samples_leaf': 1, 'min_samples_split': 10, 'n_estimators': 500}\n",
            "0.9040 (+/-0.0393) for {'max_depth': 10, 'min_samples_leaf': 2, 'min_samples_split': 2, 'n_estimators': 500}\n",
            "0.9001 (+/-0.0414) for {'max_depth': 10, 'min_samples_leaf': 2, 'min_samples_split': 5, 'n_estimators': 500}\n",
            "0.8963 (+/-0.0410) for {'max_depth': 10, 'min_samples_leaf': 2, 'min_samples_split': 10, 'n_estimators': 500}\n",
            "0.8914 (+/-0.0427) for {'max_depth': 10, 'min_samples_leaf': 5, 'min_samples_split': 2, 'n_estimators': 500}\n",
            "0.8899 (+/-0.0407) for {'max_depth': 10, 'min_samples_leaf': 5, 'min_samples_split': 5, 'n_estimators': 500}\n",
            "0.8911 (+/-0.0408) for {'max_depth': 10, 'min_samples_leaf': 5, 'min_samples_split': 10, 'n_estimators': 500}\n",
            "0.9244 (+/-0.0380) for {'max_depth': 20, 'min_samples_leaf': 1, 'min_samples_split': 2, 'n_estimators': 500}\n",
            "0.9214 (+/-0.0363) for {'max_depth': 20, 'min_samples_leaf': 1, 'min_samples_split': 5, 'n_estimators': 500}\n",
            "0.9132 (+/-0.0376) for {'max_depth': 20, 'min_samples_leaf': 1, 'min_samples_split': 10, 'n_estimators': 500}\n",
            "0.9192 (+/-0.0353) for {'max_depth': 20, 'min_samples_leaf': 2, 'min_samples_split': 2, 'n_estimators': 500}\n",
            "0.9182 (+/-0.0349) for {'max_depth': 20, 'min_samples_leaf': 2, 'min_samples_split': 5, 'n_estimators': 500}\n",
            "0.9089 (+/-0.0392) for {'max_depth': 20, 'min_samples_leaf': 2, 'min_samples_split': 10, 'n_estimators': 500}\n",
            "0.9018 (+/-0.0376) for {'max_depth': 20, 'min_samples_leaf': 5, 'min_samples_split': 2, 'n_estimators': 500}\n",
            "0.9019 (+/-0.0402) for {'max_depth': 20, 'min_samples_leaf': 5, 'min_samples_split': 5, 'n_estimators': 500}\n",
            "0.9022 (+/-0.0406) for {'max_depth': 20, 'min_samples_leaf': 5, 'min_samples_split': 10, 'n_estimators': 500}\n",
            "0.9255 (+/-0.0333) for {'max_depth': 30, 'min_samples_leaf': 1, 'min_samples_split': 2, 'n_estimators': 500}\n",
            "0.9188 (+/-0.0368) for {'max_depth': 30, 'min_samples_leaf': 1, 'min_samples_split': 5, 'n_estimators': 500}\n",
            "0.9132 (+/-0.0364) for {'max_depth': 30, 'min_samples_leaf': 1, 'min_samples_split': 10, 'n_estimators': 500}\n",
            "0.9185 (+/-0.0344) for {'max_depth': 30, 'min_samples_leaf': 2, 'min_samples_split': 2, 'n_estimators': 500}\n",
            "0.9170 (+/-0.0349) for {'max_depth': 30, 'min_samples_leaf': 2, 'min_samples_split': 5, 'n_estimators': 500}\n",
            "0.9097 (+/-0.0376) for {'max_depth': 30, 'min_samples_leaf': 2, 'min_samples_split': 10, 'n_estimators': 500}\n",
            "0.8998 (+/-0.0396) for {'max_depth': 30, 'min_samples_leaf': 5, 'min_samples_split': 2, 'n_estimators': 500}\n",
            "0.9014 (+/-0.0418) for {'max_depth': 30, 'min_samples_leaf': 5, 'min_samples_split': 5, 'n_estimators': 500}\n",
            "0.9011 (+/-0.0404) for {'max_depth': 30, 'min_samples_leaf': 5, 'min_samples_split': 10, 'n_estimators': 500}\n",
            "0.9251 (+/-0.0330) for {'max_depth': 50, 'min_samples_leaf': 1, 'min_samples_split': 2, 'n_estimators': 500}\n",
            "0.9212 (+/-0.0343) for {'max_depth': 50, 'min_samples_leaf': 1, 'min_samples_split': 5, 'n_estimators': 500}\n",
            "0.9136 (+/-0.0391) for {'max_depth': 50, 'min_samples_leaf': 1, 'min_samples_split': 10, 'n_estimators': 500}\n",
            "0.9199 (+/-0.0336) for {'max_depth': 50, 'min_samples_leaf': 2, 'min_samples_split': 2, 'n_estimators': 500}\n",
            "0.9167 (+/-0.0370) for {'max_depth': 50, 'min_samples_leaf': 2, 'min_samples_split': 5, 'n_estimators': 500}\n",
            "0.9098 (+/-0.0370) for {'max_depth': 50, 'min_samples_leaf': 2, 'min_samples_split': 10, 'n_estimators': 500}\n",
            "0.9030 (+/-0.0392) for {'max_depth': 50, 'min_samples_leaf': 5, 'min_samples_split': 2, 'n_estimators': 500}\n",
            "0.9017 (+/-0.0401) for {'max_depth': 50, 'min_samples_leaf': 5, 'min_samples_split': 5, 'n_estimators': 500}\n",
            "0.9029 (+/-0.0393) for {'max_depth': 50, 'min_samples_leaf': 5, 'min_samples_split': 10, 'n_estimators': 500}\n"
          ],
          "name": "stdout"
        }
      ]
    },
    {
      "cell_type": "markdown",
      "metadata": {
        "id": "BusJ7jHOC8Fr",
        "colab_type": "text"
      },
      "source": [
        "Best values: max_detph=30, min_samples_leaf=1, min_samples_split=1"
      ]
    },
    {
      "cell_type": "code",
      "metadata": {
        "id": "jCFuzaAWA-9x",
        "colab_type": "code",
        "outputId": "62d5bd5a-df73-40c3-f019-8d25d3fa7bc7",
        "colab": {
          "base_uri": "https://localhost:8080/",
          "height": 34
        }
      },
      "source": [
        "rfc_optimized = RandomForestClassifier(max_depth=30,min_samples_leaf=1, min_samples_split=2, n_estimators=5000)\n",
        "\n",
        "score_auc = cross_val_score(rfc_optimized, X_train_stand, y_train, scoring='roc_auc', cv=10).mean()\n",
        "\n",
        "print(score_auc)"
      ],
      "execution_count": 0,
      "outputs": [
        {
          "output_type": "stream",
          "text": [
            "0.9314516808370019\n"
          ],
          "name": "stdout"
        }
      ]
    },
    {
      "cell_type": "markdown",
      "metadata": {
        "id": "vzYiSQDxED-c",
        "colab_type": "text"
      },
      "source": [
        "**Fourth model used: AdaboostClassifier**"
      ]
    },
    {
      "cell_type": "markdown",
      "metadata": {
        "id": "zbGNfQ5wFMfv",
        "colab_type": "text"
      },
      "source": [
        "First bare model."
      ]
    },
    {
      "cell_type": "code",
      "metadata": {
        "colab_type": "code",
        "id": "63Ej_sb8Xe1f",
        "colab": {}
      },
      "source": [
        "from sklearn.ensemble import AdaBoostClassifier\n",
        "from sklearn.tree import DecisionTreeClassifier\n",
        "\n",
        "ada = AdaBoostClassifier(DecisionTreeClassifier(), algorithm=\"SAMME.R\",n_estimators=500)"
      ],
      "execution_count": 0,
      "outputs": []
    },
    {
      "cell_type": "code",
      "metadata": {
        "id": "rcYQxdmMJ7xW",
        "colab_type": "code",
        "outputId": "73277100-8dcb-4f01-ce69-cddd52c0736d",
        "colab": {
          "base_uri": "https://localhost:8080/",
          "height": 289
        }
      },
      "source": [
        "ada.fit(X_train_stand, y_train)"
      ],
      "execution_count": 0,
      "outputs": [
        {
          "output_type": "execute_result",
          "data": {
            "text/plain": [
              "AdaBoostClassifier(algorithm='SAMME.R',\n",
              "                   base_estimator=DecisionTreeClassifier(ccp_alpha=0.0,\n",
              "                                                         class_weight=None,\n",
              "                                                         criterion='gini',\n",
              "                                                         max_depth=None,\n",
              "                                                         max_features=None,\n",
              "                                                         max_leaf_nodes=None,\n",
              "                                                         min_impurity_decrease=0.0,\n",
              "                                                         min_impurity_split=None,\n",
              "                                                         min_samples_leaf=1,\n",
              "                                                         min_samples_split=2,\n",
              "                                                         min_weight_fraction_leaf=0.0,\n",
              "                                                         presort='deprecated',\n",
              "                                                         random_state=None,\n",
              "                                                         splitter='best'),\n",
              "                   learning_rate=1.0, n_estimators=500, random_state=None)"
            ]
          },
          "metadata": {
            "tags": []
          },
          "execution_count": 44
        }
      ]
    },
    {
      "cell_type": "code",
      "metadata": {
        "id": "lRb0qCRQJ6pm",
        "colab_type": "code",
        "outputId": "41e15fd6-21ad-4dd3-8bd9-47affe6f976d",
        "colab": {
          "base_uri": "https://localhost:8080/",
          "height": 34
        }
      },
      "source": [
        "score_auc = cross_val_score(ada, X_train_stand, y_train, scoring='roc_auc', cv=10).mean()\n",
        "\n",
        "print(score_auc)"
      ],
      "execution_count": 0,
      "outputs": [
        {
          "output_type": "stream",
          "text": [
            "0.7425173144897915\n"
          ],
          "name": "stdout"
        }
      ]
    },
    {
      "cell_type": "markdown",
      "metadata": {
        "id": "a7RvN9DqFPm0",
        "colab_type": "text"
      },
      "source": [
        "Parameter tuning (only max_depth of DecisionTreeClassifier was optimized)"
      ]
    },
    {
      "cell_type": "code",
      "metadata": {
        "id": "g3FEJo7jBVdi",
        "colab_type": "code",
        "outputId": "633b956a-811c-411d-9fa8-56f0f9da70b4",
        "colab": {
          "base_uri": "https://localhost:8080/",
          "height": 85
        }
      },
      "source": [
        "for depth in range(5,9):\n",
        "  modelada = AdaBoostClassifier(DecisionTreeClassifier(max_depth=depth), algorithm=\"SAMME.R\",n_estimators=1000)\n",
        "  score_auc = cross_val_score(modelada, X_train_stand, y_train, scoring='roc_auc', cv=10).mean()\n",
        "  print('For max_depth = {}, mean auc score = {}'.format(depth, score_auc))"
      ],
      "execution_count": 0,
      "outputs": [
        {
          "output_type": "stream",
          "text": [
            "For max_depth = 5, mean auc score = 0.9524401093300175\n",
            "For max_depth = 6, mean auc score = 0.9580554002572352\n",
            "For max_depth = 7, mean auc score = 0.9567128172541016\n",
            "For max_depth = 8, mean auc score = 0.9567224345481226\n"
          ],
          "name": "stdout"
        }
      ]
    },
    {
      "cell_type": "markdown",
      "metadata": {
        "id": "kRIy6LJxGAII",
        "colab_type": "text"
      },
      "source": [
        "Best auc score for max_depth=6"
      ]
    },
    {
      "cell_type": "code",
      "metadata": {
        "id": "XLMvGbE-Fqr0",
        "colab_type": "code",
        "outputId": "ca6db939-b4e3-4234-9ed2-52cb7030ce65",
        "colab": {
          "base_uri": "https://localhost:8080/",
          "height": 34
        }
      },
      "source": [
        "ada_optimized = AdaBoostClassifier(DecisionTreeClassifier(max_depth=6), algorithm=\"SAMME.R\",n_estimators=5000)\n",
        "\n",
        "score_auc = cross_val_score(ada_optimized, X_train_stand, y_train, scoring='roc_auc', cv=10).mean()\n",
        "\n",
        "print(score_auc)"
      ],
      "execution_count": 0,
      "outputs": [
        {
          "output_type": "stream",
          "text": [
            "0.958115619344977\n"
          ],
          "name": "stdout"
        }
      ]
    },
    {
      "cell_type": "markdown",
      "metadata": {
        "id": "EWMCze3aGxGd",
        "colab_type": "text"
      },
      "source": [
        "**Fifth model used: GradientBoostingClassifier**"
      ]
    },
    {
      "cell_type": "markdown",
      "metadata": {
        "colab_type": "text",
        "id": "isv84JuIHIFj"
      },
      "source": [
        "First bare model."
      ]
    },
    {
      "cell_type": "code",
      "metadata": {
        "id": "KLIlLsNKG5n-",
        "colab_type": "code",
        "colab": {}
      },
      "source": [
        "from sklearn.ensemble import GradientBoostingClassifier\n",
        "\n",
        "gbc = GradientBoostingClassifier(n_estimators = 500)"
      ],
      "execution_count": 0,
      "outputs": []
    },
    {
      "cell_type": "code",
      "metadata": {
        "id": "rQ8Ob7g2KiHu",
        "colab_type": "code",
        "outputId": "4a9bb226-8dfe-43b9-b5a0-ff8c7a1618c6",
        "colab": {
          "base_uri": "https://localhost:8080/",
          "height": 187
        }
      },
      "source": [
        "gbc.fit(X_train_stand, y_train)"
      ],
      "execution_count": 0,
      "outputs": [
        {
          "output_type": "execute_result",
          "data": {
            "text/plain": [
              "GradientBoostingClassifier(ccp_alpha=0.0, criterion='friedman_mse', init=None,\n",
              "                           learning_rate=0.1, loss='deviance', max_depth=3,\n",
              "                           max_features=None, max_leaf_nodes=None,\n",
              "                           min_impurity_decrease=0.0, min_impurity_split=None,\n",
              "                           min_samples_leaf=1, min_samples_split=2,\n",
              "                           min_weight_fraction_leaf=0.0, n_estimators=500,\n",
              "                           n_iter_no_change=None, presort='deprecated',\n",
              "                           random_state=None, subsample=1.0, tol=0.0001,\n",
              "                           validation_fraction=0.1, verbose=0,\n",
              "                           warm_start=False)"
            ]
          },
          "metadata": {
            "tags": []
          },
          "execution_count": 31
        }
      ]
    },
    {
      "cell_type": "code",
      "metadata": {
        "id": "UWtvnp9FKvoC",
        "colab_type": "code",
        "outputId": "35cf56be-bb4d-452e-eef3-50825467ae7a",
        "colab": {
          "base_uri": "https://localhost:8080/",
          "height": 34
        }
      },
      "source": [
        "score_auc = cross_val_score(gbc, X_train_stand, y_train, scoring='roc_auc', cv=10).mean()\n",
        "print(score_auc)"
      ],
      "execution_count": 0,
      "outputs": [
        {
          "output_type": "stream",
          "text": [
            "0.91660375709917\n"
          ],
          "name": "stdout"
        }
      ]
    },
    {
      "cell_type": "markdown",
      "metadata": {
        "id": "1wJkAwvEKyH-",
        "colab_type": "text"
      },
      "source": [
        "Parameter tuning"
      ]
    },
    {
      "cell_type": "code",
      "metadata": {
        "id": "DbKzgUBdK0Ca",
        "colab_type": "code",
        "outputId": "e0f30b9f-1d75-4a15-e2ef-1e4de5dc9fe6",
        "colab": {
          "base_uri": "https://localhost:8080/",
          "height": 323
        }
      },
      "source": [
        "gbc = GradientBoostingClassifier()\n",
        "\n",
        "estimators = [500]\n",
        "maxd = [5,10,20]\n",
        "minss = [2,5]\n",
        "minsl = [1,2,5]\n",
        "\n",
        "params = dict(n_estimators=estimators, max_depth=maxd, min_samples_split=minss, min_samples_leaf=minsl)\n",
        "grid_search = GridSearchCV(gbc, param_grid=params, scoring='roc_auc')\n",
        "\n",
        "grid_search.fit(X_train_stand, y_train)\n",
        "\n",
        "means = grid_search.cv_results_['mean_test_score']\n",
        "stds = grid_search.cv_results_['std_test_score']\n",
        "\n",
        "for mean_score, std, params in zip(means, stds, grid_search.cv_results_['params']):\n",
        "    print(\"{:.4f} (+/-{:.4f}) for {}\".format(mean_score, std * 2, params))"
      ],
      "execution_count": 0,
      "outputs": [
        {
          "output_type": "stream",
          "text": [
            "0.9300 (+/-0.0340) for {'max_depth': 5, 'min_samples_leaf': 1, 'min_samples_split': 2, 'n_estimators': 500}\n",
            "0.9298 (+/-0.0343) for {'max_depth': 5, 'min_samples_leaf': 1, 'min_samples_split': 5, 'n_estimators': 500}\n",
            "0.9308 (+/-0.0323) for {'max_depth': 5, 'min_samples_leaf': 2, 'min_samples_split': 2, 'n_estimators': 500}\n",
            "0.9289 (+/-0.0300) for {'max_depth': 5, 'min_samples_leaf': 2, 'min_samples_split': 5, 'n_estimators': 500}\n",
            "0.9292 (+/-0.0357) for {'max_depth': 5, 'min_samples_leaf': 5, 'min_samples_split': 2, 'n_estimators': 500}\n",
            "0.9310 (+/-0.0334) for {'max_depth': 5, 'min_samples_leaf': 5, 'min_samples_split': 5, 'n_estimators': 500}\n",
            "0.9247 (+/-0.0309) for {'max_depth': 10, 'min_samples_leaf': 1, 'min_samples_split': 2, 'n_estimators': 500}\n",
            "0.9286 (+/-0.0322) for {'max_depth': 10, 'min_samples_leaf': 1, 'min_samples_split': 5, 'n_estimators': 500}\n",
            "0.9287 (+/-0.0310) for {'max_depth': 10, 'min_samples_leaf': 2, 'min_samples_split': 2, 'n_estimators': 500}\n",
            "0.9294 (+/-0.0266) for {'max_depth': 10, 'min_samples_leaf': 2, 'min_samples_split': 5, 'n_estimators': 500}\n",
            "0.9307 (+/-0.0278) for {'max_depth': 10, 'min_samples_leaf': 5, 'min_samples_split': 2, 'n_estimators': 500}\n",
            "0.9333 (+/-0.0296) for {'max_depth': 10, 'min_samples_leaf': 5, 'min_samples_split': 5, 'n_estimators': 500}\n",
            "0.8424 (+/-0.0590) for {'max_depth': 20, 'min_samples_leaf': 1, 'min_samples_split': 2, 'n_estimators': 500}\n",
            "0.8660 (+/-0.0604) for {'max_depth': 20, 'min_samples_leaf': 1, 'min_samples_split': 5, 'n_estimators': 500}\n",
            "0.9067 (+/-0.0301) for {'max_depth': 20, 'min_samples_leaf': 2, 'min_samples_split': 2, 'n_estimators': 500}\n",
            "0.9103 (+/-0.0302) for {'max_depth': 20, 'min_samples_leaf': 2, 'min_samples_split': 5, 'n_estimators': 500}\n",
            "0.9282 (+/-0.0350) for {'max_depth': 20, 'min_samples_leaf': 5, 'min_samples_split': 2, 'n_estimators': 500}\n",
            "0.9279 (+/-0.0366) for {'max_depth': 20, 'min_samples_leaf': 5, 'min_samples_split': 5, 'n_estimators': 500}\n"
          ],
          "name": "stdout"
        }
      ]
    },
    {
      "cell_type": "markdown",
      "metadata": {
        "id": "COcTjG-5McQD",
        "colab_type": "text"
      },
      "source": [
        "Best auc score for: max_depth=10 , min_samples_split=5 ,min_samples_leaf=5 ."
      ]
    },
    {
      "cell_type": "code",
      "metadata": {
        "id": "3XSK4Q6_Ocyi",
        "colab_type": "code",
        "outputId": "0ba2adc5-f5b4-405e-eb9e-365eb1ac9468",
        "colab": {
          "base_uri": "https://localhost:8080/",
          "height": 34
        }
      },
      "source": [
        "gbc_optimized = GradientBoostingClassifier(n_estimators = 5000, max_depth=10, min_samples_leaf=5, min_samples_split=5)\n",
        "\n",
        "score_auc = cross_val_score(gbc_optimized, X_train_stand, y_train, scoring='roc_auc', cv=10).mean()\n",
        "\n",
        "print(score_auc)"
      ],
      "execution_count": 0,
      "outputs": [
        {
          "output_type": "stream",
          "text": [
            "0.9384010596946377\n"
          ],
          "name": "stdout"
        }
      ]
    },
    {
      "cell_type": "markdown",
      "metadata": {
        "id": "RJ2vy27iPH7_",
        "colab_type": "text"
      },
      "source": [
        "**actual stacking**"
      ]
    },
    {
      "cell_type": "markdown",
      "metadata": {
        "id": "wZmk3W6CQyqP",
        "colab_type": "text"
      },
      "source": [
        "Meta model = logistic regression"
      ]
    },
    {
      "cell_type": "code",
      "metadata": {
        "id": "gBDWSwxqPJyX",
        "colab_type": "code",
        "outputId": "2a0d79d5-62c5-4374-9ad7-22317f5991ac",
        "colab": {
          "base_uri": "https://localhost:8080/",
          "height": 510
        }
      },
      "source": [
        "from sklearn.svm import SVC\n",
        "import xgboost as xgb\n",
        "from sklearn.ensemble import RandomForestClassifier\n",
        "from sklearn.ensemble import AdaBoostClassifier\n",
        "from sklearn.tree import DecisionTreeClassifier\n",
        "from sklearn.ensemble import GradientBoostingClassifier\n",
        "from sklearn.ensemble import StackingClassifier\n",
        "from sklearn.linear_model import LogisticRegression\n",
        "\n",
        "level01 = list()\n",
        "level01.append(('svm', SVC(C=5, gamma=0.4, probability=True)))\n",
        "level01.append(('XGB', xgb.XGBClassifier(objective ='binary:logistic', learning_rate=0.01, n_estimators = 5000, max_depth = 10, min_child_weight=1, gamma=0, subsample=0.75, colsample_bytree = 0.9, scale_pos_weight=1, seed=27)))\n",
        "level01.append(('RFC', RandomForestClassifier(max_depth=30,min_samples_leaf=1, min_samples_split=2, n_estimators=5000)))\n",
        "level01.append(('ADA', AdaBoostClassifier(DecisionTreeClassifier(max_depth=6), algorithm=\"SAMME.R\",n_estimators=5000)))\n",
        "level01.append(('GBC', GradientBoostingClassifier(n_estimators = 5000, max_depth=10, min_samples_leaf=5, min_samples_split=5)))\n",
        "\n",
        "level11 = LogisticRegression()\n",
        "\n",
        "modelstack1 = StackingClassifier(estimators=level01, final_estimator=level11, cv=20)\n",
        "\n",
        "modelstack1.fit(X_train_stand, y_train)"
      ],
      "execution_count": 0,
      "outputs": [
        {
          "output_type": "execute_result",
          "data": {
            "text/plain": [
              "StackingClassifier(cv=20,\n",
              "                   estimators=[('svm',\n",
              "                                SVC(C=5, break_ties=False, cache_size=200,\n",
              "                                    class_weight=None, coef0=0.0,\n",
              "                                    decision_function_shape='ovr', degree=3,\n",
              "                                    gamma=0.4, kernel='rbf', max_iter=-1,\n",
              "                                    probability=True, random_state=None,\n",
              "                                    shrinking=True, tol=0.001, verbose=False)),\n",
              "                               ('XGB',\n",
              "                                XGBClassifier(base_score=0.5, booster='gbtree',\n",
              "                                              colsample_bylevel=1,\n",
              "                                              colsample_bynod...\n",
              "                                                           validation_fraction=0.1,\n",
              "                                                           verbose=0,\n",
              "                                                           warm_start=False))],\n",
              "                   final_estimator=LogisticRegression(C=1.0, class_weight=None,\n",
              "                                                      dual=False,\n",
              "                                                      fit_intercept=True,\n",
              "                                                      intercept_scaling=1,\n",
              "                                                      l1_ratio=None,\n",
              "                                                      max_iter=100,\n",
              "                                                      multi_class='auto',\n",
              "                                                      n_jobs=None, penalty='l2',\n",
              "                                                      random_state=None,\n",
              "                                                      solver='lbfgs',\n",
              "                                                      tol=0.0001, verbose=0,\n",
              "                                                      warm_start=False),\n",
              "                   n_jobs=None, passthrough=False, stack_method='auto',\n",
              "                   verbose=0)"
            ]
          },
          "metadata": {
            "tags": []
          },
          "execution_count": 36
        }
      ]
    },
    {
      "cell_type": "markdown",
      "metadata": {
        "id": "BvJs2RVcPXeW",
        "colab_type": "text"
      },
      "source": [
        "Now I make predictions with this model on the test values."
      ]
    },
    {
      "cell_type": "code",
      "metadata": {
        "id": "PEIp_V0sPUiY",
        "colab_type": "code",
        "outputId": "9cfc911a-9476-40b5-f14d-8dd75ee90af7",
        "colab": {
          "base_uri": "https://localhost:8080/",
          "height": 180
        }
      },
      "source": [
        "predictions_stack1 = modelstack1.predict_proba(X_test_stand)\n",
        "predictions_stack1"
      ],
      "execution_count": 4,
      "outputs": [
        {
          "output_type": "error",
          "ename": "NameError",
          "evalue": "ignored",
          "traceback": [
            "\u001b[0;31m---------------------------------------------------------------------------\u001b[0m",
            "\u001b[0;31mNameError\u001b[0m                                 Traceback (most recent call last)",
            "\u001b[0;32m<ipython-input-4-8c1def550351>\u001b[0m in \u001b[0;36m<module>\u001b[0;34m()\u001b[0m\n\u001b[0;32m----> 1\u001b[0;31m \u001b[0mpredictions_stack1\u001b[0m \u001b[0;34m=\u001b[0m \u001b[0mmodelstack1\u001b[0m\u001b[0;34m.\u001b[0m\u001b[0mpredict_proba\u001b[0m\u001b[0;34m(\u001b[0m\u001b[0mX_test_stand\u001b[0m\u001b[0;34m)\u001b[0m\u001b[0;34m\u001b[0m\u001b[0;34m\u001b[0m\u001b[0m\n\u001b[0m\u001b[1;32m      2\u001b[0m \u001b[0mpredictions_stack1\u001b[0m\u001b[0;34m\u001b[0m\u001b[0;34m\u001b[0m\u001b[0m\n",
            "\u001b[0;31mNameError\u001b[0m: name 'modelstack1' is not defined"
          ]
        }
      ]
    },
    {
      "cell_type": "markdown",
      "metadata": {
        "colab_type": "text",
        "id": "cUX2KK_IePvs"
      },
      "source": [
        "Now I put the probabilities of our test values having label 1 (second column) into a suitable dataframe with 2 columns."
      ]
    },
    {
      "cell_type": "code",
      "metadata": {
        "id": "v2j_TQWzalt9",
        "colab_type": "code",
        "outputId": "b056b721-65e1-4d66-9294-5073c1b8b467",
        "colab": {
          "base_uri": "https://localhost:8080/",
          "height": 419
        }
      },
      "source": [
        "resultsStack = pd.DataFrame()\n",
        "resultsStack['index'] = testset['index']\n",
        "resultsStack['label'] = predictions_stack1[:,1]\n",
        "resultsStack"
      ],
      "execution_count": 0,
      "outputs": [
        {
          "output_type": "execute_result",
          "data": {
            "text/html": [
              "<div>\n",
              "<style scoped>\n",
              "    .dataframe tbody tr th:only-of-type {\n",
              "        vertical-align: middle;\n",
              "    }\n",
              "\n",
              "    .dataframe tbody tr th {\n",
              "        vertical-align: top;\n",
              "    }\n",
              "\n",
              "    .dataframe thead th {\n",
              "        text-align: right;\n",
              "    }\n",
              "</style>\n",
              "<table border=\"1\" class=\"dataframe\">\n",
              "  <thead>\n",
              "    <tr style=\"text-align: right;\">\n",
              "      <th></th>\n",
              "      <th>index</th>\n",
              "      <th>label</th>\n",
              "    </tr>\n",
              "  </thead>\n",
              "  <tbody>\n",
              "    <tr>\n",
              "      <th>0</th>\n",
              "      <td>0</td>\n",
              "      <td>0.022244</td>\n",
              "    </tr>\n",
              "    <tr>\n",
              "      <th>1</th>\n",
              "      <td>1</td>\n",
              "      <td>0.357745</td>\n",
              "    </tr>\n",
              "    <tr>\n",
              "      <th>2</th>\n",
              "      <td>2</td>\n",
              "      <td>0.025213</td>\n",
              "    </tr>\n",
              "    <tr>\n",
              "      <th>3</th>\n",
              "      <td>3</td>\n",
              "      <td>0.984129</td>\n",
              "    </tr>\n",
              "    <tr>\n",
              "      <th>4</th>\n",
              "      <td>4</td>\n",
              "      <td>0.981531</td>\n",
              "    </tr>\n",
              "    <tr>\n",
              "      <th>...</th>\n",
              "      <td>...</td>\n",
              "      <td>...</td>\n",
              "    </tr>\n",
              "    <tr>\n",
              "      <th>12887</th>\n",
              "      <td>12887</td>\n",
              "      <td>0.079106</td>\n",
              "    </tr>\n",
              "    <tr>\n",
              "      <th>12888</th>\n",
              "      <td>12888</td>\n",
              "      <td>0.957482</td>\n",
              "    </tr>\n",
              "    <tr>\n",
              "      <th>12889</th>\n",
              "      <td>12889</td>\n",
              "      <td>0.979643</td>\n",
              "    </tr>\n",
              "    <tr>\n",
              "      <th>12890</th>\n",
              "      <td>12890</td>\n",
              "      <td>0.967656</td>\n",
              "    </tr>\n",
              "    <tr>\n",
              "      <th>12891</th>\n",
              "      <td>12891</td>\n",
              "      <td>0.027047</td>\n",
              "    </tr>\n",
              "  </tbody>\n",
              "</table>\n",
              "<p>12892 rows × 2 columns</p>\n",
              "</div>"
            ],
            "text/plain": [
              "       index     label\n",
              "0          0  0.022244\n",
              "1          1  0.357745\n",
              "2          2  0.025213\n",
              "3          3  0.984129\n",
              "4          4  0.981531\n",
              "...      ...       ...\n",
              "12887  12887  0.079106\n",
              "12888  12888  0.957482\n",
              "12889  12889  0.979643\n",
              "12890  12890  0.967656\n",
              "12891  12891  0.027047\n",
              "\n",
              "[12892 rows x 2 columns]"
            ]
          },
          "metadata": {
            "tags": []
          },
          "execution_count": 41
        }
      ]
    },
    {
      "cell_type": "markdown",
      "metadata": {
        "colab_type": "text",
        "id": "r3Dt9LnZekmt"
      },
      "source": [
        "For the final part, the predictions can be exported as a csv file."
      ]
    },
    {
      "cell_type": "code",
      "metadata": {
        "id": "AYZ8hMwJaxpw",
        "colab_type": "code",
        "colab": {}
      },
      "source": [
        "filename = \"my_prediction_resultsStackFinal.csv\"\n",
        "\n",
        "#make sure to not write the Pandas index column (index=False)\n",
        "resultsStack.to_csv(filename,index=False)"
      ],
      "execution_count": 0,
      "outputs": []
    },
    {
      "cell_type": "markdown",
      "metadata": {
        "id": "6eu0Mt0ou4AW",
        "colab_type": "text"
      },
      "source": [
        "# **Comparison of the models**"
      ]
    },
    {
      "cell_type": "code",
      "metadata": {
        "id": "x1UjOeoku60J",
        "colab_type": "code",
        "colab": {
          "base_uri": "https://localhost:8080/",
          "height": 214
        },
        "outputId": "95523997-0aaa-4f44-b9b4-71c982c93e7b"
      },
      "source": [
        "comp = pd.DataFrame()\n",
        "comp['model1'] = resultsSVC['label']\n",
        "comp['model2'] = resultsStack['label']\n",
        "comp"
      ],
      "execution_count": 2,
      "outputs": [
        {
          "output_type": "error",
          "ename": "NameError",
          "evalue": "ignored",
          "traceback": [
            "\u001b[0;31m---------------------------------------------------------------------------\u001b[0m",
            "\u001b[0;31mNameError\u001b[0m                                 Traceback (most recent call last)",
            "\u001b[0;32m<ipython-input-2-6923d1b5cc17>\u001b[0m in \u001b[0;36m<module>\u001b[0;34m()\u001b[0m\n\u001b[0;32m----> 1\u001b[0;31m \u001b[0mcomp\u001b[0m \u001b[0;34m=\u001b[0m \u001b[0mpd\u001b[0m\u001b[0;34m.\u001b[0m\u001b[0mDataFrame\u001b[0m\u001b[0;34m(\u001b[0m\u001b[0;34m)\u001b[0m\u001b[0;34m\u001b[0m\u001b[0;34m\u001b[0m\u001b[0m\n\u001b[0m\u001b[1;32m      2\u001b[0m \u001b[0mcomp\u001b[0m\u001b[0;34m[\u001b[0m\u001b[0;34m'model1'\u001b[0m\u001b[0;34m]\u001b[0m \u001b[0;34m=\u001b[0m \u001b[0mresultsSVC\u001b[0m\u001b[0;34m[\u001b[0m\u001b[0;34m'label'\u001b[0m\u001b[0;34m]\u001b[0m\u001b[0;34m\u001b[0m\u001b[0;34m\u001b[0m\u001b[0m\n\u001b[1;32m      3\u001b[0m \u001b[0mcomp\u001b[0m\u001b[0;34m[\u001b[0m\u001b[0;34m'model2'\u001b[0m\u001b[0;34m]\u001b[0m \u001b[0;34m=\u001b[0m \u001b[0mresultsStack\u001b[0m\u001b[0;34m[\u001b[0m\u001b[0;34m'label'\u001b[0m\u001b[0;34m]\u001b[0m\u001b[0;34m\u001b[0m\u001b[0;34m\u001b[0m\u001b[0m\n\u001b[1;32m      4\u001b[0m \u001b[0mcomp\u001b[0m\u001b[0;34m\u001b[0m\u001b[0;34m\u001b[0m\u001b[0m\n",
            "\u001b[0;31mNameError\u001b[0m: name 'pd' is not defined"
          ]
        }
      ]
    },
    {
      "cell_type": "code",
      "metadata": {
        "id": "tfym4s-CvISD",
        "colab_type": "code",
        "colab": {
          "base_uri": "https://localhost:8080/",
          "height": 248
        },
        "outputId": "b8c9f511-7b79-40a2-f2ab-2fffa3a0529b"
      },
      "source": [
        "plt.figure(figsize=(20,15))\n",
        "\n",
        "sns.scatterplot(data=comp)\n",
        "plt.legend()\n",
        "plt.show()"
      ],
      "execution_count": 5,
      "outputs": [
        {
          "output_type": "error",
          "ename": "NameError",
          "evalue": "ignored",
          "traceback": [
            "\u001b[0;31m---------------------------------------------------------------------------\u001b[0m",
            "\u001b[0;31mNameError\u001b[0m                                 Traceback (most recent call last)",
            "\u001b[0;32m<ipython-input-5-59d564493257>\u001b[0m in \u001b[0;36m<module>\u001b[0;34m()\u001b[0m\n\u001b[1;32m      1\u001b[0m \u001b[0mplt\u001b[0m\u001b[0;34m.\u001b[0m\u001b[0mfigure\u001b[0m\u001b[0;34m(\u001b[0m\u001b[0mfigsize\u001b[0m\u001b[0;34m=\u001b[0m\u001b[0;34m(\u001b[0m\u001b[0;36m20\u001b[0m\u001b[0;34m,\u001b[0m\u001b[0;36m15\u001b[0m\u001b[0;34m)\u001b[0m\u001b[0;34m)\u001b[0m\u001b[0;34m\u001b[0m\u001b[0;34m\u001b[0m\u001b[0m\n\u001b[1;32m      2\u001b[0m \u001b[0;34m\u001b[0m\u001b[0m\n\u001b[0;32m----> 3\u001b[0;31m \u001b[0msns\u001b[0m\u001b[0;34m.\u001b[0m\u001b[0mscatterplot\u001b[0m\u001b[0;34m(\u001b[0m\u001b[0mdata\u001b[0m\u001b[0;34m=\u001b[0m\u001b[0mcomp\u001b[0m\u001b[0;34m)\u001b[0m\u001b[0;34m\u001b[0m\u001b[0;34m\u001b[0m\u001b[0m\n\u001b[0m\u001b[1;32m      4\u001b[0m \u001b[0mplt\u001b[0m\u001b[0;34m.\u001b[0m\u001b[0mlegend\u001b[0m\u001b[0;34m(\u001b[0m\u001b[0mloc\u001b[0m\u001b[0;34m=\u001b[0m\u001b[0;34m'upper left'\u001b[0m\u001b[0;34m)\u001b[0m\u001b[0;34m\u001b[0m\u001b[0;34m\u001b[0m\u001b[0m\n\u001b[1;32m      5\u001b[0m \u001b[0mplt\u001b[0m\u001b[0;34m.\u001b[0m\u001b[0mshow\u001b[0m\u001b[0;34m(\u001b[0m\u001b[0;34m)\u001b[0m\u001b[0;34m\u001b[0m\u001b[0;34m\u001b[0m\u001b[0m\n",
            "\u001b[0;31mNameError\u001b[0m: name 'comp' is not defined"
          ]
        },
        {
          "output_type": "display_data",
          "data": {
            "text/plain": [
              "<Figure size 1440x1080 with 0 Axes>"
            ]
          },
          "metadata": {
            "tags": []
          }
        }
      ]
    },
    {
      "cell_type": "markdown",
      "metadata": {
        "id": "BMQeyrs_4umh",
        "colab_type": "text"
      },
      "source": [
        "We can see that model 1 reacher more extreme values for the probabilties of the labels."
      ]
    },
    {
      "cell_type": "code",
      "metadata": {
        "id": "-9dQa1l23clN",
        "colab_type": "code",
        "colab": {
          "base_uri": "https://localhost:8080/",
          "height": 483
        },
        "outputId": "135da4ee-e15f-4aeb-dcaf-2a12af3291de"
      },
      "source": [
        "#The score of all my Kaggle attempts\n",
        "resultskaggle = [0.67936, 0.87290, 0.95857, 0.96005, 0.96978, 0.96360, 0.93229, 0.96931, 0.96355, 0.96479, 0.97130, 0.97222, 0.97230, 0.97224, 0.97379, 0.96364, 0.97182, 0.97396, 0.96602]\n",
        "tries = range(1,20)\n",
        "\n",
        "plt.figure(figsize=(20,8))\n",
        "\n",
        "attempts = sns.lineplot(x=tries, y=resultskaggle)\n",
        "attempts.set_xticks(range(1,20))\n",
        "plt.show()"
      ],
      "execution_count": 4,
      "outputs": [
        {
          "output_type": "display_data",
          "data": {
            "image/png": "[encoded data removed]",
            "text/plain": [
              "<Figure size 1440x576 with 1 Axes>"
            ]
          },
          "metadata": {
            "tags": [],
            "needs_background": "light"
          }
        }
      ]
    }
  ]
}